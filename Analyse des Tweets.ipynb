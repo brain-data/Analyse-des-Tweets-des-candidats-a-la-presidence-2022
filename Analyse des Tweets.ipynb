{
  "nbformat": 4,
  "nbformat_minor": 0,
  "metadata": {
    "colab": {
      "name": "politiqueProject_FinalVersion.ipynb",
      "provenance": [],
      "collapsed_sections": [],
      "authorship_tag": "ABX9TyNWfs03EnAc38AyTt1e1DST",
      "include_colab_link": true
    },
    "kernelspec": {
      "name": "python3",
      "display_name": "Python 3"
    },
    "language_info": {
      "name": "python"
    }
  },
  "cells": [
    {
      "cell_type": "markdown",
      "metadata": {
        "id": "view-in-github",
        "colab_type": "text"
      },
      "source": [
        "<a href=\"https://colab.research.google.com/github/RassimCHEBLI/Tweets-des-candidats/blob/main/politiqueProject_FinalVersion.ipynb\" target=\"_parent\"><img src=\"https://colab.research.google.com/assets/colab-badge.svg\" alt=\"Open In Colab\"/></a>"
      ]
    },
    {
      "cell_type": "code",
      "source": [
        "import os\n",
        "from google.colab import drive\n",
        "drive.mount('drive/')"
      ],
      "metadata": {
        "colab": {
          "base_uri": "https://localhost:8080/"
        },
        "id": "UU93hQavBay3",
        "outputId": "136ba1c3-a803-495a-ddc0-e0dcf9bb4088"
      },
      "execution_count": 1,
      "outputs": [
        {
          "output_type": "stream",
          "name": "stdout",
          "text": [
            "Mounted at drive/\n"
          ]
        }
      ]
    },
    {
      "cell_type": "code",
      "source": [
        "os.chdir('/content/drive/MyDrive/datascience_nlp')"
      ],
      "metadata": {
        "id": "nbF9C17qB0HN"
      },
      "execution_count": 2,
      "outputs": []
    },
    {
      "cell_type": "code",
      "source": [
        "!pip install scattertext\n",
        "!pip install spacy\n",
        "!pip install nltk\n",
        "!pip install termcolor"
      ],
      "metadata": {
        "colab": {
          "base_uri": "https://localhost:8080/"
        },
        "id": "5iVPmheIB7_W",
        "outputId": "e5220b36-a051-4444-aaf3-d50d99599e85"
      },
      "execution_count": 3,
      "outputs": [
        {
          "output_type": "stream",
          "name": "stdout",
          "text": [
            "Collecting scattertext\n",
            "  Downloading scattertext-0.1.6-py3-none-any.whl (7.3 MB)\n",
            "\u001b[K     |████████████████████████████████| 7.3 MB 4.3 MB/s \n",
            "\u001b[?25hRequirement already satisfied: scipy in /usr/local/lib/python3.7/dist-packages (from scattertext) (1.4.1)\n",
            "Requirement already satisfied: statsmodels in /usr/local/lib/python3.7/dist-packages (from scattertext) (0.10.2)\n",
            "Collecting mock\n",
            "  Downloading mock-4.0.3-py3-none-any.whl (28 kB)\n",
            "Requirement already satisfied: numpy in /usr/local/lib/python3.7/dist-packages (from scattertext) (1.21.5)\n",
            "Requirement already satisfied: six in /usr/local/lib/python3.7/dist-packages (from scattertext) (1.15.0)\n",
            "Requirement already satisfied: pandas in /usr/local/lib/python3.7/dist-packages (from scattertext) (1.3.5)\n",
            "Collecting gensim>=4.0.0\n",
            "  Downloading gensim-4.1.2-cp37-cp37m-manylinux_2_12_x86_64.manylinux2010_x86_64.whl (24.1 MB)\n",
            "\u001b[K     |████████████████████████████████| 24.1 MB 1.3 MB/s \n",
            "\u001b[?25hCollecting flashtext\n",
            "  Downloading flashtext-2.7.tar.gz (14 kB)\n",
            "Requirement already satisfied: scikit-learn in /usr/local/lib/python3.7/dist-packages (from scattertext) (1.0.2)\n",
            "Requirement already satisfied: smart-open>=1.8.1 in /usr/local/lib/python3.7/dist-packages (from gensim>=4.0.0->scattertext) (5.2.1)\n",
            "Requirement already satisfied: pytz>=2017.3 in /usr/local/lib/python3.7/dist-packages (from pandas->scattertext) (2018.9)\n",
            "Requirement already satisfied: python-dateutil>=2.7.3 in /usr/local/lib/python3.7/dist-packages (from pandas->scattertext) (2.8.2)\n",
            "Requirement already satisfied: joblib>=0.11 in /usr/local/lib/python3.7/dist-packages (from scikit-learn->scattertext) (1.1.0)\n",
            "Requirement already satisfied: threadpoolctl>=2.0.0 in /usr/local/lib/python3.7/dist-packages (from scikit-learn->scattertext) (3.1.0)\n",
            "Requirement already satisfied: patsy>=0.4.0 in /usr/local/lib/python3.7/dist-packages (from statsmodels->scattertext) (0.5.2)\n",
            "Building wheels for collected packages: flashtext\n",
            "  Building wheel for flashtext (setup.py) ... \u001b[?25l\u001b[?25hdone\n",
            "  Created wheel for flashtext: filename=flashtext-2.7-py2.py3-none-any.whl size=9309 sha256=bc58125578021cdf3a27abf998fe8167d90f7f645855e8685e9e6bdc94ec1438\n",
            "  Stored in directory: /root/.cache/pip/wheels/cb/19/58/4e8fdd0009a7f89dbce3c18fff2e0d0fa201d5cdfd16f113b7\n",
            "Successfully built flashtext\n",
            "Installing collected packages: mock, gensim, flashtext, scattertext\n",
            "  Attempting uninstall: gensim\n",
            "    Found existing installation: gensim 3.6.0\n",
            "    Uninstalling gensim-3.6.0:\n",
            "      Successfully uninstalled gensim-3.6.0\n",
            "Successfully installed flashtext-2.7 gensim-4.1.2 mock-4.0.3 scattertext-0.1.6\n",
            "Requirement already satisfied: spacy in /usr/local/lib/python3.7/dist-packages (2.2.4)\n",
            "Requirement already satisfied: srsly<1.1.0,>=1.0.2 in /usr/local/lib/python3.7/dist-packages (from spacy) (1.0.5)\n",
            "Requirement already satisfied: catalogue<1.1.0,>=0.0.7 in /usr/local/lib/python3.7/dist-packages (from spacy) (1.0.0)\n",
            "Requirement already satisfied: murmurhash<1.1.0,>=0.28.0 in /usr/local/lib/python3.7/dist-packages (from spacy) (1.0.6)\n",
            "Requirement already satisfied: numpy>=1.15.0 in /usr/local/lib/python3.7/dist-packages (from spacy) (1.21.5)\n",
            "Requirement already satisfied: tqdm<5.0.0,>=4.38.0 in /usr/local/lib/python3.7/dist-packages (from spacy) (4.63.0)\n",
            "Requirement already satisfied: setuptools in /usr/local/lib/python3.7/dist-packages (from spacy) (57.4.0)\n",
            "Requirement already satisfied: wasabi<1.1.0,>=0.4.0 in /usr/local/lib/python3.7/dist-packages (from spacy) (0.9.0)\n",
            "Requirement already satisfied: cymem<2.1.0,>=2.0.2 in /usr/local/lib/python3.7/dist-packages (from spacy) (2.0.6)\n",
            "Requirement already satisfied: blis<0.5.0,>=0.4.0 in /usr/local/lib/python3.7/dist-packages (from spacy) (0.4.1)\n",
            "Requirement already satisfied: plac<1.2.0,>=0.9.6 in /usr/local/lib/python3.7/dist-packages (from spacy) (1.1.3)\n",
            "Requirement already satisfied: thinc==7.4.0 in /usr/local/lib/python3.7/dist-packages (from spacy) (7.4.0)\n",
            "Requirement already satisfied: requests<3.0.0,>=2.13.0 in /usr/local/lib/python3.7/dist-packages (from spacy) (2.23.0)\n",
            "Requirement already satisfied: preshed<3.1.0,>=3.0.2 in /usr/local/lib/python3.7/dist-packages (from spacy) (3.0.6)\n",
            "Requirement already satisfied: importlib-metadata>=0.20 in /usr/local/lib/python3.7/dist-packages (from catalogue<1.1.0,>=0.0.7->spacy) (4.11.3)\n",
            "Requirement already satisfied: zipp>=0.5 in /usr/local/lib/python3.7/dist-packages (from importlib-metadata>=0.20->catalogue<1.1.0,>=0.0.7->spacy) (3.7.0)\n",
            "Requirement already satisfied: typing-extensions>=3.6.4 in /usr/local/lib/python3.7/dist-packages (from importlib-metadata>=0.20->catalogue<1.1.0,>=0.0.7->spacy) (3.10.0.2)\n",
            "Requirement already satisfied: chardet<4,>=3.0.2 in /usr/local/lib/python3.7/dist-packages (from requests<3.0.0,>=2.13.0->spacy) (3.0.4)\n",
            "Requirement already satisfied: certifi>=2017.4.17 in /usr/local/lib/python3.7/dist-packages (from requests<3.0.0,>=2.13.0->spacy) (2021.10.8)\n",
            "Requirement already satisfied: idna<3,>=2.5 in /usr/local/lib/python3.7/dist-packages (from requests<3.0.0,>=2.13.0->spacy) (2.10)\n",
            "Requirement already satisfied: urllib3!=1.25.0,!=1.25.1,<1.26,>=1.21.1 in /usr/local/lib/python3.7/dist-packages (from requests<3.0.0,>=2.13.0->spacy) (1.24.3)\n",
            "Requirement already satisfied: nltk in /usr/local/lib/python3.7/dist-packages (3.2.5)\n",
            "Requirement already satisfied: six in /usr/local/lib/python3.7/dist-packages (from nltk) (1.15.0)\n",
            "Requirement already satisfied: termcolor in /usr/local/lib/python3.7/dist-packages (1.1.0)\n"
          ]
        }
      ]
    },
    {
      "cell_type": "code",
      "source": [
        "!python -m spacy download fr_core_news_md"
      ],
      "metadata": {
        "colab": {
          "base_uri": "https://localhost:8080/"
        },
        "id": "T8xUk3zdCO6X",
        "outputId": "9d2ef332-445f-4ac0-f74b-798b1260ba97"
      },
      "execution_count": 4,
      "outputs": [
        {
          "output_type": "stream",
          "name": "stdout",
          "text": [
            "Collecting fr_core_news_md==2.2.5\n",
            "  Downloading https://github.com/explosion/spacy-models/releases/download/fr_core_news_md-2.2.5/fr_core_news_md-2.2.5.tar.gz (88.6 MB)\n",
            "\u001b[K     |████████████████████████████████| 88.6 MB 1.8 MB/s \n",
            "\u001b[?25hRequirement already satisfied: spacy>=2.2.2 in /usr/local/lib/python3.7/dist-packages (from fr_core_news_md==2.2.5) (2.2.4)\n",
            "Requirement already satisfied: numpy>=1.15.0 in /usr/local/lib/python3.7/dist-packages (from spacy>=2.2.2->fr_core_news_md==2.2.5) (1.21.5)\n",
            "Requirement already satisfied: wasabi<1.1.0,>=0.4.0 in /usr/local/lib/python3.7/dist-packages (from spacy>=2.2.2->fr_core_news_md==2.2.5) (0.9.0)\n",
            "Requirement already satisfied: setuptools in /usr/local/lib/python3.7/dist-packages (from spacy>=2.2.2->fr_core_news_md==2.2.5) (57.4.0)\n",
            "Requirement already satisfied: plac<1.2.0,>=0.9.6 in /usr/local/lib/python3.7/dist-packages (from spacy>=2.2.2->fr_core_news_md==2.2.5) (1.1.3)\n",
            "Requirement already satisfied: requests<3.0.0,>=2.13.0 in /usr/local/lib/python3.7/dist-packages (from spacy>=2.2.2->fr_core_news_md==2.2.5) (2.23.0)\n",
            "Requirement already satisfied: blis<0.5.0,>=0.4.0 in /usr/local/lib/python3.7/dist-packages (from spacy>=2.2.2->fr_core_news_md==2.2.5) (0.4.1)\n",
            "Requirement already satisfied: catalogue<1.1.0,>=0.0.7 in /usr/local/lib/python3.7/dist-packages (from spacy>=2.2.2->fr_core_news_md==2.2.5) (1.0.0)\n",
            "Requirement already satisfied: preshed<3.1.0,>=3.0.2 in /usr/local/lib/python3.7/dist-packages (from spacy>=2.2.2->fr_core_news_md==2.2.5) (3.0.6)\n",
            "Requirement already satisfied: cymem<2.1.0,>=2.0.2 in /usr/local/lib/python3.7/dist-packages (from spacy>=2.2.2->fr_core_news_md==2.2.5) (2.0.6)\n",
            "Requirement already satisfied: thinc==7.4.0 in /usr/local/lib/python3.7/dist-packages (from spacy>=2.2.2->fr_core_news_md==2.2.5) (7.4.0)\n",
            "Requirement already satisfied: tqdm<5.0.0,>=4.38.0 in /usr/local/lib/python3.7/dist-packages (from spacy>=2.2.2->fr_core_news_md==2.2.5) (4.63.0)\n",
            "Requirement already satisfied: srsly<1.1.0,>=1.0.2 in /usr/local/lib/python3.7/dist-packages (from spacy>=2.2.2->fr_core_news_md==2.2.5) (1.0.5)\n",
            "Requirement already satisfied: murmurhash<1.1.0,>=0.28.0 in /usr/local/lib/python3.7/dist-packages (from spacy>=2.2.2->fr_core_news_md==2.2.5) (1.0.6)\n",
            "Requirement already satisfied: importlib-metadata>=0.20 in /usr/local/lib/python3.7/dist-packages (from catalogue<1.1.0,>=0.0.7->spacy>=2.2.2->fr_core_news_md==2.2.5) (4.11.3)\n",
            "Requirement already satisfied: zipp>=0.5 in /usr/local/lib/python3.7/dist-packages (from importlib-metadata>=0.20->catalogue<1.1.0,>=0.0.7->spacy>=2.2.2->fr_core_news_md==2.2.5) (3.7.0)\n",
            "Requirement already satisfied: typing-extensions>=3.6.4 in /usr/local/lib/python3.7/dist-packages (from importlib-metadata>=0.20->catalogue<1.1.0,>=0.0.7->spacy>=2.2.2->fr_core_news_md==2.2.5) (3.10.0.2)\n",
            "Requirement already satisfied: urllib3!=1.25.0,!=1.25.1,<1.26,>=1.21.1 in /usr/local/lib/python3.7/dist-packages (from requests<3.0.0,>=2.13.0->spacy>=2.2.2->fr_core_news_md==2.2.5) (1.24.3)\n",
            "Requirement already satisfied: chardet<4,>=3.0.2 in /usr/local/lib/python3.7/dist-packages (from requests<3.0.0,>=2.13.0->spacy>=2.2.2->fr_core_news_md==2.2.5) (3.0.4)\n",
            "Requirement already satisfied: idna<3,>=2.5 in /usr/local/lib/python3.7/dist-packages (from requests<3.0.0,>=2.13.0->spacy>=2.2.2->fr_core_news_md==2.2.5) (2.10)\n",
            "Requirement already satisfied: certifi>=2017.4.17 in /usr/local/lib/python3.7/dist-packages (from requests<3.0.0,>=2.13.0->spacy>=2.2.2->fr_core_news_md==2.2.5) (2021.10.8)\n",
            "Building wheels for collected packages: fr-core-news-md\n",
            "  Building wheel for fr-core-news-md (setup.py) ... \u001b[?25l\u001b[?25hdone\n",
            "  Created wheel for fr-core-news-md: filename=fr_core_news_md-2.2.5-py3-none-any.whl size=90338488 sha256=ecb8d83f835d3ffc03887ace5ed765c90a6887c3cae00047462fc68b44f4a36e\n",
            "  Stored in directory: /tmp/pip-ephem-wheel-cache-9xb3v9gu/wheels/2e/26/ff/ce93eb966e7176ebe81e6c98209582e13e108cdd2d6d636df0\n",
            "Successfully built fr-core-news-md\n",
            "Installing collected packages: fr-core-news-md\n",
            "Successfully installed fr-core-news-md-2.2.5\n",
            "\u001b[38;5;2m✔ Download and installation successful\u001b[0m\n",
            "You can now load the model via spacy.load('fr_core_news_md')\n"
          ]
        }
      ]
    },
    {
      "cell_type": "code",
      "source": [
        "import pandas as pd\n",
        "import matplotlib.pyplot as plt\n",
        "import numpy as np\n",
        "from time import time\n",
        "import datetime\n",
        "import seaborn as sns\n",
        "# Modules de traitement du texte\n",
        "import spacy\n",
        "import fr_core_news_md\n",
        "import nltk\n",
        "import re\n",
        "from termcolor import colored\n",
        "\n",
        "# Modules pour le wordcloud\n",
        "from PIL import Image\n",
        "from wordcloud import WordCloud, STOPWORDS, ImageColorGenerator\n",
        "\n",
        "# Module pour scattertext\n",
        "import scattertext as st\n",
        "\n",
        "# Modules de modélisation\n",
        "from sklearn.utils.fixes import loguniform\n",
        "from sklearn.feature_extraction.text import TfidfVectorizer\n",
        "from sklearn.pipeline import Pipeline\n",
        "from sklearn.compose import ColumnTransformer\n",
        "from sklearn.model_selection import GridSearchCV, RandomizedSearchCV, train_test_split\n",
        "from sklearn.linear_model import LogisticRegression\n",
        "from sklearn.metrics import ConfusionMatrixDisplay, classification_report\n"
      ],
      "metadata": {
        "id": "g4a2KTwtCooZ"
      },
      "execution_count": 5,
      "outputs": []
    },
    {
      "cell_type": "code",
      "source": [
        "os.chdir('/content/drive/MyDrive/datascience_nlp')"
      ],
      "metadata": {
        "id": "ZsZRRaZzCyxQ"
      },
      "execution_count": 6,
      "outputs": []
    },
    {
      "cell_type": "code",
      "source": [
        "ls\n"
      ],
      "metadata": {
        "colab": {
          "base_uri": "https://localhost:8080/"
        },
        "id": "0BNuE_FaDVG4",
        "outputId": "d8b9e3d4-5cd7-48cc-c9c3-cb19246fc38e"
      },
      "execution_count": 7,
      "outputs": [
        {
          "output_type": "stream",
          "name": "stdout",
          "text": [
            " allocine_squidgame.csv\n",
            " comments_1.csv\n",
            "'data_corona (1).csv'\n",
            " data_corona.csv\n",
            " house.csv\n",
            " immeubles-proteges-au-titre-des-monuments-historiques.csv\n",
            " KNN.xlsx\n",
            "'KNN.xlsx - Feuil1.csv'\n",
            "\"Performance_d'une_classification_exemple_du_vin_2303.ipynb\"\n",
            " performance_regression.ipynb\n",
            " tweets_politics_2022.csv\n",
            " tweets_visualisation.html\n",
            " winequality-white.csv\n"
          ]
        }
      ]
    },
    {
      "cell_type": "code",
      "source": [
        "df_tweet=pd.read_csv('tweets_politics_2022.csv')\n"
      ],
      "metadata": {
        "id": "IIUSBTPRDYQU"
      },
      "execution_count": 8,
      "outputs": []
    },
    {
      "cell_type": "code",
      "source": [
        "df_tweet"
      ],
      "metadata": {
        "colab": {
          "base_uri": "https://localhost:8080/",
          "height": 783
        },
        "id": "bB-ANOwkFJYD",
        "outputId": "e88bdb3f-2d71-444f-a778-32cee203cffd"
      },
      "execution_count": 9,
      "outputs": [
        {
          "output_type": "execute_result",
          "data": {
            "text/plain": [
              "                        id           created_at  favorite_count  \\\n",
              "0      1487771447992926210  2022-01-30 12:55:29           436.0   \n",
              "1      1487400906517848070  2022-01-29 12:23:05          2350.0   \n",
              "2      1487117751084855300  2022-01-28 17:37:55          1145.0   \n",
              "3      1487104482336989191  2022-01-28 16:45:12          1164.0   \n",
              "4      1487080530558476288  2022-01-28 15:10:01          1591.0   \n",
              "...                    ...                  ...             ...   \n",
              "18425  1344391795250253824  2020-12-30 21:15:56          2860.0   \n",
              "18426  1342185383212290050  2020-12-24 19:08:26         13553.0   \n",
              "18427  1342135444209807364  2020-12-24 15:50:00           716.0   \n",
              "18428  1340694449173614592  2020-12-20 16:24:00          2686.0   \n",
              "18429  1340058966261424130  2020-12-18 22:18:49          1091.0   \n",
              "\n",
              "       retweet_count                                               text  \\\n",
              "0              193.0  Redonner du sens à la gauche : se rassembler a...   \n",
              "1             1027.0  L’inscription sur les listes électorales c’est...   \n",
              "2              480.0  🔴 Rendez-vous ce dimanche 30 janvier à 20h55 s...   \n",
              "3              437.0  3 solutions pour financer la retraite à 60 ans...   \n",
              "4              551.0  La Méditerranée est le plus grand cimetière du...   \n",
              "...              ...                                                ...   \n",
              "18425          420.0         Rendez vous lundi 4 janvier sur @Cnews ! 📺   \n",
              "18426         1967.0  Joyeux Noël à tous ! 🎄\\n\\nEZ https://t.co/TBA7...   \n",
              "18427          122.0                            https://t.co/94u5dE3VH2   \n",
              "18428          525.0  Eric #Zemmour sur @CNEWS : « Il y a une fascin...   \n",
              "18429          190.0  Eric #Zemmour face à Michel Onfray @FrontPopOf...   \n",
              "\n",
              "                 user_id  \n",
              "0      JeanLuc_Melenchon  \n",
              "1      JeanLuc_Melenchon  \n",
              "2      JeanLuc_Melenchon  \n",
              "3      JeanLuc_Melenchon  \n",
              "4      JeanLuc_Melenchon  \n",
              "...                  ...  \n",
              "18425       Eric_Zemmour  \n",
              "18426       Eric_Zemmour  \n",
              "18427       Eric_Zemmour  \n",
              "18428       Eric_Zemmour  \n",
              "18429       Eric_Zemmour  \n",
              "\n",
              "[18430 rows x 6 columns]"
            ],
            "text/html": [
              "\n",
              "  <div id=\"df-b94ee8fd-f373-4ab7-8c9a-30d6765d9b51\">\n",
              "    <div class=\"colab-df-container\">\n",
              "      <div>\n",
              "<style scoped>\n",
              "    .dataframe tbody tr th:only-of-type {\n",
              "        vertical-align: middle;\n",
              "    }\n",
              "\n",
              "    .dataframe tbody tr th {\n",
              "        vertical-align: top;\n",
              "    }\n",
              "\n",
              "    .dataframe thead th {\n",
              "        text-align: right;\n",
              "    }\n",
              "</style>\n",
              "<table border=\"1\" class=\"dataframe\">\n",
              "  <thead>\n",
              "    <tr style=\"text-align: right;\">\n",
              "      <th></th>\n",
              "      <th>id</th>\n",
              "      <th>created_at</th>\n",
              "      <th>favorite_count</th>\n",
              "      <th>retweet_count</th>\n",
              "      <th>text</th>\n",
              "      <th>user_id</th>\n",
              "    </tr>\n",
              "  </thead>\n",
              "  <tbody>\n",
              "    <tr>\n",
              "      <th>0</th>\n",
              "      <td>1487771447992926210</td>\n",
              "      <td>2022-01-30 12:55:29</td>\n",
              "      <td>436.0</td>\n",
              "      <td>193.0</td>\n",
              "      <td>Redonner du sens à la gauche : se rassembler a...</td>\n",
              "      <td>JeanLuc_Melenchon</td>\n",
              "    </tr>\n",
              "    <tr>\n",
              "      <th>1</th>\n",
              "      <td>1487400906517848070</td>\n",
              "      <td>2022-01-29 12:23:05</td>\n",
              "      <td>2350.0</td>\n",
              "      <td>1027.0</td>\n",
              "      <td>L’inscription sur les listes électorales c’est...</td>\n",
              "      <td>JeanLuc_Melenchon</td>\n",
              "    </tr>\n",
              "    <tr>\n",
              "      <th>2</th>\n",
              "      <td>1487117751084855300</td>\n",
              "      <td>2022-01-28 17:37:55</td>\n",
              "      <td>1145.0</td>\n",
              "      <td>480.0</td>\n",
              "      <td>🔴 Rendez-vous ce dimanche 30 janvier à 20h55 s...</td>\n",
              "      <td>JeanLuc_Melenchon</td>\n",
              "    </tr>\n",
              "    <tr>\n",
              "      <th>3</th>\n",
              "      <td>1487104482336989191</td>\n",
              "      <td>2022-01-28 16:45:12</td>\n",
              "      <td>1164.0</td>\n",
              "      <td>437.0</td>\n",
              "      <td>3 solutions pour financer la retraite à 60 ans...</td>\n",
              "      <td>JeanLuc_Melenchon</td>\n",
              "    </tr>\n",
              "    <tr>\n",
              "      <th>4</th>\n",
              "      <td>1487080530558476288</td>\n",
              "      <td>2022-01-28 15:10:01</td>\n",
              "      <td>1591.0</td>\n",
              "      <td>551.0</td>\n",
              "      <td>La Méditerranée est le plus grand cimetière du...</td>\n",
              "      <td>JeanLuc_Melenchon</td>\n",
              "    </tr>\n",
              "    <tr>\n",
              "      <th>...</th>\n",
              "      <td>...</td>\n",
              "      <td>...</td>\n",
              "      <td>...</td>\n",
              "      <td>...</td>\n",
              "      <td>...</td>\n",
              "      <td>...</td>\n",
              "    </tr>\n",
              "    <tr>\n",
              "      <th>18425</th>\n",
              "      <td>1344391795250253824</td>\n",
              "      <td>2020-12-30 21:15:56</td>\n",
              "      <td>2860.0</td>\n",
              "      <td>420.0</td>\n",
              "      <td>Rendez vous lundi 4 janvier sur @Cnews ! 📺</td>\n",
              "      <td>Eric_Zemmour</td>\n",
              "    </tr>\n",
              "    <tr>\n",
              "      <th>18426</th>\n",
              "      <td>1342185383212290050</td>\n",
              "      <td>2020-12-24 19:08:26</td>\n",
              "      <td>13553.0</td>\n",
              "      <td>1967.0</td>\n",
              "      <td>Joyeux Noël à tous ! 🎄\\n\\nEZ https://t.co/TBA7...</td>\n",
              "      <td>Eric_Zemmour</td>\n",
              "    </tr>\n",
              "    <tr>\n",
              "      <th>18427</th>\n",
              "      <td>1342135444209807364</td>\n",
              "      <td>2020-12-24 15:50:00</td>\n",
              "      <td>716.0</td>\n",
              "      <td>122.0</td>\n",
              "      <td>https://t.co/94u5dE3VH2</td>\n",
              "      <td>Eric_Zemmour</td>\n",
              "    </tr>\n",
              "    <tr>\n",
              "      <th>18428</th>\n",
              "      <td>1340694449173614592</td>\n",
              "      <td>2020-12-20 16:24:00</td>\n",
              "      <td>2686.0</td>\n",
              "      <td>525.0</td>\n",
              "      <td>Eric #Zemmour sur @CNEWS : « Il y a une fascin...</td>\n",
              "      <td>Eric_Zemmour</td>\n",
              "    </tr>\n",
              "    <tr>\n",
              "      <th>18429</th>\n",
              "      <td>1340058966261424130</td>\n",
              "      <td>2020-12-18 22:18:49</td>\n",
              "      <td>1091.0</td>\n",
              "      <td>190.0</td>\n",
              "      <td>Eric #Zemmour face à Michel Onfray @FrontPopOf...</td>\n",
              "      <td>Eric_Zemmour</td>\n",
              "    </tr>\n",
              "  </tbody>\n",
              "</table>\n",
              "<p>18430 rows × 6 columns</p>\n",
              "</div>\n",
              "      <button class=\"colab-df-convert\" onclick=\"convertToInteractive('df-b94ee8fd-f373-4ab7-8c9a-30d6765d9b51')\"\n",
              "              title=\"Convert this dataframe to an interactive table.\"\n",
              "              style=\"display:none;\">\n",
              "        \n",
              "  <svg xmlns=\"http://www.w3.org/2000/svg\" height=\"24px\"viewBox=\"0 0 24 24\"\n",
              "       width=\"24px\">\n",
              "    <path d=\"M0 0h24v24H0V0z\" fill=\"none\"/>\n",
              "    <path d=\"M18.56 5.44l.94 2.06.94-2.06 2.06-.94-2.06-.94-.94-2.06-.94 2.06-2.06.94zm-11 1L8.5 8.5l.94-2.06 2.06-.94-2.06-.94L8.5 2.5l-.94 2.06-2.06.94zm10 10l.94 2.06.94-2.06 2.06-.94-2.06-.94-.94-2.06-.94 2.06-2.06.94z\"/><path d=\"M17.41 7.96l-1.37-1.37c-.4-.4-.92-.59-1.43-.59-.52 0-1.04.2-1.43.59L10.3 9.45l-7.72 7.72c-.78.78-.78 2.05 0 2.83L4 21.41c.39.39.9.59 1.41.59.51 0 1.02-.2 1.41-.59l7.78-7.78 2.81-2.81c.8-.78.8-2.07 0-2.86zM5.41 20L4 18.59l7.72-7.72 1.47 1.35L5.41 20z\"/>\n",
              "  </svg>\n",
              "      </button>\n",
              "      \n",
              "  <style>\n",
              "    .colab-df-container {\n",
              "      display:flex;\n",
              "      flex-wrap:wrap;\n",
              "      gap: 12px;\n",
              "    }\n",
              "\n",
              "    .colab-df-convert {\n",
              "      background-color: #E8F0FE;\n",
              "      border: none;\n",
              "      border-radius: 50%;\n",
              "      cursor: pointer;\n",
              "      display: none;\n",
              "      fill: #1967D2;\n",
              "      height: 32px;\n",
              "      padding: 0 0 0 0;\n",
              "      width: 32px;\n",
              "    }\n",
              "\n",
              "    .colab-df-convert:hover {\n",
              "      background-color: #E2EBFA;\n",
              "      box-shadow: 0px 1px 2px rgba(60, 64, 67, 0.3), 0px 1px 3px 1px rgba(60, 64, 67, 0.15);\n",
              "      fill: #174EA6;\n",
              "    }\n",
              "\n",
              "    [theme=dark] .colab-df-convert {\n",
              "      background-color: #3B4455;\n",
              "      fill: #D2E3FC;\n",
              "    }\n",
              "\n",
              "    [theme=dark] .colab-df-convert:hover {\n",
              "      background-color: #434B5C;\n",
              "      box-shadow: 0px 1px 3px 1px rgba(0, 0, 0, 0.15);\n",
              "      filter: drop-shadow(0px 1px 2px rgba(0, 0, 0, 0.3));\n",
              "      fill: #FFFFFF;\n",
              "    }\n",
              "  </style>\n",
              "\n",
              "      <script>\n",
              "        const buttonEl =\n",
              "          document.querySelector('#df-b94ee8fd-f373-4ab7-8c9a-30d6765d9b51 button.colab-df-convert');\n",
              "        buttonEl.style.display =\n",
              "          google.colab.kernel.accessAllowed ? 'block' : 'none';\n",
              "\n",
              "        async function convertToInteractive(key) {\n",
              "          const element = document.querySelector('#df-b94ee8fd-f373-4ab7-8c9a-30d6765d9b51');\n",
              "          const dataTable =\n",
              "            await google.colab.kernel.invokeFunction('convertToInteractive',\n",
              "                                                     [key], {});\n",
              "          if (!dataTable) return;\n",
              "\n",
              "          const docLinkHtml = 'Like what you see? Visit the ' +\n",
              "            '<a target=\"_blank\" href=https://colab.research.google.com/notebooks/data_table.ipynb>data table notebook</a>'\n",
              "            + ' to learn more about interactive tables.';\n",
              "          element.innerHTML = '';\n",
              "          dataTable['output_type'] = 'display_data';\n",
              "          await google.colab.output.renderOutput(dataTable, element);\n",
              "          const docLink = document.createElement('div');\n",
              "          docLink.innerHTML = docLinkHtml;\n",
              "          element.appendChild(docLink);\n",
              "        }\n",
              "      </script>\n",
              "    </div>\n",
              "  </div>\n",
              "  "
            ]
          },
          "metadata": {},
          "execution_count": 9
        }
      ]
    },
    {
      "cell_type": "code",
      "source": [
        "df_tweet.head(10)"
      ],
      "metadata": {
        "colab": {
          "base_uri": "https://localhost:8080/",
          "height": 1000
        },
        "id": "DZ2bovhnDkFT",
        "outputId": "8ae7476f-fcca-44eb-cf29-3f17736fff27"
      },
      "execution_count": 10,
      "outputs": [
        {
          "output_type": "execute_result",
          "data": {
            "text/plain": [
              "                    id           created_at  favorite_count  retweet_count  \\\n",
              "0  1487771447992926210  2022-01-30 12:55:29           436.0          193.0   \n",
              "1  1487400906517848070  2022-01-29 12:23:05          2350.0         1027.0   \n",
              "2  1487117751084855300  2022-01-28 17:37:55          1145.0          480.0   \n",
              "3  1487104482336989191  2022-01-28 16:45:12          1164.0          437.0   \n",
              "4  1487080530558476288  2022-01-28 15:10:01          1591.0          551.0   \n",
              "5  1487033635995889664  2022-01-28 12:03:41          1335.0          487.0   \n",
              "6  1486861570307239936  2022-01-28 00:39:57           938.0          220.0   \n",
              "7  1486855621739700226  2022-01-28 00:16:19           654.0          215.0   \n",
              "8  1486855070016749568  2022-01-28 00:14:07           715.0          219.0   \n",
              "9  1486854745939718146  2022-01-28 00:12:50           695.0          233.0   \n",
              "\n",
              "                                                text            user_id  \n",
              "0  Redonner du sens à la gauche : se rassembler a...  JeanLuc_Melenchon  \n",
              "1  L’inscription sur les listes électorales c’est...  JeanLuc_Melenchon  \n",
              "2  🔴 Rendez-vous ce dimanche 30 janvier à 20h55 s...  JeanLuc_Melenchon  \n",
              "3  3 solutions pour financer la retraite à 60 ans...  JeanLuc_Melenchon  \n",
              "4  La Méditerranée est le plus grand cimetière du...  JeanLuc_Melenchon  \n",
              "5  Retour d'émission #FaceABaba - Nouvelle note d...  JeanLuc_Melenchon  \n",
              "6  Le jour de mes 50 ans, la fille de Raquel et d...  JeanLuc_Melenchon  \n",
              "7  La majeure partie de la dette publique de la z...  JeanLuc_Melenchon  \n",
              "8  Dans une entreprise, je propose qu'il n'y ait ...  JeanLuc_Melenchon  \n",
              "9  Le peuple français est mal en ce moment. Il a ...  JeanLuc_Melenchon  "
            ],
            "text/html": [
              "\n",
              "  <div id=\"df-dacf9617-f3a1-4c6c-a693-5ea7ceed7552\">\n",
              "    <div class=\"colab-df-container\">\n",
              "      <div>\n",
              "<style scoped>\n",
              "    .dataframe tbody tr th:only-of-type {\n",
              "        vertical-align: middle;\n",
              "    }\n",
              "\n",
              "    .dataframe tbody tr th {\n",
              "        vertical-align: top;\n",
              "    }\n",
              "\n",
              "    .dataframe thead th {\n",
              "        text-align: right;\n",
              "    }\n",
              "</style>\n",
              "<table border=\"1\" class=\"dataframe\">\n",
              "  <thead>\n",
              "    <tr style=\"text-align: right;\">\n",
              "      <th></th>\n",
              "      <th>id</th>\n",
              "      <th>created_at</th>\n",
              "      <th>favorite_count</th>\n",
              "      <th>retweet_count</th>\n",
              "      <th>text</th>\n",
              "      <th>user_id</th>\n",
              "    </tr>\n",
              "  </thead>\n",
              "  <tbody>\n",
              "    <tr>\n",
              "      <th>0</th>\n",
              "      <td>1487771447992926210</td>\n",
              "      <td>2022-01-30 12:55:29</td>\n",
              "      <td>436.0</td>\n",
              "      <td>193.0</td>\n",
              "      <td>Redonner du sens à la gauche : se rassembler a...</td>\n",
              "      <td>JeanLuc_Melenchon</td>\n",
              "    </tr>\n",
              "    <tr>\n",
              "      <th>1</th>\n",
              "      <td>1487400906517848070</td>\n",
              "      <td>2022-01-29 12:23:05</td>\n",
              "      <td>2350.0</td>\n",
              "      <td>1027.0</td>\n",
              "      <td>L’inscription sur les listes électorales c’est...</td>\n",
              "      <td>JeanLuc_Melenchon</td>\n",
              "    </tr>\n",
              "    <tr>\n",
              "      <th>2</th>\n",
              "      <td>1487117751084855300</td>\n",
              "      <td>2022-01-28 17:37:55</td>\n",
              "      <td>1145.0</td>\n",
              "      <td>480.0</td>\n",
              "      <td>🔴 Rendez-vous ce dimanche 30 janvier à 20h55 s...</td>\n",
              "      <td>JeanLuc_Melenchon</td>\n",
              "    </tr>\n",
              "    <tr>\n",
              "      <th>3</th>\n",
              "      <td>1487104482336989191</td>\n",
              "      <td>2022-01-28 16:45:12</td>\n",
              "      <td>1164.0</td>\n",
              "      <td>437.0</td>\n",
              "      <td>3 solutions pour financer la retraite à 60 ans...</td>\n",
              "      <td>JeanLuc_Melenchon</td>\n",
              "    </tr>\n",
              "    <tr>\n",
              "      <th>4</th>\n",
              "      <td>1487080530558476288</td>\n",
              "      <td>2022-01-28 15:10:01</td>\n",
              "      <td>1591.0</td>\n",
              "      <td>551.0</td>\n",
              "      <td>La Méditerranée est le plus grand cimetière du...</td>\n",
              "      <td>JeanLuc_Melenchon</td>\n",
              "    </tr>\n",
              "    <tr>\n",
              "      <th>5</th>\n",
              "      <td>1487033635995889664</td>\n",
              "      <td>2022-01-28 12:03:41</td>\n",
              "      <td>1335.0</td>\n",
              "      <td>487.0</td>\n",
              "      <td>Retour d'émission #FaceABaba - Nouvelle note d...</td>\n",
              "      <td>JeanLuc_Melenchon</td>\n",
              "    </tr>\n",
              "    <tr>\n",
              "      <th>6</th>\n",
              "      <td>1486861570307239936</td>\n",
              "      <td>2022-01-28 00:39:57</td>\n",
              "      <td>938.0</td>\n",
              "      <td>220.0</td>\n",
              "      <td>Le jour de mes 50 ans, la fille de Raquel et d...</td>\n",
              "      <td>JeanLuc_Melenchon</td>\n",
              "    </tr>\n",
              "    <tr>\n",
              "      <th>7</th>\n",
              "      <td>1486855621739700226</td>\n",
              "      <td>2022-01-28 00:16:19</td>\n",
              "      <td>654.0</td>\n",
              "      <td>215.0</td>\n",
              "      <td>La majeure partie de la dette publique de la z...</td>\n",
              "      <td>JeanLuc_Melenchon</td>\n",
              "    </tr>\n",
              "    <tr>\n",
              "      <th>8</th>\n",
              "      <td>1486855070016749568</td>\n",
              "      <td>2022-01-28 00:14:07</td>\n",
              "      <td>715.0</td>\n",
              "      <td>219.0</td>\n",
              "      <td>Dans une entreprise, je propose qu'il n'y ait ...</td>\n",
              "      <td>JeanLuc_Melenchon</td>\n",
              "    </tr>\n",
              "    <tr>\n",
              "      <th>9</th>\n",
              "      <td>1486854745939718146</td>\n",
              "      <td>2022-01-28 00:12:50</td>\n",
              "      <td>695.0</td>\n",
              "      <td>233.0</td>\n",
              "      <td>Le peuple français est mal en ce moment. Il a ...</td>\n",
              "      <td>JeanLuc_Melenchon</td>\n",
              "    </tr>\n",
              "  </tbody>\n",
              "</table>\n",
              "</div>\n",
              "      <button class=\"colab-df-convert\" onclick=\"convertToInteractive('df-dacf9617-f3a1-4c6c-a693-5ea7ceed7552')\"\n",
              "              title=\"Convert this dataframe to an interactive table.\"\n",
              "              style=\"display:none;\">\n",
              "        \n",
              "  <svg xmlns=\"http://www.w3.org/2000/svg\" height=\"24px\"viewBox=\"0 0 24 24\"\n",
              "       width=\"24px\">\n",
              "    <path d=\"M0 0h24v24H0V0z\" fill=\"none\"/>\n",
              "    <path d=\"M18.56 5.44l.94 2.06.94-2.06 2.06-.94-2.06-.94-.94-2.06-.94 2.06-2.06.94zm-11 1L8.5 8.5l.94-2.06 2.06-.94-2.06-.94L8.5 2.5l-.94 2.06-2.06.94zm10 10l.94 2.06.94-2.06 2.06-.94-2.06-.94-.94-2.06-.94 2.06-2.06.94z\"/><path d=\"M17.41 7.96l-1.37-1.37c-.4-.4-.92-.59-1.43-.59-.52 0-1.04.2-1.43.59L10.3 9.45l-7.72 7.72c-.78.78-.78 2.05 0 2.83L4 21.41c.39.39.9.59 1.41.59.51 0 1.02-.2 1.41-.59l7.78-7.78 2.81-2.81c.8-.78.8-2.07 0-2.86zM5.41 20L4 18.59l7.72-7.72 1.47 1.35L5.41 20z\"/>\n",
              "  </svg>\n",
              "      </button>\n",
              "      \n",
              "  <style>\n",
              "    .colab-df-container {\n",
              "      display:flex;\n",
              "      flex-wrap:wrap;\n",
              "      gap: 12px;\n",
              "    }\n",
              "\n",
              "    .colab-df-convert {\n",
              "      background-color: #E8F0FE;\n",
              "      border: none;\n",
              "      border-radius: 50%;\n",
              "      cursor: pointer;\n",
              "      display: none;\n",
              "      fill: #1967D2;\n",
              "      height: 32px;\n",
              "      padding: 0 0 0 0;\n",
              "      width: 32px;\n",
              "    }\n",
              "\n",
              "    .colab-df-convert:hover {\n",
              "      background-color: #E2EBFA;\n",
              "      box-shadow: 0px 1px 2px rgba(60, 64, 67, 0.3), 0px 1px 3px 1px rgba(60, 64, 67, 0.15);\n",
              "      fill: #174EA6;\n",
              "    }\n",
              "\n",
              "    [theme=dark] .colab-df-convert {\n",
              "      background-color: #3B4455;\n",
              "      fill: #D2E3FC;\n",
              "    }\n",
              "\n",
              "    [theme=dark] .colab-df-convert:hover {\n",
              "      background-color: #434B5C;\n",
              "      box-shadow: 0px 1px 3px 1px rgba(0, 0, 0, 0.15);\n",
              "      filter: drop-shadow(0px 1px 2px rgba(0, 0, 0, 0.3));\n",
              "      fill: #FFFFFF;\n",
              "    }\n",
              "  </style>\n",
              "\n",
              "      <script>\n",
              "        const buttonEl =\n",
              "          document.querySelector('#df-dacf9617-f3a1-4c6c-a693-5ea7ceed7552 button.colab-df-convert');\n",
              "        buttonEl.style.display =\n",
              "          google.colab.kernel.accessAllowed ? 'block' : 'none';\n",
              "\n",
              "        async function convertToInteractive(key) {\n",
              "          const element = document.querySelector('#df-dacf9617-f3a1-4c6c-a693-5ea7ceed7552');\n",
              "          const dataTable =\n",
              "            await google.colab.kernel.invokeFunction('convertToInteractive',\n",
              "                                                     [key], {});\n",
              "          if (!dataTable) return;\n",
              "\n",
              "          const docLinkHtml = 'Like what you see? Visit the ' +\n",
              "            '<a target=\"_blank\" href=https://colab.research.google.com/notebooks/data_table.ipynb>data table notebook</a>'\n",
              "            + ' to learn more about interactive tables.';\n",
              "          element.innerHTML = '';\n",
              "          dataTable['output_type'] = 'display_data';\n",
              "          await google.colab.output.renderOutput(dataTable, element);\n",
              "          const docLink = document.createElement('div');\n",
              "          docLink.innerHTML = docLinkHtml;\n",
              "          element.appendChild(docLink);\n",
              "        }\n",
              "      </script>\n",
              "    </div>\n",
              "  </div>\n",
              "  "
            ]
          },
          "metadata": {},
          "execution_count": 10
        }
      ]
    },
    {
      "cell_type": "code",
      "source": [
        "df_tweet[:20]"
      ],
      "metadata": {
        "colab": {
          "base_uri": "https://localhost:8080/",
          "height": 1000
        },
        "id": "DW8t50NiSAor",
        "outputId": "941f92c6-8b5c-4204-cdbc-590c6bba0b77"
      },
      "execution_count": 11,
      "outputs": [
        {
          "output_type": "execute_result",
          "data": {
            "text/plain": [
              "                     id           created_at  favorite_count  retweet_count  \\\n",
              "0   1487771447992926210  2022-01-30 12:55:29           436.0          193.0   \n",
              "1   1487400906517848070  2022-01-29 12:23:05          2350.0         1027.0   \n",
              "2   1487117751084855300  2022-01-28 17:37:55          1145.0          480.0   \n",
              "3   1487104482336989191  2022-01-28 16:45:12          1164.0          437.0   \n",
              "4   1487080530558476288  2022-01-28 15:10:01          1591.0          551.0   \n",
              "5   1487033635995889664  2022-01-28 12:03:41          1335.0          487.0   \n",
              "6   1486861570307239936  2022-01-28 00:39:57           938.0          220.0   \n",
              "7   1486855621739700226  2022-01-28 00:16:19           654.0          215.0   \n",
              "8   1486855070016749568  2022-01-28 00:14:07           715.0          219.0   \n",
              "9   1486854745939718146  2022-01-28 00:12:50           695.0          233.0   \n",
              "10  1486852850785439744  2022-01-28 00:05:18           784.0          206.0   \n",
              "11  1486852564675092483  2022-01-28 00:04:10           115.0           38.0   \n",
              "12  1486851334183792640  2022-01-27 23:59:17           395.0          136.0   \n",
              "13  1486849317675708424  2022-01-27 23:51:16           444.0          138.0   \n",
              "14  1486848950426607619  2022-01-27 23:49:48           550.0          163.0   \n",
              "15  1486848645714558982  2022-01-27 23:48:36           302.0          107.0   \n",
              "16  1486847618311462914  2022-01-27 23:44:31           297.0           94.0   \n",
              "17  1486846226708504588  2022-01-27 23:38:59           313.0          116.0   \n",
              "18  1486845950253584386  2022-01-27 23:37:53           760.0          283.0   \n",
              "19  1486845683273506817  2022-01-27 23:36:49           238.0           87.0   \n",
              "\n",
              "                                                 text            user_id  \n",
              "0   Redonner du sens à la gauche : se rassembler a...  JeanLuc_Melenchon  \n",
              "1   L’inscription sur les listes électorales c’est...  JeanLuc_Melenchon  \n",
              "2   🔴 Rendez-vous ce dimanche 30 janvier à 20h55 s...  JeanLuc_Melenchon  \n",
              "3   3 solutions pour financer la retraite à 60 ans...  JeanLuc_Melenchon  \n",
              "4   La Méditerranée est le plus grand cimetière du...  JeanLuc_Melenchon  \n",
              "5   Retour d'émission #FaceABaba - Nouvelle note d...  JeanLuc_Melenchon  \n",
              "6   Le jour de mes 50 ans, la fille de Raquel et d...  JeanLuc_Melenchon  \n",
              "7   La majeure partie de la dette publique de la z...  JeanLuc_Melenchon  \n",
              "8   Dans une entreprise, je propose qu'il n'y ait ...  JeanLuc_Melenchon  \n",
              "9   Le peuple français est mal en ce moment. Il a ...  JeanLuc_Melenchon  \n",
              "10  \"Quand je suis arrivée en France, Jean-Luc m'a...  JeanLuc_Melenchon  \n",
              "11  @RaquelGarridoFr a beaucoup apporté à notre mo...  JeanLuc_Melenchon  \n",
              "12  @ZemmourEric @CaronAymericoff @RaquelGarridoFr...  JeanLuc_Melenchon  \n",
              "13  @ZemmourEric @CaronAymericoff @RaquelGarridoFr...  JeanLuc_Melenchon  \n",
              "14  Je suis pour le réalisme. On ne raconte pas au...  JeanLuc_Melenchon  \n",
              "15  @ZemmourEric @CaronAymericoff .@RaquelGarridoF...  JeanLuc_Melenchon  \n",
              "16  @ZemmourEric @CaronAymericoff Nous proposons q...  JeanLuc_Melenchon  \n",
              "17  @ZemmourEric @CaronAymericoff La dette est tro...  JeanLuc_Melenchon  \n",
              "18  \"Il faut sortir de la logique du gouvernement ...  JeanLuc_Melenchon  \n",
              "19  @ZemmourEric @CaronAymericoff Notre programme ...  JeanLuc_Melenchon  "
            ],
            "text/html": [
              "\n",
              "  <div id=\"df-3defb668-9e98-4e8b-8975-b94209a0a65f\">\n",
              "    <div class=\"colab-df-container\">\n",
              "      <div>\n",
              "<style scoped>\n",
              "    .dataframe tbody tr th:only-of-type {\n",
              "        vertical-align: middle;\n",
              "    }\n",
              "\n",
              "    .dataframe tbody tr th {\n",
              "        vertical-align: top;\n",
              "    }\n",
              "\n",
              "    .dataframe thead th {\n",
              "        text-align: right;\n",
              "    }\n",
              "</style>\n",
              "<table border=\"1\" class=\"dataframe\">\n",
              "  <thead>\n",
              "    <tr style=\"text-align: right;\">\n",
              "      <th></th>\n",
              "      <th>id</th>\n",
              "      <th>created_at</th>\n",
              "      <th>favorite_count</th>\n",
              "      <th>retweet_count</th>\n",
              "      <th>text</th>\n",
              "      <th>user_id</th>\n",
              "    </tr>\n",
              "  </thead>\n",
              "  <tbody>\n",
              "    <tr>\n",
              "      <th>0</th>\n",
              "      <td>1487771447992926210</td>\n",
              "      <td>2022-01-30 12:55:29</td>\n",
              "      <td>436.0</td>\n",
              "      <td>193.0</td>\n",
              "      <td>Redonner du sens à la gauche : se rassembler a...</td>\n",
              "      <td>JeanLuc_Melenchon</td>\n",
              "    </tr>\n",
              "    <tr>\n",
              "      <th>1</th>\n",
              "      <td>1487400906517848070</td>\n",
              "      <td>2022-01-29 12:23:05</td>\n",
              "      <td>2350.0</td>\n",
              "      <td>1027.0</td>\n",
              "      <td>L’inscription sur les listes électorales c’est...</td>\n",
              "      <td>JeanLuc_Melenchon</td>\n",
              "    </tr>\n",
              "    <tr>\n",
              "      <th>2</th>\n",
              "      <td>1487117751084855300</td>\n",
              "      <td>2022-01-28 17:37:55</td>\n",
              "      <td>1145.0</td>\n",
              "      <td>480.0</td>\n",
              "      <td>🔴 Rendez-vous ce dimanche 30 janvier à 20h55 s...</td>\n",
              "      <td>JeanLuc_Melenchon</td>\n",
              "    </tr>\n",
              "    <tr>\n",
              "      <th>3</th>\n",
              "      <td>1487104482336989191</td>\n",
              "      <td>2022-01-28 16:45:12</td>\n",
              "      <td>1164.0</td>\n",
              "      <td>437.0</td>\n",
              "      <td>3 solutions pour financer la retraite à 60 ans...</td>\n",
              "      <td>JeanLuc_Melenchon</td>\n",
              "    </tr>\n",
              "    <tr>\n",
              "      <th>4</th>\n",
              "      <td>1487080530558476288</td>\n",
              "      <td>2022-01-28 15:10:01</td>\n",
              "      <td>1591.0</td>\n",
              "      <td>551.0</td>\n",
              "      <td>La Méditerranée est le plus grand cimetière du...</td>\n",
              "      <td>JeanLuc_Melenchon</td>\n",
              "    </tr>\n",
              "    <tr>\n",
              "      <th>5</th>\n",
              "      <td>1487033635995889664</td>\n",
              "      <td>2022-01-28 12:03:41</td>\n",
              "      <td>1335.0</td>\n",
              "      <td>487.0</td>\n",
              "      <td>Retour d'émission #FaceABaba - Nouvelle note d...</td>\n",
              "      <td>JeanLuc_Melenchon</td>\n",
              "    </tr>\n",
              "    <tr>\n",
              "      <th>6</th>\n",
              "      <td>1486861570307239936</td>\n",
              "      <td>2022-01-28 00:39:57</td>\n",
              "      <td>938.0</td>\n",
              "      <td>220.0</td>\n",
              "      <td>Le jour de mes 50 ans, la fille de Raquel et d...</td>\n",
              "      <td>JeanLuc_Melenchon</td>\n",
              "    </tr>\n",
              "    <tr>\n",
              "      <th>7</th>\n",
              "      <td>1486855621739700226</td>\n",
              "      <td>2022-01-28 00:16:19</td>\n",
              "      <td>654.0</td>\n",
              "      <td>215.0</td>\n",
              "      <td>La majeure partie de la dette publique de la z...</td>\n",
              "      <td>JeanLuc_Melenchon</td>\n",
              "    </tr>\n",
              "    <tr>\n",
              "      <th>8</th>\n",
              "      <td>1486855070016749568</td>\n",
              "      <td>2022-01-28 00:14:07</td>\n",
              "      <td>715.0</td>\n",
              "      <td>219.0</td>\n",
              "      <td>Dans une entreprise, je propose qu'il n'y ait ...</td>\n",
              "      <td>JeanLuc_Melenchon</td>\n",
              "    </tr>\n",
              "    <tr>\n",
              "      <th>9</th>\n",
              "      <td>1486854745939718146</td>\n",
              "      <td>2022-01-28 00:12:50</td>\n",
              "      <td>695.0</td>\n",
              "      <td>233.0</td>\n",
              "      <td>Le peuple français est mal en ce moment. Il a ...</td>\n",
              "      <td>JeanLuc_Melenchon</td>\n",
              "    </tr>\n",
              "    <tr>\n",
              "      <th>10</th>\n",
              "      <td>1486852850785439744</td>\n",
              "      <td>2022-01-28 00:05:18</td>\n",
              "      <td>784.0</td>\n",
              "      <td>206.0</td>\n",
              "      <td>\"Quand je suis arrivée en France, Jean-Luc m'a...</td>\n",
              "      <td>JeanLuc_Melenchon</td>\n",
              "    </tr>\n",
              "    <tr>\n",
              "      <th>11</th>\n",
              "      <td>1486852564675092483</td>\n",
              "      <td>2022-01-28 00:04:10</td>\n",
              "      <td>115.0</td>\n",
              "      <td>38.0</td>\n",
              "      <td>@RaquelGarridoFr a beaucoup apporté à notre mo...</td>\n",
              "      <td>JeanLuc_Melenchon</td>\n",
              "    </tr>\n",
              "    <tr>\n",
              "      <th>12</th>\n",
              "      <td>1486851334183792640</td>\n",
              "      <td>2022-01-27 23:59:17</td>\n",
              "      <td>395.0</td>\n",
              "      <td>136.0</td>\n",
              "      <td>@ZemmourEric @CaronAymericoff @RaquelGarridoFr...</td>\n",
              "      <td>JeanLuc_Melenchon</td>\n",
              "    </tr>\n",
              "    <tr>\n",
              "      <th>13</th>\n",
              "      <td>1486849317675708424</td>\n",
              "      <td>2022-01-27 23:51:16</td>\n",
              "      <td>444.0</td>\n",
              "      <td>138.0</td>\n",
              "      <td>@ZemmourEric @CaronAymericoff @RaquelGarridoFr...</td>\n",
              "      <td>JeanLuc_Melenchon</td>\n",
              "    </tr>\n",
              "    <tr>\n",
              "      <th>14</th>\n",
              "      <td>1486848950426607619</td>\n",
              "      <td>2022-01-27 23:49:48</td>\n",
              "      <td>550.0</td>\n",
              "      <td>163.0</td>\n",
              "      <td>Je suis pour le réalisme. On ne raconte pas au...</td>\n",
              "      <td>JeanLuc_Melenchon</td>\n",
              "    </tr>\n",
              "    <tr>\n",
              "      <th>15</th>\n",
              "      <td>1486848645714558982</td>\n",
              "      <td>2022-01-27 23:48:36</td>\n",
              "      <td>302.0</td>\n",
              "      <td>107.0</td>\n",
              "      <td>@ZemmourEric @CaronAymericoff .@RaquelGarridoF...</td>\n",
              "      <td>JeanLuc_Melenchon</td>\n",
              "    </tr>\n",
              "    <tr>\n",
              "      <th>16</th>\n",
              "      <td>1486847618311462914</td>\n",
              "      <td>2022-01-27 23:44:31</td>\n",
              "      <td>297.0</td>\n",
              "      <td>94.0</td>\n",
              "      <td>@ZemmourEric @CaronAymericoff Nous proposons q...</td>\n",
              "      <td>JeanLuc_Melenchon</td>\n",
              "    </tr>\n",
              "    <tr>\n",
              "      <th>17</th>\n",
              "      <td>1486846226708504588</td>\n",
              "      <td>2022-01-27 23:38:59</td>\n",
              "      <td>313.0</td>\n",
              "      <td>116.0</td>\n",
              "      <td>@ZemmourEric @CaronAymericoff La dette est tro...</td>\n",
              "      <td>JeanLuc_Melenchon</td>\n",
              "    </tr>\n",
              "    <tr>\n",
              "      <th>18</th>\n",
              "      <td>1486845950253584386</td>\n",
              "      <td>2022-01-27 23:37:53</td>\n",
              "      <td>760.0</td>\n",
              "      <td>283.0</td>\n",
              "      <td>\"Il faut sortir de la logique du gouvernement ...</td>\n",
              "      <td>JeanLuc_Melenchon</td>\n",
              "    </tr>\n",
              "    <tr>\n",
              "      <th>19</th>\n",
              "      <td>1486845683273506817</td>\n",
              "      <td>2022-01-27 23:36:49</td>\n",
              "      <td>238.0</td>\n",
              "      <td>87.0</td>\n",
              "      <td>@ZemmourEric @CaronAymericoff Notre programme ...</td>\n",
              "      <td>JeanLuc_Melenchon</td>\n",
              "    </tr>\n",
              "  </tbody>\n",
              "</table>\n",
              "</div>\n",
              "      <button class=\"colab-df-convert\" onclick=\"convertToInteractive('df-3defb668-9e98-4e8b-8975-b94209a0a65f')\"\n",
              "              title=\"Convert this dataframe to an interactive table.\"\n",
              "              style=\"display:none;\">\n",
              "        \n",
              "  <svg xmlns=\"http://www.w3.org/2000/svg\" height=\"24px\"viewBox=\"0 0 24 24\"\n",
              "       width=\"24px\">\n",
              "    <path d=\"M0 0h24v24H0V0z\" fill=\"none\"/>\n",
              "    <path d=\"M18.56 5.44l.94 2.06.94-2.06 2.06-.94-2.06-.94-.94-2.06-.94 2.06-2.06.94zm-11 1L8.5 8.5l.94-2.06 2.06-.94-2.06-.94L8.5 2.5l-.94 2.06-2.06.94zm10 10l.94 2.06.94-2.06 2.06-.94-2.06-.94-.94-2.06-.94 2.06-2.06.94z\"/><path d=\"M17.41 7.96l-1.37-1.37c-.4-.4-.92-.59-1.43-.59-.52 0-1.04.2-1.43.59L10.3 9.45l-7.72 7.72c-.78.78-.78 2.05 0 2.83L4 21.41c.39.39.9.59 1.41.59.51 0 1.02-.2 1.41-.59l7.78-7.78 2.81-2.81c.8-.78.8-2.07 0-2.86zM5.41 20L4 18.59l7.72-7.72 1.47 1.35L5.41 20z\"/>\n",
              "  </svg>\n",
              "      </button>\n",
              "      \n",
              "  <style>\n",
              "    .colab-df-container {\n",
              "      display:flex;\n",
              "      flex-wrap:wrap;\n",
              "      gap: 12px;\n",
              "    }\n",
              "\n",
              "    .colab-df-convert {\n",
              "      background-color: #E8F0FE;\n",
              "      border: none;\n",
              "      border-radius: 50%;\n",
              "      cursor: pointer;\n",
              "      display: none;\n",
              "      fill: #1967D2;\n",
              "      height: 32px;\n",
              "      padding: 0 0 0 0;\n",
              "      width: 32px;\n",
              "    }\n",
              "\n",
              "    .colab-df-convert:hover {\n",
              "      background-color: #E2EBFA;\n",
              "      box-shadow: 0px 1px 2px rgba(60, 64, 67, 0.3), 0px 1px 3px 1px rgba(60, 64, 67, 0.15);\n",
              "      fill: #174EA6;\n",
              "    }\n",
              "\n",
              "    [theme=dark] .colab-df-convert {\n",
              "      background-color: #3B4455;\n",
              "      fill: #D2E3FC;\n",
              "    }\n",
              "\n",
              "    [theme=dark] .colab-df-convert:hover {\n",
              "      background-color: #434B5C;\n",
              "      box-shadow: 0px 1px 3px 1px rgba(0, 0, 0, 0.15);\n",
              "      filter: drop-shadow(0px 1px 2px rgba(0, 0, 0, 0.3));\n",
              "      fill: #FFFFFF;\n",
              "    }\n",
              "  </style>\n",
              "\n",
              "      <script>\n",
              "        const buttonEl =\n",
              "          document.querySelector('#df-3defb668-9e98-4e8b-8975-b94209a0a65f button.colab-df-convert');\n",
              "        buttonEl.style.display =\n",
              "          google.colab.kernel.accessAllowed ? 'block' : 'none';\n",
              "\n",
              "        async function convertToInteractive(key) {\n",
              "          const element = document.querySelector('#df-3defb668-9e98-4e8b-8975-b94209a0a65f');\n",
              "          const dataTable =\n",
              "            await google.colab.kernel.invokeFunction('convertToInteractive',\n",
              "                                                     [key], {});\n",
              "          if (!dataTable) return;\n",
              "\n",
              "          const docLinkHtml = 'Like what you see? Visit the ' +\n",
              "            '<a target=\"_blank\" href=https://colab.research.google.com/notebooks/data_table.ipynb>data table notebook</a>'\n",
              "            + ' to learn more about interactive tables.';\n",
              "          element.innerHTML = '';\n",
              "          dataTable['output_type'] = 'display_data';\n",
              "          await google.colab.output.renderOutput(dataTable, element);\n",
              "          const docLink = document.createElement('div');\n",
              "          docLink.innerHTML = docLinkHtml;\n",
              "          element.appendChild(docLink);\n",
              "        }\n",
              "      </script>\n",
              "    </div>\n",
              "  </div>\n",
              "  "
            ]
          },
          "metadata": {},
          "execution_count": 11
        }
      ]
    },
    {
      "cell_type": "code",
      "source": [
        "df_tweet.tail()"
      ],
      "metadata": {
        "colab": {
          "base_uri": "https://localhost:8080/",
          "height": 409
        },
        "id": "uE_lAED0Sz7l",
        "outputId": "aca27478-672d-4bbf-e2d1-c195151e00eb"
      },
      "execution_count": 12,
      "outputs": [
        {
          "output_type": "execute_result",
          "data": {
            "text/plain": [
              "                        id           created_at  favorite_count  \\\n",
              "18425  1344391795250253824  2020-12-30 21:15:56          2860.0   \n",
              "18426  1342185383212290050  2020-12-24 19:08:26         13553.0   \n",
              "18427  1342135444209807364  2020-12-24 15:50:00           716.0   \n",
              "18428  1340694449173614592  2020-12-20 16:24:00          2686.0   \n",
              "18429  1340058966261424130  2020-12-18 22:18:49          1091.0   \n",
              "\n",
              "       retweet_count                                               text  \\\n",
              "18425          420.0         Rendez vous lundi 4 janvier sur @Cnews ! 📺   \n",
              "18426         1967.0  Joyeux Noël à tous ! 🎄\\n\\nEZ https://t.co/TBA7...   \n",
              "18427          122.0                            https://t.co/94u5dE3VH2   \n",
              "18428          525.0  Eric #Zemmour sur @CNEWS : « Il y a une fascin...   \n",
              "18429          190.0  Eric #Zemmour face à Michel Onfray @FrontPopOf...   \n",
              "\n",
              "            user_id  \n",
              "18425  Eric_Zemmour  \n",
              "18426  Eric_Zemmour  \n",
              "18427  Eric_Zemmour  \n",
              "18428  Eric_Zemmour  \n",
              "18429  Eric_Zemmour  "
            ],
            "text/html": [
              "\n",
              "  <div id=\"df-690b890c-f79e-4018-b6d4-e58f2f73c08a\">\n",
              "    <div class=\"colab-df-container\">\n",
              "      <div>\n",
              "<style scoped>\n",
              "    .dataframe tbody tr th:only-of-type {\n",
              "        vertical-align: middle;\n",
              "    }\n",
              "\n",
              "    .dataframe tbody tr th {\n",
              "        vertical-align: top;\n",
              "    }\n",
              "\n",
              "    .dataframe thead th {\n",
              "        text-align: right;\n",
              "    }\n",
              "</style>\n",
              "<table border=\"1\" class=\"dataframe\">\n",
              "  <thead>\n",
              "    <tr style=\"text-align: right;\">\n",
              "      <th></th>\n",
              "      <th>id</th>\n",
              "      <th>created_at</th>\n",
              "      <th>favorite_count</th>\n",
              "      <th>retweet_count</th>\n",
              "      <th>text</th>\n",
              "      <th>user_id</th>\n",
              "    </tr>\n",
              "  </thead>\n",
              "  <tbody>\n",
              "    <tr>\n",
              "      <th>18425</th>\n",
              "      <td>1344391795250253824</td>\n",
              "      <td>2020-12-30 21:15:56</td>\n",
              "      <td>2860.0</td>\n",
              "      <td>420.0</td>\n",
              "      <td>Rendez vous lundi 4 janvier sur @Cnews ! 📺</td>\n",
              "      <td>Eric_Zemmour</td>\n",
              "    </tr>\n",
              "    <tr>\n",
              "      <th>18426</th>\n",
              "      <td>1342185383212290050</td>\n",
              "      <td>2020-12-24 19:08:26</td>\n",
              "      <td>13553.0</td>\n",
              "      <td>1967.0</td>\n",
              "      <td>Joyeux Noël à tous ! 🎄\\n\\nEZ https://t.co/TBA7...</td>\n",
              "      <td>Eric_Zemmour</td>\n",
              "    </tr>\n",
              "    <tr>\n",
              "      <th>18427</th>\n",
              "      <td>1342135444209807364</td>\n",
              "      <td>2020-12-24 15:50:00</td>\n",
              "      <td>716.0</td>\n",
              "      <td>122.0</td>\n",
              "      <td>https://t.co/94u5dE3VH2</td>\n",
              "      <td>Eric_Zemmour</td>\n",
              "    </tr>\n",
              "    <tr>\n",
              "      <th>18428</th>\n",
              "      <td>1340694449173614592</td>\n",
              "      <td>2020-12-20 16:24:00</td>\n",
              "      <td>2686.0</td>\n",
              "      <td>525.0</td>\n",
              "      <td>Eric #Zemmour sur @CNEWS : « Il y a une fascin...</td>\n",
              "      <td>Eric_Zemmour</td>\n",
              "    </tr>\n",
              "    <tr>\n",
              "      <th>18429</th>\n",
              "      <td>1340058966261424130</td>\n",
              "      <td>2020-12-18 22:18:49</td>\n",
              "      <td>1091.0</td>\n",
              "      <td>190.0</td>\n",
              "      <td>Eric #Zemmour face à Michel Onfray @FrontPopOf...</td>\n",
              "      <td>Eric_Zemmour</td>\n",
              "    </tr>\n",
              "  </tbody>\n",
              "</table>\n",
              "</div>\n",
              "      <button class=\"colab-df-convert\" onclick=\"convertToInteractive('df-690b890c-f79e-4018-b6d4-e58f2f73c08a')\"\n",
              "              title=\"Convert this dataframe to an interactive table.\"\n",
              "              style=\"display:none;\">\n",
              "        \n",
              "  <svg xmlns=\"http://www.w3.org/2000/svg\" height=\"24px\"viewBox=\"0 0 24 24\"\n",
              "       width=\"24px\">\n",
              "    <path d=\"M0 0h24v24H0V0z\" fill=\"none\"/>\n",
              "    <path d=\"M18.56 5.44l.94 2.06.94-2.06 2.06-.94-2.06-.94-.94-2.06-.94 2.06-2.06.94zm-11 1L8.5 8.5l.94-2.06 2.06-.94-2.06-.94L8.5 2.5l-.94 2.06-2.06.94zm10 10l.94 2.06.94-2.06 2.06-.94-2.06-.94-.94-2.06-.94 2.06-2.06.94z\"/><path d=\"M17.41 7.96l-1.37-1.37c-.4-.4-.92-.59-1.43-.59-.52 0-1.04.2-1.43.59L10.3 9.45l-7.72 7.72c-.78.78-.78 2.05 0 2.83L4 21.41c.39.39.9.59 1.41.59.51 0 1.02-.2 1.41-.59l7.78-7.78 2.81-2.81c.8-.78.8-2.07 0-2.86zM5.41 20L4 18.59l7.72-7.72 1.47 1.35L5.41 20z\"/>\n",
              "  </svg>\n",
              "      </button>\n",
              "      \n",
              "  <style>\n",
              "    .colab-df-container {\n",
              "      display:flex;\n",
              "      flex-wrap:wrap;\n",
              "      gap: 12px;\n",
              "    }\n",
              "\n",
              "    .colab-df-convert {\n",
              "      background-color: #E8F0FE;\n",
              "      border: none;\n",
              "      border-radius: 50%;\n",
              "      cursor: pointer;\n",
              "      display: none;\n",
              "      fill: #1967D2;\n",
              "      height: 32px;\n",
              "      padding: 0 0 0 0;\n",
              "      width: 32px;\n",
              "    }\n",
              "\n",
              "    .colab-df-convert:hover {\n",
              "      background-color: #E2EBFA;\n",
              "      box-shadow: 0px 1px 2px rgba(60, 64, 67, 0.3), 0px 1px 3px 1px rgba(60, 64, 67, 0.15);\n",
              "      fill: #174EA6;\n",
              "    }\n",
              "\n",
              "    [theme=dark] .colab-df-convert {\n",
              "      background-color: #3B4455;\n",
              "      fill: #D2E3FC;\n",
              "    }\n",
              "\n",
              "    [theme=dark] .colab-df-convert:hover {\n",
              "      background-color: #434B5C;\n",
              "      box-shadow: 0px 1px 3px 1px rgba(0, 0, 0, 0.15);\n",
              "      filter: drop-shadow(0px 1px 2px rgba(0, 0, 0, 0.3));\n",
              "      fill: #FFFFFF;\n",
              "    }\n",
              "  </style>\n",
              "\n",
              "      <script>\n",
              "        const buttonEl =\n",
              "          document.querySelector('#df-690b890c-f79e-4018-b6d4-e58f2f73c08a button.colab-df-convert');\n",
              "        buttonEl.style.display =\n",
              "          google.colab.kernel.accessAllowed ? 'block' : 'none';\n",
              "\n",
              "        async function convertToInteractive(key) {\n",
              "          const element = document.querySelector('#df-690b890c-f79e-4018-b6d4-e58f2f73c08a');\n",
              "          const dataTable =\n",
              "            await google.colab.kernel.invokeFunction('convertToInteractive',\n",
              "                                                     [key], {});\n",
              "          if (!dataTable) return;\n",
              "\n",
              "          const docLinkHtml = 'Like what you see? Visit the ' +\n",
              "            '<a target=\"_blank\" href=https://colab.research.google.com/notebooks/data_table.ipynb>data table notebook</a>'\n",
              "            + ' to learn more about interactive tables.';\n",
              "          element.innerHTML = '';\n",
              "          dataTable['output_type'] = 'display_data';\n",
              "          await google.colab.output.renderOutput(dataTable, element);\n",
              "          const docLink = document.createElement('div');\n",
              "          docLink.innerHTML = docLinkHtml;\n",
              "          element.appendChild(docLink);\n",
              "        }\n",
              "      </script>\n",
              "    </div>\n",
              "  </div>\n",
              "  "
            ]
          },
          "metadata": {},
          "execution_count": 12
        }
      ]
    },
    {
      "cell_type": "code",
      "source": [
        "df_tweet.shape"
      ],
      "metadata": {
        "colab": {
          "base_uri": "https://localhost:8080/"
        },
        "id": "nu85wOk_D2PY",
        "outputId": "fb6ffdae-c97e-44b2-b819-5fa80256629e"
      },
      "execution_count": 13,
      "outputs": [
        {
          "output_type": "execute_result",
          "data": {
            "text/plain": [
              "(18430, 6)"
            ]
          },
          "metadata": {},
          "execution_count": 13
        }
      ]
    },
    {
      "cell_type": "code",
      "source": [
        "df_tweet.head()"
      ],
      "metadata": {
        "colab": {
          "base_uri": "https://localhost:8080/",
          "height": 600
        },
        "id": "4Ers4kvLD6wJ",
        "outputId": "47e8e56b-e9b5-4848-9293-83a4c88ccfbc"
      },
      "execution_count": 14,
      "outputs": [
        {
          "output_type": "execute_result",
          "data": {
            "text/plain": [
              "                    id           created_at  favorite_count  retweet_count  \\\n",
              "0  1487771447992926210  2022-01-30 12:55:29           436.0          193.0   \n",
              "1  1487400906517848070  2022-01-29 12:23:05          2350.0         1027.0   \n",
              "2  1487117751084855300  2022-01-28 17:37:55          1145.0          480.0   \n",
              "3  1487104482336989191  2022-01-28 16:45:12          1164.0          437.0   \n",
              "4  1487080530558476288  2022-01-28 15:10:01          1591.0          551.0   \n",
              "\n",
              "                                                text            user_id  \n",
              "0  Redonner du sens à la gauche : se rassembler a...  JeanLuc_Melenchon  \n",
              "1  L’inscription sur les listes électorales c’est...  JeanLuc_Melenchon  \n",
              "2  🔴 Rendez-vous ce dimanche 30 janvier à 20h55 s...  JeanLuc_Melenchon  \n",
              "3  3 solutions pour financer la retraite à 60 ans...  JeanLuc_Melenchon  \n",
              "4  La Méditerranée est le plus grand cimetière du...  JeanLuc_Melenchon  "
            ],
            "text/html": [
              "\n",
              "  <div id=\"df-8a06a1a2-28d1-4da7-a92f-03882e018dfe\">\n",
              "    <div class=\"colab-df-container\">\n",
              "      <div>\n",
              "<style scoped>\n",
              "    .dataframe tbody tr th:only-of-type {\n",
              "        vertical-align: middle;\n",
              "    }\n",
              "\n",
              "    .dataframe tbody tr th {\n",
              "        vertical-align: top;\n",
              "    }\n",
              "\n",
              "    .dataframe thead th {\n",
              "        text-align: right;\n",
              "    }\n",
              "</style>\n",
              "<table border=\"1\" class=\"dataframe\">\n",
              "  <thead>\n",
              "    <tr style=\"text-align: right;\">\n",
              "      <th></th>\n",
              "      <th>id</th>\n",
              "      <th>created_at</th>\n",
              "      <th>favorite_count</th>\n",
              "      <th>retweet_count</th>\n",
              "      <th>text</th>\n",
              "      <th>user_id</th>\n",
              "    </tr>\n",
              "  </thead>\n",
              "  <tbody>\n",
              "    <tr>\n",
              "      <th>0</th>\n",
              "      <td>1487771447992926210</td>\n",
              "      <td>2022-01-30 12:55:29</td>\n",
              "      <td>436.0</td>\n",
              "      <td>193.0</td>\n",
              "      <td>Redonner du sens à la gauche : se rassembler a...</td>\n",
              "      <td>JeanLuc_Melenchon</td>\n",
              "    </tr>\n",
              "    <tr>\n",
              "      <th>1</th>\n",
              "      <td>1487400906517848070</td>\n",
              "      <td>2022-01-29 12:23:05</td>\n",
              "      <td>2350.0</td>\n",
              "      <td>1027.0</td>\n",
              "      <td>L’inscription sur les listes électorales c’est...</td>\n",
              "      <td>JeanLuc_Melenchon</td>\n",
              "    </tr>\n",
              "    <tr>\n",
              "      <th>2</th>\n",
              "      <td>1487117751084855300</td>\n",
              "      <td>2022-01-28 17:37:55</td>\n",
              "      <td>1145.0</td>\n",
              "      <td>480.0</td>\n",
              "      <td>🔴 Rendez-vous ce dimanche 30 janvier à 20h55 s...</td>\n",
              "      <td>JeanLuc_Melenchon</td>\n",
              "    </tr>\n",
              "    <tr>\n",
              "      <th>3</th>\n",
              "      <td>1487104482336989191</td>\n",
              "      <td>2022-01-28 16:45:12</td>\n",
              "      <td>1164.0</td>\n",
              "      <td>437.0</td>\n",
              "      <td>3 solutions pour financer la retraite à 60 ans...</td>\n",
              "      <td>JeanLuc_Melenchon</td>\n",
              "    </tr>\n",
              "    <tr>\n",
              "      <th>4</th>\n",
              "      <td>1487080530558476288</td>\n",
              "      <td>2022-01-28 15:10:01</td>\n",
              "      <td>1591.0</td>\n",
              "      <td>551.0</td>\n",
              "      <td>La Méditerranée est le plus grand cimetière du...</td>\n",
              "      <td>JeanLuc_Melenchon</td>\n",
              "    </tr>\n",
              "  </tbody>\n",
              "</table>\n",
              "</div>\n",
              "      <button class=\"colab-df-convert\" onclick=\"convertToInteractive('df-8a06a1a2-28d1-4da7-a92f-03882e018dfe')\"\n",
              "              title=\"Convert this dataframe to an interactive table.\"\n",
              "              style=\"display:none;\">\n",
              "        \n",
              "  <svg xmlns=\"http://www.w3.org/2000/svg\" height=\"24px\"viewBox=\"0 0 24 24\"\n",
              "       width=\"24px\">\n",
              "    <path d=\"M0 0h24v24H0V0z\" fill=\"none\"/>\n",
              "    <path d=\"M18.56 5.44l.94 2.06.94-2.06 2.06-.94-2.06-.94-.94-2.06-.94 2.06-2.06.94zm-11 1L8.5 8.5l.94-2.06 2.06-.94-2.06-.94L8.5 2.5l-.94 2.06-2.06.94zm10 10l.94 2.06.94-2.06 2.06-.94-2.06-.94-.94-2.06-.94 2.06-2.06.94z\"/><path d=\"M17.41 7.96l-1.37-1.37c-.4-.4-.92-.59-1.43-.59-.52 0-1.04.2-1.43.59L10.3 9.45l-7.72 7.72c-.78.78-.78 2.05 0 2.83L4 21.41c.39.39.9.59 1.41.59.51 0 1.02-.2 1.41-.59l7.78-7.78 2.81-2.81c.8-.78.8-2.07 0-2.86zM5.41 20L4 18.59l7.72-7.72 1.47 1.35L5.41 20z\"/>\n",
              "  </svg>\n",
              "      </button>\n",
              "      \n",
              "  <style>\n",
              "    .colab-df-container {\n",
              "      display:flex;\n",
              "      flex-wrap:wrap;\n",
              "      gap: 12px;\n",
              "    }\n",
              "\n",
              "    .colab-df-convert {\n",
              "      background-color: #E8F0FE;\n",
              "      border: none;\n",
              "      border-radius: 50%;\n",
              "      cursor: pointer;\n",
              "      display: none;\n",
              "      fill: #1967D2;\n",
              "      height: 32px;\n",
              "      padding: 0 0 0 0;\n",
              "      width: 32px;\n",
              "    }\n",
              "\n",
              "    .colab-df-convert:hover {\n",
              "      background-color: #E2EBFA;\n",
              "      box-shadow: 0px 1px 2px rgba(60, 64, 67, 0.3), 0px 1px 3px 1px rgba(60, 64, 67, 0.15);\n",
              "      fill: #174EA6;\n",
              "    }\n",
              "\n",
              "    [theme=dark] .colab-df-convert {\n",
              "      background-color: #3B4455;\n",
              "      fill: #D2E3FC;\n",
              "    }\n",
              "\n",
              "    [theme=dark] .colab-df-convert:hover {\n",
              "      background-color: #434B5C;\n",
              "      box-shadow: 0px 1px 3px 1px rgba(0, 0, 0, 0.15);\n",
              "      filter: drop-shadow(0px 1px 2px rgba(0, 0, 0, 0.3));\n",
              "      fill: #FFFFFF;\n",
              "    }\n",
              "  </style>\n",
              "\n",
              "      <script>\n",
              "        const buttonEl =\n",
              "          document.querySelector('#df-8a06a1a2-28d1-4da7-a92f-03882e018dfe button.colab-df-convert');\n",
              "        buttonEl.style.display =\n",
              "          google.colab.kernel.accessAllowed ? 'block' : 'none';\n",
              "\n",
              "        async function convertToInteractive(key) {\n",
              "          const element = document.querySelector('#df-8a06a1a2-28d1-4da7-a92f-03882e018dfe');\n",
              "          const dataTable =\n",
              "            await google.colab.kernel.invokeFunction('convertToInteractive',\n",
              "                                                     [key], {});\n",
              "          if (!dataTable) return;\n",
              "\n",
              "          const docLinkHtml = 'Like what you see? Visit the ' +\n",
              "            '<a target=\"_blank\" href=https://colab.research.google.com/notebooks/data_table.ipynb>data table notebook</a>'\n",
              "            + ' to learn more about interactive tables.';\n",
              "          element.innerHTML = '';\n",
              "          dataTable['output_type'] = 'display_data';\n",
              "          await google.colab.output.renderOutput(dataTable, element);\n",
              "          const docLink = document.createElement('div');\n",
              "          docLink.innerHTML = docLinkHtml;\n",
              "          element.appendChild(docLink);\n",
              "        }\n",
              "      </script>\n",
              "    </div>\n",
              "  </div>\n",
              "  "
            ]
          },
          "metadata": {},
          "execution_count": 14
        }
      ]
    },
    {
      "cell_type": "code",
      "source": [
        "# Implémentez la fonction en changeant le None\n",
        "def check_missing_values(df_tweet):\n",
        "  print(\"check for missing value :\")\n",
        "     \n",
        "\n",
        "check_missing_values(df_tweet)"
      ],
      "metadata": {
        "colab": {
          "base_uri": "https://localhost:8080/"
        },
        "id": "MNw_zVQjEEaY",
        "outputId": "38b0bb37-e47b-4107-c4ef-cbbaffc34a05"
      },
      "execution_count": 15,
      "outputs": [
        {
          "output_type": "stream",
          "name": "stdout",
          "text": [
            "check for missing value :\n"
          ]
        }
      ]
    },
    {
      "cell_type": "code",
      "source": [
        "# Combien de tweets dans la base de données pour chacun des candidats ? \n",
        "df_tweet[\"created_at\"]= pd.to_datetime(df_tweet[\"created_at\"])\n",
        "df_tweet.groupby(\"user_id\").created_at.describe()"
      ],
      "metadata": {
        "colab": {
          "base_uri": "https://localhost:8080/",
          "height": 569
        },
        "id": "GAx0jK8DFCzI",
        "outputId": "fd16cf66-a215-47d0-ef31-0c91f94cd58c"
      },
      "execution_count": 16,
      "outputs": [
        {
          "output_type": "stream",
          "name": "stderr",
          "text": [
            "/usr/local/lib/python3.7/dist-packages/pandas/core/groupby/generic.py:677: FutureWarning: Treating datetime data as categorical rather than numeric in `.describe` is deprecated and will be removed in a future version of pandas. Specify `datetime_is_numeric=True` to silence this warning and adopt the future behavior now.\n",
            "  result = self.apply(lambda x: x.describe(**kwargs))\n"
          ]
        },
        {
          "output_type": "execute_result",
          "data": {
            "text/plain": [
              "                    count unique                 top freq               first  \\\n",
              "user_id                                                                         \n",
              "Anne_Hidalgo          838    825 2021-12-24 18:08:50    3 2021-07-12 15:29:23   \n",
              "Christianne_Taubira  2402   2394 2021-11-18 19:35:29    3 2011-08-26 04:30:30   \n",
              "Emmanuel_Macron      2969   2751 2019-12-03 13:49:09    4 2018-11-29 12:22:40   \n",
              "Eric_Zemmour         2752   2707 2021-09-23 22:39:59    3 2020-12-18 22:18:49   \n",
              "JeanLuc_Melenchon    2756   2752 2022-01-21 19:23:57    2 2021-09-13 08:57:51   \n",
              "Marine_Lepen         2782   2770 2021-12-27 19:08:11    3 2020-02-10 21:38:13   \n",
              "Valerie_Pecresse     2399   2399 2022-01-29 17:54:29    1 2018-06-20 09:40:14   \n",
              "Yannick_Jadot        1532   1515 2021-10-25 11:10:54    3 2021-02-14 11:24:25   \n",
              "\n",
              "                                   last  \n",
              "user_id                                  \n",
              "Anne_Hidalgo        2022-01-30 10:58:47  \n",
              "Christianne_Taubira 2022-01-30 14:00:01  \n",
              "Emmanuel_Macron     2022-01-29 19:49:37  \n",
              "Eric_Zemmour        2022-01-29 21:58:31  \n",
              "JeanLuc_Melenchon   2022-01-30 12:55:29  \n",
              "Marine_Lepen        2022-01-30 12:17:02  \n",
              "Valerie_Pecresse    2022-01-29 17:54:29  \n",
              "Yannick_Jadot       2022-01-29 21:51:04  "
            ],
            "text/html": [
              "\n",
              "  <div id=\"df-9390ce2a-082e-4b7e-a2b5-6b3d61821e5c\">\n",
              "    <div class=\"colab-df-container\">\n",
              "      <div>\n",
              "<style scoped>\n",
              "    .dataframe tbody tr th:only-of-type {\n",
              "        vertical-align: middle;\n",
              "    }\n",
              "\n",
              "    .dataframe tbody tr th {\n",
              "        vertical-align: top;\n",
              "    }\n",
              "\n",
              "    .dataframe thead th {\n",
              "        text-align: right;\n",
              "    }\n",
              "</style>\n",
              "<table border=\"1\" class=\"dataframe\">\n",
              "  <thead>\n",
              "    <tr style=\"text-align: right;\">\n",
              "      <th></th>\n",
              "      <th>count</th>\n",
              "      <th>unique</th>\n",
              "      <th>top</th>\n",
              "      <th>freq</th>\n",
              "      <th>first</th>\n",
              "      <th>last</th>\n",
              "    </tr>\n",
              "    <tr>\n",
              "      <th>user_id</th>\n",
              "      <th></th>\n",
              "      <th></th>\n",
              "      <th></th>\n",
              "      <th></th>\n",
              "      <th></th>\n",
              "      <th></th>\n",
              "    </tr>\n",
              "  </thead>\n",
              "  <tbody>\n",
              "    <tr>\n",
              "      <th>Anne_Hidalgo</th>\n",
              "      <td>838</td>\n",
              "      <td>825</td>\n",
              "      <td>2021-12-24 18:08:50</td>\n",
              "      <td>3</td>\n",
              "      <td>2021-07-12 15:29:23</td>\n",
              "      <td>2022-01-30 10:58:47</td>\n",
              "    </tr>\n",
              "    <tr>\n",
              "      <th>Christianne_Taubira</th>\n",
              "      <td>2402</td>\n",
              "      <td>2394</td>\n",
              "      <td>2021-11-18 19:35:29</td>\n",
              "      <td>3</td>\n",
              "      <td>2011-08-26 04:30:30</td>\n",
              "      <td>2022-01-30 14:00:01</td>\n",
              "    </tr>\n",
              "    <tr>\n",
              "      <th>Emmanuel_Macron</th>\n",
              "      <td>2969</td>\n",
              "      <td>2751</td>\n",
              "      <td>2019-12-03 13:49:09</td>\n",
              "      <td>4</td>\n",
              "      <td>2018-11-29 12:22:40</td>\n",
              "      <td>2022-01-29 19:49:37</td>\n",
              "    </tr>\n",
              "    <tr>\n",
              "      <th>Eric_Zemmour</th>\n",
              "      <td>2752</td>\n",
              "      <td>2707</td>\n",
              "      <td>2021-09-23 22:39:59</td>\n",
              "      <td>3</td>\n",
              "      <td>2020-12-18 22:18:49</td>\n",
              "      <td>2022-01-29 21:58:31</td>\n",
              "    </tr>\n",
              "    <tr>\n",
              "      <th>JeanLuc_Melenchon</th>\n",
              "      <td>2756</td>\n",
              "      <td>2752</td>\n",
              "      <td>2022-01-21 19:23:57</td>\n",
              "      <td>2</td>\n",
              "      <td>2021-09-13 08:57:51</td>\n",
              "      <td>2022-01-30 12:55:29</td>\n",
              "    </tr>\n",
              "    <tr>\n",
              "      <th>Marine_Lepen</th>\n",
              "      <td>2782</td>\n",
              "      <td>2770</td>\n",
              "      <td>2021-12-27 19:08:11</td>\n",
              "      <td>3</td>\n",
              "      <td>2020-02-10 21:38:13</td>\n",
              "      <td>2022-01-30 12:17:02</td>\n",
              "    </tr>\n",
              "    <tr>\n",
              "      <th>Valerie_Pecresse</th>\n",
              "      <td>2399</td>\n",
              "      <td>2399</td>\n",
              "      <td>2022-01-29 17:54:29</td>\n",
              "      <td>1</td>\n",
              "      <td>2018-06-20 09:40:14</td>\n",
              "      <td>2022-01-29 17:54:29</td>\n",
              "    </tr>\n",
              "    <tr>\n",
              "      <th>Yannick_Jadot</th>\n",
              "      <td>1532</td>\n",
              "      <td>1515</td>\n",
              "      <td>2021-10-25 11:10:54</td>\n",
              "      <td>3</td>\n",
              "      <td>2021-02-14 11:24:25</td>\n",
              "      <td>2022-01-29 21:51:04</td>\n",
              "    </tr>\n",
              "  </tbody>\n",
              "</table>\n",
              "</div>\n",
              "      <button class=\"colab-df-convert\" onclick=\"convertToInteractive('df-9390ce2a-082e-4b7e-a2b5-6b3d61821e5c')\"\n",
              "              title=\"Convert this dataframe to an interactive table.\"\n",
              "              style=\"display:none;\">\n",
              "        \n",
              "  <svg xmlns=\"http://www.w3.org/2000/svg\" height=\"24px\"viewBox=\"0 0 24 24\"\n",
              "       width=\"24px\">\n",
              "    <path d=\"M0 0h24v24H0V0z\" fill=\"none\"/>\n",
              "    <path d=\"M18.56 5.44l.94 2.06.94-2.06 2.06-.94-2.06-.94-.94-2.06-.94 2.06-2.06.94zm-11 1L8.5 8.5l.94-2.06 2.06-.94-2.06-.94L8.5 2.5l-.94 2.06-2.06.94zm10 10l.94 2.06.94-2.06 2.06-.94-2.06-.94-.94-2.06-.94 2.06-2.06.94z\"/><path d=\"M17.41 7.96l-1.37-1.37c-.4-.4-.92-.59-1.43-.59-.52 0-1.04.2-1.43.59L10.3 9.45l-7.72 7.72c-.78.78-.78 2.05 0 2.83L4 21.41c.39.39.9.59 1.41.59.51 0 1.02-.2 1.41-.59l7.78-7.78 2.81-2.81c.8-.78.8-2.07 0-2.86zM5.41 20L4 18.59l7.72-7.72 1.47 1.35L5.41 20z\"/>\n",
              "  </svg>\n",
              "      </button>\n",
              "      \n",
              "  <style>\n",
              "    .colab-df-container {\n",
              "      display:flex;\n",
              "      flex-wrap:wrap;\n",
              "      gap: 12px;\n",
              "    }\n",
              "\n",
              "    .colab-df-convert {\n",
              "      background-color: #E8F0FE;\n",
              "      border: none;\n",
              "      border-radius: 50%;\n",
              "      cursor: pointer;\n",
              "      display: none;\n",
              "      fill: #1967D2;\n",
              "      height: 32px;\n",
              "      padding: 0 0 0 0;\n",
              "      width: 32px;\n",
              "    }\n",
              "\n",
              "    .colab-df-convert:hover {\n",
              "      background-color: #E2EBFA;\n",
              "      box-shadow: 0px 1px 2px rgba(60, 64, 67, 0.3), 0px 1px 3px 1px rgba(60, 64, 67, 0.15);\n",
              "      fill: #174EA6;\n",
              "    }\n",
              "\n",
              "    [theme=dark] .colab-df-convert {\n",
              "      background-color: #3B4455;\n",
              "      fill: #D2E3FC;\n",
              "    }\n",
              "\n",
              "    [theme=dark] .colab-df-convert:hover {\n",
              "      background-color: #434B5C;\n",
              "      box-shadow: 0px 1px 3px 1px rgba(0, 0, 0, 0.15);\n",
              "      filter: drop-shadow(0px 1px 2px rgba(0, 0, 0, 0.3));\n",
              "      fill: #FFFFFF;\n",
              "    }\n",
              "  </style>\n",
              "\n",
              "      <script>\n",
              "        const buttonEl =\n",
              "          document.querySelector('#df-9390ce2a-082e-4b7e-a2b5-6b3d61821e5c button.colab-df-convert');\n",
              "        buttonEl.style.display =\n",
              "          google.colab.kernel.accessAllowed ? 'block' : 'none';\n",
              "\n",
              "        async function convertToInteractive(key) {\n",
              "          const element = document.querySelector('#df-9390ce2a-082e-4b7e-a2b5-6b3d61821e5c');\n",
              "          const dataTable =\n",
              "            await google.colab.kernel.invokeFunction('convertToInteractive',\n",
              "                                                     [key], {});\n",
              "          if (!dataTable) return;\n",
              "\n",
              "          const docLinkHtml = 'Like what you see? Visit the ' +\n",
              "            '<a target=\"_blank\" href=https://colab.research.google.com/notebooks/data_table.ipynb>data table notebook</a>'\n",
              "            + ' to learn more about interactive tables.';\n",
              "          element.innerHTML = '';\n",
              "          dataTable['output_type'] = 'display_data';\n",
              "          await google.colab.output.renderOutput(dataTable, element);\n",
              "          const docLink = document.createElement('div');\n",
              "          docLink.innerHTML = docLinkHtml;\n",
              "          element.appendChild(docLink);\n",
              "        }\n",
              "      </script>\n",
              "    </div>\n",
              "  </div>\n",
              "  "
            ]
          },
          "metadata": {},
          "execution_count": 16
        }
      ]
    },
    {
      "cell_type": "code",
      "source": [
        " #A quelles dates ont été envoyés les premiers / derniers tweets des candidats ? \n",
        "#TODO"
      ],
      "metadata": {
        "id": "xDfB1gHbFw4G"
      },
      "execution_count": 17,
      "outputs": []
    },
    {
      "cell_type": "code",
      "source": [
        "# Quelle est la distribution des favoris et retweets des candidats  ?\n",
        "df_tweet.groupby(\"user_id\").retweet_count.describe()\n"
      ],
      "metadata": {
        "colab": {
          "base_uri": "https://localhost:8080/",
          "height": 395
        },
        "id": "x9zL5ZvxFxiR",
        "outputId": "4e3d1d55-4fd2-452e-efe5-5286e7895f7b"
      },
      "execution_count": 18,
      "outputs": [
        {
          "output_type": "execute_result",
          "data": {
            "text/plain": [
              "                      count         mean          std   min     25%    50%  \\\n",
              "user_id                                                                      \n",
              "Anne_Hidalgo          838.0    98.097852   177.219356   1.0   34.00   68.0   \n",
              "Christianne_Taubira  2402.0   137.960866   553.241746   0.0   24.00   46.5   \n",
              "Emmanuel_Macron      2969.0  1088.372853  2743.806652  20.0  305.00  514.0   \n",
              "Eric_Zemmour         2752.0   844.556686   783.894937  13.0  368.00  613.0   \n",
              "JeanLuc_Melenchon    2756.0   194.824746   276.502632  20.0   63.00  106.0   \n",
              "Marine_Lepen         2782.0   432.787563   364.430943  24.0  202.25  311.0   \n",
              "Valerie_Pecresse     2399.0    98.312213   142.986371   0.0   35.00   65.0   \n",
              "Yannick_Jadot        1532.0    60.967363    72.798983   0.0   13.00   40.0   \n",
              "\n",
              "                         75%      max  \n",
              "user_id                                \n",
              "Anne_Hidalgo          113.00   2900.0  \n",
              "Christianne_Taubira   102.75  15718.0  \n",
              "Emmanuel_Macron       950.00  64283.0  \n",
              "Eric_Zemmour         1040.00   8698.0  \n",
              "JeanLuc_Melenchon     216.00   5719.0  \n",
              "Marine_Lepen          531.00   4097.0  \n",
              "Valerie_Pecresse      112.00   3611.0  \n",
              "Yannick_Jadot          86.00   1090.0  "
            ],
            "text/html": [
              "\n",
              "  <div id=\"df-9042dde5-4a08-406b-88c3-167e10ad6296\">\n",
              "    <div class=\"colab-df-container\">\n",
              "      <div>\n",
              "<style scoped>\n",
              "    .dataframe tbody tr th:only-of-type {\n",
              "        vertical-align: middle;\n",
              "    }\n",
              "\n",
              "    .dataframe tbody tr th {\n",
              "        vertical-align: top;\n",
              "    }\n",
              "\n",
              "    .dataframe thead th {\n",
              "        text-align: right;\n",
              "    }\n",
              "</style>\n",
              "<table border=\"1\" class=\"dataframe\">\n",
              "  <thead>\n",
              "    <tr style=\"text-align: right;\">\n",
              "      <th></th>\n",
              "      <th>count</th>\n",
              "      <th>mean</th>\n",
              "      <th>std</th>\n",
              "      <th>min</th>\n",
              "      <th>25%</th>\n",
              "      <th>50%</th>\n",
              "      <th>75%</th>\n",
              "      <th>max</th>\n",
              "    </tr>\n",
              "    <tr>\n",
              "      <th>user_id</th>\n",
              "      <th></th>\n",
              "      <th></th>\n",
              "      <th></th>\n",
              "      <th></th>\n",
              "      <th></th>\n",
              "      <th></th>\n",
              "      <th></th>\n",
              "      <th></th>\n",
              "    </tr>\n",
              "  </thead>\n",
              "  <tbody>\n",
              "    <tr>\n",
              "      <th>Anne_Hidalgo</th>\n",
              "      <td>838.0</td>\n",
              "      <td>98.097852</td>\n",
              "      <td>177.219356</td>\n",
              "      <td>1.0</td>\n",
              "      <td>34.00</td>\n",
              "      <td>68.0</td>\n",
              "      <td>113.00</td>\n",
              "      <td>2900.0</td>\n",
              "    </tr>\n",
              "    <tr>\n",
              "      <th>Christianne_Taubira</th>\n",
              "      <td>2402.0</td>\n",
              "      <td>137.960866</td>\n",
              "      <td>553.241746</td>\n",
              "      <td>0.0</td>\n",
              "      <td>24.00</td>\n",
              "      <td>46.5</td>\n",
              "      <td>102.75</td>\n",
              "      <td>15718.0</td>\n",
              "    </tr>\n",
              "    <tr>\n",
              "      <th>Emmanuel_Macron</th>\n",
              "      <td>2969.0</td>\n",
              "      <td>1088.372853</td>\n",
              "      <td>2743.806652</td>\n",
              "      <td>20.0</td>\n",
              "      <td>305.00</td>\n",
              "      <td>514.0</td>\n",
              "      <td>950.00</td>\n",
              "      <td>64283.0</td>\n",
              "    </tr>\n",
              "    <tr>\n",
              "      <th>Eric_Zemmour</th>\n",
              "      <td>2752.0</td>\n",
              "      <td>844.556686</td>\n",
              "      <td>783.894937</td>\n",
              "      <td>13.0</td>\n",
              "      <td>368.00</td>\n",
              "      <td>613.0</td>\n",
              "      <td>1040.00</td>\n",
              "      <td>8698.0</td>\n",
              "    </tr>\n",
              "    <tr>\n",
              "      <th>JeanLuc_Melenchon</th>\n",
              "      <td>2756.0</td>\n",
              "      <td>194.824746</td>\n",
              "      <td>276.502632</td>\n",
              "      <td>20.0</td>\n",
              "      <td>63.00</td>\n",
              "      <td>106.0</td>\n",
              "      <td>216.00</td>\n",
              "      <td>5719.0</td>\n",
              "    </tr>\n",
              "    <tr>\n",
              "      <th>Marine_Lepen</th>\n",
              "      <td>2782.0</td>\n",
              "      <td>432.787563</td>\n",
              "      <td>364.430943</td>\n",
              "      <td>24.0</td>\n",
              "      <td>202.25</td>\n",
              "      <td>311.0</td>\n",
              "      <td>531.00</td>\n",
              "      <td>4097.0</td>\n",
              "    </tr>\n",
              "    <tr>\n",
              "      <th>Valerie_Pecresse</th>\n",
              "      <td>2399.0</td>\n",
              "      <td>98.312213</td>\n",
              "      <td>142.986371</td>\n",
              "      <td>0.0</td>\n",
              "      <td>35.00</td>\n",
              "      <td>65.0</td>\n",
              "      <td>112.00</td>\n",
              "      <td>3611.0</td>\n",
              "    </tr>\n",
              "    <tr>\n",
              "      <th>Yannick_Jadot</th>\n",
              "      <td>1532.0</td>\n",
              "      <td>60.967363</td>\n",
              "      <td>72.798983</td>\n",
              "      <td>0.0</td>\n",
              "      <td>13.00</td>\n",
              "      <td>40.0</td>\n",
              "      <td>86.00</td>\n",
              "      <td>1090.0</td>\n",
              "    </tr>\n",
              "  </tbody>\n",
              "</table>\n",
              "</div>\n",
              "      <button class=\"colab-df-convert\" onclick=\"convertToInteractive('df-9042dde5-4a08-406b-88c3-167e10ad6296')\"\n",
              "              title=\"Convert this dataframe to an interactive table.\"\n",
              "              style=\"display:none;\">\n",
              "        \n",
              "  <svg xmlns=\"http://www.w3.org/2000/svg\" height=\"24px\"viewBox=\"0 0 24 24\"\n",
              "       width=\"24px\">\n",
              "    <path d=\"M0 0h24v24H0V0z\" fill=\"none\"/>\n",
              "    <path d=\"M18.56 5.44l.94 2.06.94-2.06 2.06-.94-2.06-.94-.94-2.06-.94 2.06-2.06.94zm-11 1L8.5 8.5l.94-2.06 2.06-.94-2.06-.94L8.5 2.5l-.94 2.06-2.06.94zm10 10l.94 2.06.94-2.06 2.06-.94-2.06-.94-.94-2.06-.94 2.06-2.06.94z\"/><path d=\"M17.41 7.96l-1.37-1.37c-.4-.4-.92-.59-1.43-.59-.52 0-1.04.2-1.43.59L10.3 9.45l-7.72 7.72c-.78.78-.78 2.05 0 2.83L4 21.41c.39.39.9.59 1.41.59.51 0 1.02-.2 1.41-.59l7.78-7.78 2.81-2.81c.8-.78.8-2.07 0-2.86zM5.41 20L4 18.59l7.72-7.72 1.47 1.35L5.41 20z\"/>\n",
              "  </svg>\n",
              "      </button>\n",
              "      \n",
              "  <style>\n",
              "    .colab-df-container {\n",
              "      display:flex;\n",
              "      flex-wrap:wrap;\n",
              "      gap: 12px;\n",
              "    }\n",
              "\n",
              "    .colab-df-convert {\n",
              "      background-color: #E8F0FE;\n",
              "      border: none;\n",
              "      border-radius: 50%;\n",
              "      cursor: pointer;\n",
              "      display: none;\n",
              "      fill: #1967D2;\n",
              "      height: 32px;\n",
              "      padding: 0 0 0 0;\n",
              "      width: 32px;\n",
              "    }\n",
              "\n",
              "    .colab-df-convert:hover {\n",
              "      background-color: #E2EBFA;\n",
              "      box-shadow: 0px 1px 2px rgba(60, 64, 67, 0.3), 0px 1px 3px 1px rgba(60, 64, 67, 0.15);\n",
              "      fill: #174EA6;\n",
              "    }\n",
              "\n",
              "    [theme=dark] .colab-df-convert {\n",
              "      background-color: #3B4455;\n",
              "      fill: #D2E3FC;\n",
              "    }\n",
              "\n",
              "    [theme=dark] .colab-df-convert:hover {\n",
              "      background-color: #434B5C;\n",
              "      box-shadow: 0px 1px 3px 1px rgba(0, 0, 0, 0.15);\n",
              "      filter: drop-shadow(0px 1px 2px rgba(0, 0, 0, 0.3));\n",
              "      fill: #FFFFFF;\n",
              "    }\n",
              "  </style>\n",
              "\n",
              "      <script>\n",
              "        const buttonEl =\n",
              "          document.querySelector('#df-9042dde5-4a08-406b-88c3-167e10ad6296 button.colab-df-convert');\n",
              "        buttonEl.style.display =\n",
              "          google.colab.kernel.accessAllowed ? 'block' : 'none';\n",
              "\n",
              "        async function convertToInteractive(key) {\n",
              "          const element = document.querySelector('#df-9042dde5-4a08-406b-88c3-167e10ad6296');\n",
              "          const dataTable =\n",
              "            await google.colab.kernel.invokeFunction('convertToInteractive',\n",
              "                                                     [key], {});\n",
              "          if (!dataTable) return;\n",
              "\n",
              "          const docLinkHtml = 'Like what you see? Visit the ' +\n",
              "            '<a target=\"_blank\" href=https://colab.research.google.com/notebooks/data_table.ipynb>data table notebook</a>'\n",
              "            + ' to learn more about interactive tables.';\n",
              "          element.innerHTML = '';\n",
              "          dataTable['output_type'] = 'display_data';\n",
              "          await google.colab.output.renderOutput(dataTable, element);\n",
              "          const docLink = document.createElement('div');\n",
              "          docLink.innerHTML = docLinkHtml;\n",
              "          element.appendChild(docLink);\n",
              "        }\n",
              "      </script>\n",
              "    </div>\n",
              "  </div>\n",
              "  "
            ]
          },
          "metadata": {},
          "execution_count": 18
        }
      ]
    },
    {
      "cell_type": "markdown",
      "source": [
        "##### Répartition du nombre de retweets / favoris dans le temps \n"
      ],
      "metadata": {
        "id": "0KML6mNRG1bS"
      }
    },
    {
      "cell_type": "code",
      "source": [
        "def visualize_count_favorites(df, userID) : \n",
        "  \n",
        "  ''' Cette fonction permet de visualiser le nombre de favoris et de retweets \n",
        "  sur toute la période pour un user_id donné '''\n",
        "\n",
        "  df_temp = df.loc[df[\"user_id\"] == userID]\n",
        "  ylabels = [\"favorite_count\", \"retweet_count\"]\n",
        "\n",
        "  print(\"Représentation des nombres de retweets et de favoris de chaque tweet de {} par date\".format(userID))\n",
        "  fig = plt.figure(figsize=(13,3))\n",
        "  fig.subplots_adjust(hspace=0.01,wspace=0.01)\n",
        "\n",
        "  n_row = len(ylabels)\n",
        "  n_col = 1\n",
        "  for count, ylabel in enumerate(ylabels):\n",
        "      ax = fig.add_subplot(n_row, n_col, count + 1)\n",
        "      ax.plot(df_temp[\"created_at\"], df_temp[ylabel])\n",
        "      ax.set_ylabel(ylabel)\n",
        "  \n",
        "  plt.show()"
      ],
      "metadata": {
        "id": "flkYWiWZG2-X"
      },
      "execution_count": 19,
      "outputs": []
    },
    {
      "cell_type": "code",
      "source": [
        "visualize_count_favorites(df_tweet, \"JeanLuc_Melenchon\")\n",
        "print(\"\\n\")\n",
        "visualize_count_favorites(df_tweet, \"Marine_Lepen\")"
      ],
      "metadata": {
        "colab": {
          "base_uri": "https://localhost:8080/",
          "height": 438
        },
        "id": "73dEoqoVIxTd",
        "outputId": "e9f828b9-b926-48fb-e250-d4b00f88038f"
      },
      "execution_count": 20,
      "outputs": [
        {
          "output_type": "stream",
          "name": "stdout",
          "text": [
            "Représentation des nombres de retweets et de favoris de chaque tweet de JeanLuc_Melenchon par date\n"
          ]
        },
        {
          "output_type": "display_data",
          "data": {
            "text/plain": [
              "<Figure size 936x216 with 2 Axes>"
            ],
            "image/png": "[encoded data removed]"
          },
          "metadata": {
            "needs_background": "light"
          }
        },
        {
          "output_type": "stream",
          "name": "stdout",
          "text": [
            "\n",
            "\n",
            "Représentation des nombres de retweets et de favoris de chaque tweet de Marine_Lepen par date\n"
          ]
        },
        {
          "output_type": "display_data",
          "data": {
            "text/plain": [
              "<Figure size 936x216 with 2 Axes>"
            ],
            "image/png": "[encoded data removed]"
          },
          "metadata": {
            "needs_background": "light"
          }
        }
      ]
    },
    {
      "cell_type": "markdown",
      "source": [
        "> **Question** : Qu'observe-t'on ? \n",
        "Est-ce que des candidats font des tweets + ou - longs que d'autres ? "
      ],
      "metadata": {
        "id": "AhurMvc4JRhZ"
      }
    },
    {
      "cell_type": "markdown",
      "source": [
        "<details>    \n",
        "<summary>\n",
        "    <font size=\"3\" color=\"darkgreen\"><b>Aide</b></font>\n",
        "</summary>\n",
        "<p>\n",
        "<ul>\n",
        "    <li> Utilisez la fonction <a href=\"https://pandas.pydata.org/pandas-docs/stable/reference/api/pandas.Series.str.split.html\" >.split()</a> pour calculer la taille des tweets</li>\n",
        "    <li> Vous pouvez utiliser la fonction groupby et describe() </li>\n",
        "\n",
        "</ul>\n",
        "</p>\n"
      ],
      "metadata": {
        "id": "SIyrMLjrJZ8K"
      }
    },
    {
      "cell_type": "code",
      "source": [
        "# Calcul d'une variable contenant le nombre de mots de chaque tweets\n",
        "\n",
        "df_tweet[\"length_tweet\"]= df_tweet[\"text\"].apply(lambda txt : len(txt.split()))\n",
        "df_tweet"
      ],
      "metadata": {
        "colab": {
          "base_uri": "https://localhost:8080/",
          "height": 783
        },
        "id": "FLt9sn1AJdA4",
        "outputId": "6f4b7acd-03b9-4632-fdb1-98de978cf386"
      },
      "execution_count": 21,
      "outputs": [
        {
          "output_type": "execute_result",
          "data": {
            "text/plain": [
              "                        id          created_at  favorite_count  retweet_count  \\\n",
              "0      1487771447992926210 2022-01-30 12:55:29           436.0          193.0   \n",
              "1      1487400906517848070 2022-01-29 12:23:05          2350.0         1027.0   \n",
              "2      1487117751084855300 2022-01-28 17:37:55          1145.0          480.0   \n",
              "3      1487104482336989191 2022-01-28 16:45:12          1164.0          437.0   \n",
              "4      1487080530558476288 2022-01-28 15:10:01          1591.0          551.0   \n",
              "...                    ...                 ...             ...            ...   \n",
              "18425  1344391795250253824 2020-12-30 21:15:56          2860.0          420.0   \n",
              "18426  1342185383212290050 2020-12-24 19:08:26         13553.0         1967.0   \n",
              "18427  1342135444209807364 2020-12-24 15:50:00           716.0          122.0   \n",
              "18428  1340694449173614592 2020-12-20 16:24:00          2686.0          525.0   \n",
              "18429  1340058966261424130 2020-12-18 22:18:49          1091.0          190.0   \n",
              "\n",
              "                                                    text            user_id  \\\n",
              "0      Redonner du sens à la gauche : se rassembler a...  JeanLuc_Melenchon   \n",
              "1      L’inscription sur les listes électorales c’est...  JeanLuc_Melenchon   \n",
              "2      🔴 Rendez-vous ce dimanche 30 janvier à 20h55 s...  JeanLuc_Melenchon   \n",
              "3      3 solutions pour financer la retraite à 60 ans...  JeanLuc_Melenchon   \n",
              "4      La Méditerranée est le plus grand cimetière du...  JeanLuc_Melenchon   \n",
              "...                                                  ...                ...   \n",
              "18425         Rendez vous lundi 4 janvier sur @Cnews ! 📺       Eric_Zemmour   \n",
              "18426  Joyeux Noël à tous ! 🎄\\n\\nEZ https://t.co/TBA7...       Eric_Zemmour   \n",
              "18427                            https://t.co/94u5dE3VH2       Eric_Zemmour   \n",
              "18428  Eric #Zemmour sur @CNEWS : « Il y a une fascin...       Eric_Zemmour   \n",
              "18429  Eric #Zemmour face à Michel Onfray @FrontPopOf...       Eric_Zemmour   \n",
              "\n",
              "       length_tweet  \n",
              "0                22  \n",
              "1                52  \n",
              "2                14  \n",
              "3                43  \n",
              "4                46  \n",
              "...             ...  \n",
              "18425             9  \n",
              "18426             8  \n",
              "18427             1  \n",
              "18428            38  \n",
              "18429            35  \n",
              "\n",
              "[18430 rows x 7 columns]"
            ],
            "text/html": [
              "\n",
              "  <div id=\"df-3f2dbb13-bf0a-4002-8968-55d6093bc432\">\n",
              "    <div class=\"colab-df-container\">\n",
              "      <div>\n",
              "<style scoped>\n",
              "    .dataframe tbody tr th:only-of-type {\n",
              "        vertical-align: middle;\n",
              "    }\n",
              "\n",
              "    .dataframe tbody tr th {\n",
              "        vertical-align: top;\n",
              "    }\n",
              "\n",
              "    .dataframe thead th {\n",
              "        text-align: right;\n",
              "    }\n",
              "</style>\n",
              "<table border=\"1\" class=\"dataframe\">\n",
              "  <thead>\n",
              "    <tr style=\"text-align: right;\">\n",
              "      <th></th>\n",
              "      <th>id</th>\n",
              "      <th>created_at</th>\n",
              "      <th>favorite_count</th>\n",
              "      <th>retweet_count</th>\n",
              "      <th>text</th>\n",
              "      <th>user_id</th>\n",
              "      <th>length_tweet</th>\n",
              "    </tr>\n",
              "  </thead>\n",
              "  <tbody>\n",
              "    <tr>\n",
              "      <th>0</th>\n",
              "      <td>1487771447992926210</td>\n",
              "      <td>2022-01-30 12:55:29</td>\n",
              "      <td>436.0</td>\n",
              "      <td>193.0</td>\n",
              "      <td>Redonner du sens à la gauche : se rassembler a...</td>\n",
              "      <td>JeanLuc_Melenchon</td>\n",
              "      <td>22</td>\n",
              "    </tr>\n",
              "    <tr>\n",
              "      <th>1</th>\n",
              "      <td>1487400906517848070</td>\n",
              "      <td>2022-01-29 12:23:05</td>\n",
              "      <td>2350.0</td>\n",
              "      <td>1027.0</td>\n",
              "      <td>L’inscription sur les listes électorales c’est...</td>\n",
              "      <td>JeanLuc_Melenchon</td>\n",
              "      <td>52</td>\n",
              "    </tr>\n",
              "    <tr>\n",
              "      <th>2</th>\n",
              "      <td>1487117751084855300</td>\n",
              "      <td>2022-01-28 17:37:55</td>\n",
              "      <td>1145.0</td>\n",
              "      <td>480.0</td>\n",
              "      <td>🔴 Rendez-vous ce dimanche 30 janvier à 20h55 s...</td>\n",
              "      <td>JeanLuc_Melenchon</td>\n",
              "      <td>14</td>\n",
              "    </tr>\n",
              "    <tr>\n",
              "      <th>3</th>\n",
              "      <td>1487104482336989191</td>\n",
              "      <td>2022-01-28 16:45:12</td>\n",
              "      <td>1164.0</td>\n",
              "      <td>437.0</td>\n",
              "      <td>3 solutions pour financer la retraite à 60 ans...</td>\n",
              "      <td>JeanLuc_Melenchon</td>\n",
              "      <td>43</td>\n",
              "    </tr>\n",
              "    <tr>\n",
              "      <th>4</th>\n",
              "      <td>1487080530558476288</td>\n",
              "      <td>2022-01-28 15:10:01</td>\n",
              "      <td>1591.0</td>\n",
              "      <td>551.0</td>\n",
              "      <td>La Méditerranée est le plus grand cimetière du...</td>\n",
              "      <td>JeanLuc_Melenchon</td>\n",
              "      <td>46</td>\n",
              "    </tr>\n",
              "    <tr>\n",
              "      <th>...</th>\n",
              "      <td>...</td>\n",
              "      <td>...</td>\n",
              "      <td>...</td>\n",
              "      <td>...</td>\n",
              "      <td>...</td>\n",
              "      <td>...</td>\n",
              "      <td>...</td>\n",
              "    </tr>\n",
              "    <tr>\n",
              "      <th>18425</th>\n",
              "      <td>1344391795250253824</td>\n",
              "      <td>2020-12-30 21:15:56</td>\n",
              "      <td>2860.0</td>\n",
              "      <td>420.0</td>\n",
              "      <td>Rendez vous lundi 4 janvier sur @Cnews ! 📺</td>\n",
              "      <td>Eric_Zemmour</td>\n",
              "      <td>9</td>\n",
              "    </tr>\n",
              "    <tr>\n",
              "      <th>18426</th>\n",
              "      <td>1342185383212290050</td>\n",
              "      <td>2020-12-24 19:08:26</td>\n",
              "      <td>13553.0</td>\n",
              "      <td>1967.0</td>\n",
              "      <td>Joyeux Noël à tous ! 🎄\\n\\nEZ https://t.co/TBA7...</td>\n",
              "      <td>Eric_Zemmour</td>\n",
              "      <td>8</td>\n",
              "    </tr>\n",
              "    <tr>\n",
              "      <th>18427</th>\n",
              "      <td>1342135444209807364</td>\n",
              "      <td>2020-12-24 15:50:00</td>\n",
              "      <td>716.0</td>\n",
              "      <td>122.0</td>\n",
              "      <td>https://t.co/94u5dE3VH2</td>\n",
              "      <td>Eric_Zemmour</td>\n",
              "      <td>1</td>\n",
              "    </tr>\n",
              "    <tr>\n",
              "      <th>18428</th>\n",
              "      <td>1340694449173614592</td>\n",
              "      <td>2020-12-20 16:24:00</td>\n",
              "      <td>2686.0</td>\n",
              "      <td>525.0</td>\n",
              "      <td>Eric #Zemmour sur @CNEWS : « Il y a une fascin...</td>\n",
              "      <td>Eric_Zemmour</td>\n",
              "      <td>38</td>\n",
              "    </tr>\n",
              "    <tr>\n",
              "      <th>18429</th>\n",
              "      <td>1340058966261424130</td>\n",
              "      <td>2020-12-18 22:18:49</td>\n",
              "      <td>1091.0</td>\n",
              "      <td>190.0</td>\n",
              "      <td>Eric #Zemmour face à Michel Onfray @FrontPopOf...</td>\n",
              "      <td>Eric_Zemmour</td>\n",
              "      <td>35</td>\n",
              "    </tr>\n",
              "  </tbody>\n",
              "</table>\n",
              "<p>18430 rows × 7 columns</p>\n",
              "</div>\n",
              "      <button class=\"colab-df-convert\" onclick=\"convertToInteractive('df-3f2dbb13-bf0a-4002-8968-55d6093bc432')\"\n",
              "              title=\"Convert this dataframe to an interactive table.\"\n",
              "              style=\"display:none;\">\n",
              "        \n",
              "  <svg xmlns=\"http://www.w3.org/2000/svg\" height=\"24px\"viewBox=\"0 0 24 24\"\n",
              "       width=\"24px\">\n",
              "    <path d=\"M0 0h24v24H0V0z\" fill=\"none\"/>\n",
              "    <path d=\"M18.56 5.44l.94 2.06.94-2.06 2.06-.94-2.06-.94-.94-2.06-.94 2.06-2.06.94zm-11 1L8.5 8.5l.94-2.06 2.06-.94-2.06-.94L8.5 2.5l-.94 2.06-2.06.94zm10 10l.94 2.06.94-2.06 2.06-.94-2.06-.94-.94-2.06-.94 2.06-2.06.94z\"/><path d=\"M17.41 7.96l-1.37-1.37c-.4-.4-.92-.59-1.43-.59-.52 0-1.04.2-1.43.59L10.3 9.45l-7.72 7.72c-.78.78-.78 2.05 0 2.83L4 21.41c.39.39.9.59 1.41.59.51 0 1.02-.2 1.41-.59l7.78-7.78 2.81-2.81c.8-.78.8-2.07 0-2.86zM5.41 20L4 18.59l7.72-7.72 1.47 1.35L5.41 20z\"/>\n",
              "  </svg>\n",
              "      </button>\n",
              "      \n",
              "  <style>\n",
              "    .colab-df-container {\n",
              "      display:flex;\n",
              "      flex-wrap:wrap;\n",
              "      gap: 12px;\n",
              "    }\n",
              "\n",
              "    .colab-df-convert {\n",
              "      background-color: #E8F0FE;\n",
              "      border: none;\n",
              "      border-radius: 50%;\n",
              "      cursor: pointer;\n",
              "      display: none;\n",
              "      fill: #1967D2;\n",
              "      height: 32px;\n",
              "      padding: 0 0 0 0;\n",
              "      width: 32px;\n",
              "    }\n",
              "\n",
              "    .colab-df-convert:hover {\n",
              "      background-color: #E2EBFA;\n",
              "      box-shadow: 0px 1px 2px rgba(60, 64, 67, 0.3), 0px 1px 3px 1px rgba(60, 64, 67, 0.15);\n",
              "      fill: #174EA6;\n",
              "    }\n",
              "\n",
              "    [theme=dark] .colab-df-convert {\n",
              "      background-color: #3B4455;\n",
              "      fill: #D2E3FC;\n",
              "    }\n",
              "\n",
              "    [theme=dark] .colab-df-convert:hover {\n",
              "      background-color: #434B5C;\n",
              "      box-shadow: 0px 1px 3px 1px rgba(0, 0, 0, 0.15);\n",
              "      filter: drop-shadow(0px 1px 2px rgba(0, 0, 0, 0.3));\n",
              "      fill: #FFFFFF;\n",
              "    }\n",
              "  </style>\n",
              "\n",
              "      <script>\n",
              "        const buttonEl =\n",
              "          document.querySelector('#df-3f2dbb13-bf0a-4002-8968-55d6093bc432 button.colab-df-convert');\n",
              "        buttonEl.style.display =\n",
              "          google.colab.kernel.accessAllowed ? 'block' : 'none';\n",
              "\n",
              "        async function convertToInteractive(key) {\n",
              "          const element = document.querySelector('#df-3f2dbb13-bf0a-4002-8968-55d6093bc432');\n",
              "          const dataTable =\n",
              "            await google.colab.kernel.invokeFunction('convertToInteractive',\n",
              "                                                     [key], {});\n",
              "          if (!dataTable) return;\n",
              "\n",
              "          const docLinkHtml = 'Like what you see? Visit the ' +\n",
              "            '<a target=\"_blank\" href=https://colab.research.google.com/notebooks/data_table.ipynb>data table notebook</a>'\n",
              "            + ' to learn more about interactive tables.';\n",
              "          element.innerHTML = '';\n",
              "          dataTable['output_type'] = 'display_data';\n",
              "          await google.colab.output.renderOutput(dataTable, element);\n",
              "          const docLink = document.createElement('div');\n",
              "          docLink.innerHTML = docLinkHtml;\n",
              "          element.appendChild(docLink);\n",
              "        }\n",
              "      </script>\n",
              "    </div>\n",
              "  </div>\n",
              "  "
            ]
          },
          "metadata": {},
          "execution_count": 21
        }
      ]
    },
    {
      "cell_type": "code",
      "source": [
        "\n",
        "# Calcul de la distribution de la variable pour chaque politique\n",
        "#on fait le describe pour regarder lecards type aussi et le median \n",
        "df_tweet.groupby(\"user_id\").length_tweet.describe()"
      ],
      "metadata": {
        "colab": {
          "base_uri": "https://localhost:8080/",
          "height": 331
        },
        "id": "vHU4Wm4RJS5l",
        "outputId": "f0e61b1b-a51c-402b-d826-ee446d042774"
      },
      "execution_count": 22,
      "outputs": [
        {
          "output_type": "execute_result",
          "data": {
            "text/plain": [
              "                      count       mean        std  min   25%   50%   75%   max\n",
              "user_id                                                                       \n",
              "Anne_Hidalgo          838.0  31.445107  13.764054  2.0  20.0  36.0  43.0  54.0\n",
              "Christianne_Taubira  2402.0  19.308493   7.433403  1.0  15.0  19.0  22.0  52.0\n",
              "Emmanuel_Macron      2969.0  29.939374  13.032758  1.0  20.0  32.0  41.0  57.0\n",
              "Eric_Zemmour         2752.0  25.817951  12.788038  1.0  16.0  26.0  36.0  55.0\n",
              "JeanLuc_Melenchon    2756.0  33.462264  10.601255  3.0  26.0  35.0  42.0  57.0\n",
              "Marine_Lepen         2782.0  35.859094  10.283902  1.0  31.0  39.0  43.0  56.0\n",
              "Valerie_Pecresse     2399.0  35.304710  10.299847  1.0  30.0  38.0  43.0  58.0\n",
              "Yannick_Jadot        1532.0  30.542428  11.402907  1.0  23.0  33.0  39.0  55.0"
            ],
            "text/html": [
              "\n",
              "  <div id=\"df-110a2cbc-3729-4228-b5d9-6925cb9747a4\">\n",
              "    <div class=\"colab-df-container\">\n",
              "      <div>\n",
              "<style scoped>\n",
              "    .dataframe tbody tr th:only-of-type {\n",
              "        vertical-align: middle;\n",
              "    }\n",
              "\n",
              "    .dataframe tbody tr th {\n",
              "        vertical-align: top;\n",
              "    }\n",
              "\n",
              "    .dataframe thead th {\n",
              "        text-align: right;\n",
              "    }\n",
              "</style>\n",
              "<table border=\"1\" class=\"dataframe\">\n",
              "  <thead>\n",
              "    <tr style=\"text-align: right;\">\n",
              "      <th></th>\n",
              "      <th>count</th>\n",
              "      <th>mean</th>\n",
              "      <th>std</th>\n",
              "      <th>min</th>\n",
              "      <th>25%</th>\n",
              "      <th>50%</th>\n",
              "      <th>75%</th>\n",
              "      <th>max</th>\n",
              "    </tr>\n",
              "    <tr>\n",
              "      <th>user_id</th>\n",
              "      <th></th>\n",
              "      <th></th>\n",
              "      <th></th>\n",
              "      <th></th>\n",
              "      <th></th>\n",
              "      <th></th>\n",
              "      <th></th>\n",
              "      <th></th>\n",
              "    </tr>\n",
              "  </thead>\n",
              "  <tbody>\n",
              "    <tr>\n",
              "      <th>Anne_Hidalgo</th>\n",
              "      <td>838.0</td>\n",
              "      <td>31.445107</td>\n",
              "      <td>13.764054</td>\n",
              "      <td>2.0</td>\n",
              "      <td>20.0</td>\n",
              "      <td>36.0</td>\n",
              "      <td>43.0</td>\n",
              "      <td>54.0</td>\n",
              "    </tr>\n",
              "    <tr>\n",
              "      <th>Christianne_Taubira</th>\n",
              "      <td>2402.0</td>\n",
              "      <td>19.308493</td>\n",
              "      <td>7.433403</td>\n",
              "      <td>1.0</td>\n",
              "      <td>15.0</td>\n",
              "      <td>19.0</td>\n",
              "      <td>22.0</td>\n",
              "      <td>52.0</td>\n",
              "    </tr>\n",
              "    <tr>\n",
              "      <th>Emmanuel_Macron</th>\n",
              "      <td>2969.0</td>\n",
              "      <td>29.939374</td>\n",
              "      <td>13.032758</td>\n",
              "      <td>1.0</td>\n",
              "      <td>20.0</td>\n",
              "      <td>32.0</td>\n",
              "      <td>41.0</td>\n",
              "      <td>57.0</td>\n",
              "    </tr>\n",
              "    <tr>\n",
              "      <th>Eric_Zemmour</th>\n",
              "      <td>2752.0</td>\n",
              "      <td>25.817951</td>\n",
              "      <td>12.788038</td>\n",
              "      <td>1.0</td>\n",
              "      <td>16.0</td>\n",
              "      <td>26.0</td>\n",
              "      <td>36.0</td>\n",
              "      <td>55.0</td>\n",
              "    </tr>\n",
              "    <tr>\n",
              "      <th>JeanLuc_Melenchon</th>\n",
              "      <td>2756.0</td>\n",
              "      <td>33.462264</td>\n",
              "      <td>10.601255</td>\n",
              "      <td>3.0</td>\n",
              "      <td>26.0</td>\n",
              "      <td>35.0</td>\n",
              "      <td>42.0</td>\n",
              "      <td>57.0</td>\n",
              "    </tr>\n",
              "    <tr>\n",
              "      <th>Marine_Lepen</th>\n",
              "      <td>2782.0</td>\n",
              "      <td>35.859094</td>\n",
              "      <td>10.283902</td>\n",
              "      <td>1.0</td>\n",
              "      <td>31.0</td>\n",
              "      <td>39.0</td>\n",
              "      <td>43.0</td>\n",
              "      <td>56.0</td>\n",
              "    </tr>\n",
              "    <tr>\n",
              "      <th>Valerie_Pecresse</th>\n",
              "      <td>2399.0</td>\n",
              "      <td>35.304710</td>\n",
              "      <td>10.299847</td>\n",
              "      <td>1.0</td>\n",
              "      <td>30.0</td>\n",
              "      <td>38.0</td>\n",
              "      <td>43.0</td>\n",
              "      <td>58.0</td>\n",
              "    </tr>\n",
              "    <tr>\n",
              "      <th>Yannick_Jadot</th>\n",
              "      <td>1532.0</td>\n",
              "      <td>30.542428</td>\n",
              "      <td>11.402907</td>\n",
              "      <td>1.0</td>\n",
              "      <td>23.0</td>\n",
              "      <td>33.0</td>\n",
              "      <td>39.0</td>\n",
              "      <td>55.0</td>\n",
              "    </tr>\n",
              "  </tbody>\n",
              "</table>\n",
              "</div>\n",
              "      <button class=\"colab-df-convert\" onclick=\"convertToInteractive('df-110a2cbc-3729-4228-b5d9-6925cb9747a4')\"\n",
              "              title=\"Convert this dataframe to an interactive table.\"\n",
              "              style=\"display:none;\">\n",
              "        \n",
              "  <svg xmlns=\"http://www.w3.org/2000/svg\" height=\"24px\"viewBox=\"0 0 24 24\"\n",
              "       width=\"24px\">\n",
              "    <path d=\"M0 0h24v24H0V0z\" fill=\"none\"/>\n",
              "    <path d=\"M18.56 5.44l.94 2.06.94-2.06 2.06-.94-2.06-.94-.94-2.06-.94 2.06-2.06.94zm-11 1L8.5 8.5l.94-2.06 2.06-.94-2.06-.94L8.5 2.5l-.94 2.06-2.06.94zm10 10l.94 2.06.94-2.06 2.06-.94-2.06-.94-.94-2.06-.94 2.06-2.06.94z\"/><path d=\"M17.41 7.96l-1.37-1.37c-.4-.4-.92-.59-1.43-.59-.52 0-1.04.2-1.43.59L10.3 9.45l-7.72 7.72c-.78.78-.78 2.05 0 2.83L4 21.41c.39.39.9.59 1.41.59.51 0 1.02-.2 1.41-.59l7.78-7.78 2.81-2.81c.8-.78.8-2.07 0-2.86zM5.41 20L4 18.59l7.72-7.72 1.47 1.35L5.41 20z\"/>\n",
              "  </svg>\n",
              "      </button>\n",
              "      \n",
              "  <style>\n",
              "    .colab-df-container {\n",
              "      display:flex;\n",
              "      flex-wrap:wrap;\n",
              "      gap: 12px;\n",
              "    }\n",
              "\n",
              "    .colab-df-convert {\n",
              "      background-color: #E8F0FE;\n",
              "      border: none;\n",
              "      border-radius: 50%;\n",
              "      cursor: pointer;\n",
              "      display: none;\n",
              "      fill: #1967D2;\n",
              "      height: 32px;\n",
              "      padding: 0 0 0 0;\n",
              "      width: 32px;\n",
              "    }\n",
              "\n",
              "    .colab-df-convert:hover {\n",
              "      background-color: #E2EBFA;\n",
              "      box-shadow: 0px 1px 2px rgba(60, 64, 67, 0.3), 0px 1px 3px 1px rgba(60, 64, 67, 0.15);\n",
              "      fill: #174EA6;\n",
              "    }\n",
              "\n",
              "    [theme=dark] .colab-df-convert {\n",
              "      background-color: #3B4455;\n",
              "      fill: #D2E3FC;\n",
              "    }\n",
              "\n",
              "    [theme=dark] .colab-df-convert:hover {\n",
              "      background-color: #434B5C;\n",
              "      box-shadow: 0px 1px 3px 1px rgba(0, 0, 0, 0.15);\n",
              "      filter: drop-shadow(0px 1px 2px rgba(0, 0, 0, 0.3));\n",
              "      fill: #FFFFFF;\n",
              "    }\n",
              "  </style>\n",
              "\n",
              "      <script>\n",
              "        const buttonEl =\n",
              "          document.querySelector('#df-110a2cbc-3729-4228-b5d9-6925cb9747a4 button.colab-df-convert');\n",
              "        buttonEl.style.display =\n",
              "          google.colab.kernel.accessAllowed ? 'block' : 'none';\n",
              "\n",
              "        async function convertToInteractive(key) {\n",
              "          const element = document.querySelector('#df-110a2cbc-3729-4228-b5d9-6925cb9747a4');\n",
              "          const dataTable =\n",
              "            await google.colab.kernel.invokeFunction('convertToInteractive',\n",
              "                                                     [key], {});\n",
              "          if (!dataTable) return;\n",
              "\n",
              "          const docLinkHtml = 'Like what you see? Visit the ' +\n",
              "            '<a target=\"_blank\" href=https://colab.research.google.com/notebooks/data_table.ipynb>data table notebook</a>'\n",
              "            + ' to learn more about interactive tables.';\n",
              "          element.innerHTML = '';\n",
              "          dataTable['output_type'] = 'display_data';\n",
              "          await google.colab.output.renderOutput(dataTable, element);\n",
              "          const docLink = document.createElement('div');\n",
              "          docLink.innerHTML = docLinkHtml;\n",
              "          element.appendChild(docLink);\n",
              "        }\n",
              "      </script>\n",
              "    </div>\n",
              "  </div>\n",
              "  "
            ]
          },
          "metadata": {},
          "execution_count": 22
        }
      ]
    },
    {
      "cell_type": "markdown",
      "source": [
        "##### Lecture de quelques tweets"
      ],
      "metadata": {
        "id": "bpEgiw7xLVjq"
      }
    },
    {
      "cell_type": "code",
      "source": [
        "def print_famous_tweet(userID, nb_favorites) :\n",
        "\n",
        "  ''' Cette fonction permet de sélectionner les tweets qui ont eu le plus de favoris \n",
        "  pour un user_id donné, et de lire le tweet avec les indicateurs des autres variables de la \n",
        "  base de données  \n",
        "  '''\n",
        "\n",
        "  df_sub = df_tweet.loc[(df_tweet.user_id==userID) & (df_tweet.favorite_count > nb_favorites),:]\n",
        "  for irow in range(df_sub.shape[0]):\n",
        "      df_row = df_sub.iloc[irow,:]\n",
        "    \n",
        "      print(df_row[\"created_at\"])\n",
        "      print(\"favorite_count={:6} retweet_count={:6}\".format(df_row[\"favorite_count\"],df_row[\"retweet_count\"]))\n",
        "      print(colored(df_row[\"text\"], 'magenta'))\n",
        "      print(\"\\n\")"
      ],
      "metadata": {
        "id": "KhWzbP5LLZ8f"
      },
      "execution_count": 23,
      "outputs": []
    },
    {
      "cell_type": "code",
      "source": [
        "print_famous_tweet(\"JeanLuc_Melenchon\", 20000)"
      ],
      "metadata": {
        "colab": {
          "base_uri": "https://localhost:8080/"
        },
        "id": "5AIHNNGNNQcP",
        "outputId": "d17a4fa4-8ef1-4900-8708-c389b65e8d80"
      },
      "execution_count": 24,
      "outputs": [
        {
          "output_type": "stream",
          "name": "stdout",
          "text": [
            "2022-01-04 20:25:00\n",
            "favorite_count=21247.0 retweet_count=5719.0\n",
            "\u001b[35mLe Président maîtrise-t-il ce qu'il dit ? \n",
            "L'OMS dit « convaincre plutôt que contraindre ». Et lui ? « Emmerder davantage». Consternant.\n",
            "\n",
            "#Macron\u001b[0m\n",
            "\n",
            "\n",
            "2021-09-24 09:50:27\n",
            "favorite_count=21142.0 retweet_count=2604.0\n",
            "\u001b[35mHier, près de 100 000 personnes suivaient le #DebatBFMTV sur #Twitch sur les chaînes de @Sardoche_Lol, @HugoTravers et @DanyCaligula. Mais suite à une réclamation, ces comptes ont été ban 48h. Je le signale à Fogiel. Il faut que ça change pendant la campagne.\u001b[0m\n",
            "\n",
            "\n"
          ]
        }
      ]
    },
    {
      "cell_type": "code",
      "source": [
        "print_famous_tweet(\"Marine_Lepen\", 10000)"
      ],
      "metadata": {
        "colab": {
          "base_uri": "https://localhost:8080/"
        },
        "id": "6o9hom8kNbLO",
        "outputId": "32227d57-32a5-4399-c7b5-9eec7585876a"
      },
      "execution_count": 25,
      "outputs": [
        {
          "output_type": "stream",
          "name": "stdout",
          "text": [
            "2021-12-31 16:43:49\n",
            "favorite_count=14474.0 retweet_count=4097.0\n",
            "\u001b[35mJe suis outrée que le drapeau français ait été remplacé par celui de l’Union européenne sous l’Arc de Triomphe, au-dessus de la tombe du soldat inconnu. \n",
            "\n",
            "Cette provocation offense ceux qui se sont battus pour la France. Je demande à E. Macron de rétablir notre drapeau national. https://t.co/sR2IfjV3sG\u001b[0m\n",
            "\n",
            "\n",
            "2020-03-14 06:33:42\n",
            "favorite_count=10881.0 retweet_count=3051.0\n",
            "\u001b[35m🇫🇷🇮🇹 Les Italiens, unis face à l’épidémie, se retrouvent à leurs balcons pour chanter leur hymne national. Très belles images de communion patriotique. \n",
            "\n",
            "Nous sommes de tout cœur avec vous ! ❤️ MLP https://t.co/XKBAtPY1K4\u001b[0m\n",
            "\n",
            "\n"
          ]
        }
      ]
    },
    {
      "cell_type": "code",
      "source": [
        "print_famous_tweet(\"Eric_Zemmour\", 20000)"
      ],
      "metadata": {
        "colab": {
          "base_uri": "https://localhost:8080/"
        },
        "id": "0xP-W1q1Nd1V",
        "outputId": "7a971490-ae81-4cb3-c06f-072d9e14742b"
      },
      "execution_count": 26,
      "outputs": [
        {
          "output_type": "stream",
          "name": "stdout",
          "text": [
            "2022-01-05 16:24:53\n",
            "favorite_count=24894.0 retweet_count=8151.0\n",
            "\u001b[35mPendant 5 ans, Emmanuel Macron a soigneusement refusé d'« emmerder » les racailles, les gangs, les apprentis-djihadistes, les immigrés hors-la-loi, les antifas et les idéologues qui lavent les cerveaux de nos enfants. Lâche avec les forts, cruel avec les faibles.\u001b[0m\n",
            "\n",
            "\n",
            "2022-01-04 22:53:13\n",
            "favorite_count=24902.0 retweet_count=7461.0\n",
            "\u001b[35mEmmanuel Macron dit bel et bien : \"J'ai envie d'emmerder\". Ce n'est pas seulement la déclaration cynique d'un politicien qui veut exister dans la campagne présidentielle. C'est la cruauté avouée, assumée, qui parade devant des Français méprisés.\u001b[0m\n",
            "\n",
            "\n",
            "2021-11-30 11:29:07\n",
            "favorite_count=34664.0 retweet_count=8698.0\n",
            "\u001b[35mMes chers compatriotes, je suis candidat à l'élection présidentielle.\u001b[0m\n",
            "\n",
            "\n"
          ]
        }
      ]
    },
    {
      "cell_type": "markdown",
      "source": [
        "### **Filtres**\n",
        "\n",
        "- Filtre sur la date pour ne prendre en compte que la campagne électorale (début septembre 2021)\n",
        "- Filtre sur certains candidats pour que les traitements ne soient pas trop longs"
      ],
      "metadata": {
        "id": "FPUguYfJN1hc"
      }
    },
    {
      "cell_type": "code",
      "source": [
        "DATE_MIN = \"2021-09-01 00:00:00\"\n",
        "\n",
        "df_tweet = df_tweet.loc[df_tweet[\"created_at\"] >= datetime.datetime.strptime(DATE_MIN, \"%Y-%m-%d %H:%M:%S\")] \n",
        "\n",
        "print(f\"Taille du dataframe : {len(df_tweet)}\")"
      ],
      "metadata": {
        "colab": {
          "base_uri": "https://localhost:8080/"
        },
        "id": "FwTsiR3bN2SC",
        "outputId": "f93f8b1e-60b4-46dd-ceed-f645c9a5c066"
      },
      "execution_count": 27,
      "outputs": [
        {
          "output_type": "stream",
          "name": "stdout",
          "text": [
            "Taille du dataframe : 8749\n"
          ]
        }
      ]
    },
    {
      "cell_type": "code",
      "source": [
        "candidats_select = [\"Eric_Zemmour\", \"Marine_Lepen\", \"JeanLuc_Melenchon\",\"Emmanuel_macron\"] #TODO : choisir des candidats\n",
        "                    \n",
        "df_tweet = df_tweet.loc[df_tweet.user_id.isin(candidats_select)]\n",
        "\n",
        "print(f\"Taille du dataframe : {len(df_tweet)}\")"
      ],
      "metadata": {
        "colab": {
          "base_uri": "https://localhost:8080/"
        },
        "id": "feBPEMtmOFtS",
        "outputId": "07755abf-c310-47f7-8b24-567c52e0acab"
      },
      "execution_count": 28,
      "outputs": [
        {
          "output_type": "stream",
          "name": "stdout",
          "text": [
            "Taille du dataframe : 5873\n"
          ]
        }
      ]
    },
    {
      "cell_type": "markdown",
      "source": [
        "## **3. Preprocessing du texte**\n",
        "\n",
        "On va prendre en compte les particularités des tweets pour nettoyer le texte. \\\n",
        "On va tester les techniques de preprocessing des cours précédents sur du texte français : \n",
        "- stopwords\n",
        "- lemmatisation\n",
        "- tokenisation\n"
      ],
      "metadata": {
        "id": "MpTb_x6TTOr9"
      }
    },
    {
      "cell_type": "markdown",
      "source": [
        "### Nettoyage du texte\n",
        "Dans cette partie du TP, on nettoie le texte pour enlever les mots qui vont rajouter du bruit à l'analyse (et ne rien apporter) \\\n",
        "Pour nettoyer le texte : \n",
        "- suppression des chiffres\n",
        "- suppression de certaines expressions grâce à des expressions régulières\n",
        "- suppression des stopwords\n"
      ],
      "metadata": {
        "id": "dddhdk_8TSLH"
      }
    },
    {
      "cell_type": "code",
      "source": [
        "# on charge le modèle français de spacy\n",
        "#on utilise le medium puisque il est rapide \n",
        "nlp = fr_core_news_md.load()\n",
        "print(len(nlp.Defaults.stop_words))\n",
        "\n",
        "# on peut rajouter des stopwords à la liste de spacy de cette manière : \n",
        "nlp.Defaults.stop_words |= {\"avoir\", \"falloir\", \"faire\", \"monsieur\", \"direct\",\n",
        "                            \"interview\", \"livetweet\", \"suivez\", r\"invité\\w+\", r\"(chaîne )?youtube\", \"mlp\"}\n",
        "\n",
        "# boucle pour que les stopwords ajoutés fonctionnent\n",
        "for word in nlp.Defaults.stop_words :\n",
        "    for w in (word, word[0].capitalize(), word.upper()):\n",
        "        lex = nlp.vocab[w]\n",
        "        lex.is_stop = True\n",
        "\n",
        "# nombre de stopwords \n",
        "len(nlp.Defaults.stop_words)"
      ],
      "metadata": {
        "colab": {
          "base_uri": "https://localhost:8080/"
        },
        "id": "u_hT4kJNTP1A",
        "outputId": "1f1a6dfc-4908-4c11-bbf3-a9e4b5c1bad1"
      },
      "execution_count": 29,
      "outputs": [
        {
          "output_type": "stream",
          "name": "stdout",
          "text": [
            "600\n"
          ]
        },
        {
          "output_type": "execute_result",
          "data": {
            "text/plain": [
              "610"
            ]
          },
          "metadata": {},
          "execution_count": 29
        }
      ]
    },
    {
      "cell_type": "code",
      "source": [
        "nlp.Defaults.stop_words"
      ],
      "metadata": {
        "colab": {
          "base_uri": "https://localhost:8080/"
        },
        "id": "QR7iHO1EWKOC",
        "outputId": "59ffea97-7eb0-4342-dce2-f1011d7258b1"
      },
      "execution_count": 30,
      "outputs": [
        {
          "output_type": "execute_result",
          "data": {
            "text/plain": [
              "{'(chaîne )?youtube',\n",
              " 'a',\n",
              " 'abord',\n",
              " 'absolument',\n",
              " 'afin',\n",
              " 'ah',\n",
              " 'ai',\n",
              " 'aie',\n",
              " 'ailleurs',\n",
              " 'ainsi',\n",
              " 'ait',\n",
              " 'allaient',\n",
              " 'allo',\n",
              " 'allons',\n",
              " 'allô',\n",
              " 'alors',\n",
              " 'anterieur',\n",
              " 'anterieure',\n",
              " 'anterieures',\n",
              " 'apres',\n",
              " 'après',\n",
              " 'as',\n",
              " 'assez',\n",
              " 'attendu',\n",
              " 'au',\n",
              " 'aucun',\n",
              " 'aucune',\n",
              " 'aujourd',\n",
              " \"aujourd'hui\",\n",
              " 'aupres',\n",
              " 'auquel',\n",
              " 'aura',\n",
              " 'auraient',\n",
              " 'aurait',\n",
              " 'auront',\n",
              " 'aussi',\n",
              " 'autre',\n",
              " 'autrefois',\n",
              " 'autrement',\n",
              " 'autres',\n",
              " 'autrui',\n",
              " 'aux',\n",
              " 'auxquelles',\n",
              " 'auxquels',\n",
              " 'avaient',\n",
              " 'avais',\n",
              " 'avait',\n",
              " 'avant',\n",
              " 'avec',\n",
              " 'avoir',\n",
              " 'avons',\n",
              " 'ayant',\n",
              " 'bah',\n",
              " 'bas',\n",
              " 'basee',\n",
              " 'bat',\n",
              " 'beau',\n",
              " 'beaucoup',\n",
              " 'bien',\n",
              " 'bigre',\n",
              " 'boum',\n",
              " 'bravo',\n",
              " 'brrr',\n",
              " \"c'\",\n",
              " 'car',\n",
              " 'ce',\n",
              " 'ceci',\n",
              " 'cela',\n",
              " 'celle',\n",
              " 'celle-ci',\n",
              " 'celle-là',\n",
              " 'celles',\n",
              " 'celles-ci',\n",
              " 'celles-là',\n",
              " 'celui',\n",
              " 'celui-ci',\n",
              " 'celui-là',\n",
              " 'cent',\n",
              " 'cependant',\n",
              " 'certain',\n",
              " 'certaine',\n",
              " 'certaines',\n",
              " 'certains',\n",
              " 'certes',\n",
              " 'ces',\n",
              " 'cet',\n",
              " 'cette',\n",
              " 'ceux',\n",
              " 'ceux-ci',\n",
              " 'ceux-là',\n",
              " 'chacun',\n",
              " 'chacune',\n",
              " 'chaque',\n",
              " 'cher',\n",
              " 'chers',\n",
              " 'chez',\n",
              " 'chiche',\n",
              " 'chut',\n",
              " 'chère',\n",
              " 'chères',\n",
              " 'ci',\n",
              " 'cinq',\n",
              " 'cinquantaine',\n",
              " 'cinquante',\n",
              " 'cinquantième',\n",
              " 'cinquième',\n",
              " 'clac',\n",
              " 'clic',\n",
              " 'combien',\n",
              " 'comme',\n",
              " 'comment',\n",
              " 'comparable',\n",
              " 'comparables',\n",
              " 'compris',\n",
              " 'concernant',\n",
              " 'contre',\n",
              " 'couic',\n",
              " 'crac',\n",
              " 'c’',\n",
              " \"d'\",\n",
              " 'da',\n",
              " 'dans',\n",
              " 'de',\n",
              " 'debout',\n",
              " 'dedans',\n",
              " 'dehors',\n",
              " 'deja',\n",
              " 'delà',\n",
              " 'depuis',\n",
              " 'dernier',\n",
              " 'derniere',\n",
              " 'derriere',\n",
              " 'derrière',\n",
              " 'des',\n",
              " 'desormais',\n",
              " 'desquelles',\n",
              " 'desquels',\n",
              " 'dessous',\n",
              " 'dessus',\n",
              " 'deux',\n",
              " 'deuxième',\n",
              " 'deuxièmement',\n",
              " 'devant',\n",
              " 'devers',\n",
              " 'devra',\n",
              " 'different',\n",
              " 'differentes',\n",
              " 'differents',\n",
              " 'différent',\n",
              " 'différente',\n",
              " 'différentes',\n",
              " 'différents',\n",
              " 'dire',\n",
              " 'direct',\n",
              " 'directe',\n",
              " 'directement',\n",
              " 'dit',\n",
              " 'dite',\n",
              " 'dits',\n",
              " 'divers',\n",
              " 'diverse',\n",
              " 'diverses',\n",
              " 'dix',\n",
              " 'dix-huit',\n",
              " 'dix-neuf',\n",
              " 'dix-sept',\n",
              " 'dixième',\n",
              " 'doit',\n",
              " 'doivent',\n",
              " 'donc',\n",
              " 'dont',\n",
              " 'douze',\n",
              " 'douzième',\n",
              " 'dring',\n",
              " 'du',\n",
              " 'duquel',\n",
              " 'durant',\n",
              " 'dès',\n",
              " 'désormais',\n",
              " 'd’',\n",
              " 'effet',\n",
              " 'egale',\n",
              " 'egalement',\n",
              " 'egales',\n",
              " 'eh',\n",
              " 'elle',\n",
              " 'elle-même',\n",
              " 'elles',\n",
              " 'elles-mêmes',\n",
              " 'en',\n",
              " 'encore',\n",
              " 'enfin',\n",
              " 'entre',\n",
              " 'envers',\n",
              " 'environ',\n",
              " 'es',\n",
              " 'est',\n",
              " 'et',\n",
              " 'etaient',\n",
              " 'etais',\n",
              " 'etait',\n",
              " 'etant',\n",
              " 'etc',\n",
              " 'etre',\n",
              " 'eu',\n",
              " 'euh',\n",
              " 'eux',\n",
              " 'eux-mêmes',\n",
              " 'exactement',\n",
              " 'excepté',\n",
              " 'extenso',\n",
              " 'exterieur',\n",
              " 'faire',\n",
              " 'fais',\n",
              " 'faisaient',\n",
              " 'faisant',\n",
              " 'fait',\n",
              " 'falloir',\n",
              " 'façon',\n",
              " 'feront',\n",
              " 'fi',\n",
              " 'flac',\n",
              " 'floc',\n",
              " 'font',\n",
              " 'gens',\n",
              " 'ha',\n",
              " 'hein',\n",
              " 'hem',\n",
              " 'hep',\n",
              " 'hi',\n",
              " 'ho',\n",
              " 'holà',\n",
              " 'hop',\n",
              " 'hormis',\n",
              " 'hors',\n",
              " 'hou',\n",
              " 'houp',\n",
              " 'hue',\n",
              " 'hui',\n",
              " 'huit',\n",
              " 'huitième',\n",
              " 'hum',\n",
              " 'hurrah',\n",
              " 'hé',\n",
              " 'hélas',\n",
              " 'i',\n",
              " 'il',\n",
              " 'ils',\n",
              " 'importe',\n",
              " 'interview',\n",
              " 'invité\\\\w+',\n",
              " \"j'\",\n",
              " 'je',\n",
              " 'jusqu',\n",
              " 'jusque',\n",
              " 'juste',\n",
              " 'j’',\n",
              " \"l'\",\n",
              " 'la',\n",
              " 'laisser',\n",
              " 'laquelle',\n",
              " 'las',\n",
              " 'le',\n",
              " 'lequel',\n",
              " 'les',\n",
              " 'lesquelles',\n",
              " 'lesquels',\n",
              " 'leur',\n",
              " 'leurs',\n",
              " 'livetweet',\n",
              " 'longtemps',\n",
              " 'lors',\n",
              " 'lorsque',\n",
              " 'lui',\n",
              " 'lui-meme',\n",
              " 'lui-même',\n",
              " 'là',\n",
              " 'lès',\n",
              " 'l’',\n",
              " \"m'\",\n",
              " 'ma',\n",
              " 'maint',\n",
              " 'maintenant',\n",
              " 'mais',\n",
              " 'malgre',\n",
              " 'malgré',\n",
              " 'maximale',\n",
              " 'me',\n",
              " 'meme',\n",
              " 'memes',\n",
              " 'merci',\n",
              " 'mes',\n",
              " 'mien',\n",
              " 'mienne',\n",
              " 'miennes',\n",
              " 'miens',\n",
              " 'mille',\n",
              " 'mince',\n",
              " 'minimale',\n",
              " 'mlp',\n",
              " 'moi',\n",
              " 'moi-meme',\n",
              " 'moi-même',\n",
              " 'moindres',\n",
              " 'moins',\n",
              " 'mon',\n",
              " 'monsieur',\n",
              " 'moyennant',\n",
              " 'même',\n",
              " 'mêmes',\n",
              " 'm’',\n",
              " \"n'\",\n",
              " 'na',\n",
              " 'naturel',\n",
              " 'naturelle',\n",
              " 'naturelles',\n",
              " 'ne',\n",
              " 'neanmoins',\n",
              " 'necessaire',\n",
              " 'necessairement',\n",
              " 'neuf',\n",
              " 'neuvième',\n",
              " 'ni',\n",
              " 'nombreuses',\n",
              " 'nombreux',\n",
              " 'non',\n",
              " 'nos',\n",
              " 'notamment',\n",
              " 'notre',\n",
              " 'nous',\n",
              " 'nous-mêmes',\n",
              " 'nouveau',\n",
              " 'nul',\n",
              " 'néanmoins',\n",
              " 'nôtre',\n",
              " 'nôtres',\n",
              " 'n’',\n",
              " 'o',\n",
              " 'oh',\n",
              " 'ohé',\n",
              " 'ollé',\n",
              " 'olé',\n",
              " 'on',\n",
              " 'ont',\n",
              " 'onze',\n",
              " 'onzième',\n",
              " 'ore',\n",
              " 'ou',\n",
              " 'ouf',\n",
              " 'ouias',\n",
              " 'oust',\n",
              " 'ouste',\n",
              " 'outre',\n",
              " 'ouvert',\n",
              " 'ouverte',\n",
              " 'ouverts',\n",
              " 'où',\n",
              " 'paf',\n",
              " 'pan',\n",
              " 'par',\n",
              " 'parce',\n",
              " 'parfois',\n",
              " 'parle',\n",
              " 'parlent',\n",
              " 'parler',\n",
              " 'parmi',\n",
              " 'parseme',\n",
              " 'partant',\n",
              " 'particulier',\n",
              " 'particulière',\n",
              " 'particulièrement',\n",
              " 'pas',\n",
              " 'passé',\n",
              " 'pendant',\n",
              " 'pense',\n",
              " 'permet',\n",
              " 'personne',\n",
              " 'peu',\n",
              " 'peut',\n",
              " 'peuvent',\n",
              " 'peux',\n",
              " 'pff',\n",
              " 'pfft',\n",
              " 'pfut',\n",
              " 'pif',\n",
              " 'pire',\n",
              " 'plein',\n",
              " 'plouf',\n",
              " 'plus',\n",
              " 'plusieurs',\n",
              " 'plutôt',\n",
              " 'possessif',\n",
              " 'possessifs',\n",
              " 'possible',\n",
              " 'possibles',\n",
              " 'pouah',\n",
              " 'pour',\n",
              " 'pourquoi',\n",
              " 'pourrais',\n",
              " 'pourrait',\n",
              " 'pouvait',\n",
              " 'prealable',\n",
              " 'precisement',\n",
              " 'premier',\n",
              " 'première',\n",
              " 'premièrement',\n",
              " 'pres',\n",
              " 'probable',\n",
              " 'probante',\n",
              " 'procedant',\n",
              " 'proche',\n",
              " 'près',\n",
              " 'psitt',\n",
              " 'pu',\n",
              " 'puis',\n",
              " 'puisque',\n",
              " 'pur',\n",
              " 'pure',\n",
              " \"qu'\",\n",
              " 'quand',\n",
              " 'quant',\n",
              " 'quant-à-soi',\n",
              " 'quanta',\n",
              " 'quarante',\n",
              " 'quatorze',\n",
              " 'quatre',\n",
              " 'quatre-vingt',\n",
              " 'quatrième',\n",
              " 'quatrièmement',\n",
              " 'que',\n",
              " 'quel',\n",
              " 'quelconque',\n",
              " 'quelle',\n",
              " 'quelles',\n",
              " \"quelqu'un\",\n",
              " 'quelque',\n",
              " 'quelques',\n",
              " 'quels',\n",
              " 'qui',\n",
              " 'quiconque',\n",
              " 'quinze',\n",
              " 'quoi',\n",
              " 'quoique',\n",
              " 'qu’',\n",
              " 'rare',\n",
              " 'rarement',\n",
              " 'rares',\n",
              " 'relative',\n",
              " 'relativement',\n",
              " 'remarquable',\n",
              " 'rend',\n",
              " 'rendre',\n",
              " 'restant',\n",
              " 'reste',\n",
              " 'restent',\n",
              " 'restrictif',\n",
              " 'retour',\n",
              " 'revoici',\n",
              " 'revoilà',\n",
              " 'rien',\n",
              " \"s'\",\n",
              " 'sa',\n",
              " 'sacrebleu',\n",
              " 'sait',\n",
              " 'sans',\n",
              " 'sapristi',\n",
              " 'sauf',\n",
              " 'se',\n",
              " 'sein',\n",
              " 'seize',\n",
              " 'selon',\n",
              " 'semblable',\n",
              " 'semblaient',\n",
              " 'semble',\n",
              " 'semblent',\n",
              " 'sent',\n",
              " 'sept',\n",
              " 'septième',\n",
              " 'sera',\n",
              " 'seraient',\n",
              " 'serait',\n",
              " 'seront',\n",
              " 'ses',\n",
              " 'seul',\n",
              " 'seule',\n",
              " 'seulement',\n",
              " 'si',\n",
              " 'sien',\n",
              " 'sienne',\n",
              " 'siennes',\n",
              " 'siens',\n",
              " 'sinon',\n",
              " 'six',\n",
              " 'sixième',\n",
              " 'soi',\n",
              " 'soi-même',\n",
              " 'soit',\n",
              " 'soixante',\n",
              " 'son',\n",
              " 'sont',\n",
              " 'sous',\n",
              " 'souvent',\n",
              " 'specifique',\n",
              " 'specifiques',\n",
              " 'speculatif',\n",
              " 'stop',\n",
              " 'strictement',\n",
              " 'subtiles',\n",
              " 'suffisant',\n",
              " 'suffisante',\n",
              " 'suffit',\n",
              " 'suis',\n",
              " 'suit',\n",
              " 'suivant',\n",
              " 'suivante',\n",
              " 'suivantes',\n",
              " 'suivants',\n",
              " 'suivez',\n",
              " 'suivre',\n",
              " 'superpose',\n",
              " 'sur',\n",
              " 'surtout',\n",
              " 's’',\n",
              " \"t'\",\n",
              " 'ta',\n",
              " 'tac',\n",
              " 'tant',\n",
              " 'tardive',\n",
              " 'te',\n",
              " 'tel',\n",
              " 'telle',\n",
              " 'tellement',\n",
              " 'telles',\n",
              " 'tels',\n",
              " 'tenant',\n",
              " 'tend',\n",
              " 'tenir',\n",
              " 'tente',\n",
              " 'tes',\n",
              " 'tic',\n",
              " 'tien',\n",
              " 'tienne',\n",
              " 'tiennes',\n",
              " 'tiens',\n",
              " 'toc',\n",
              " 'toi',\n",
              " 'toi-même',\n",
              " 'ton',\n",
              " 'touchant',\n",
              " 'toujours',\n",
              " 'tous',\n",
              " 'tout',\n",
              " 'toute',\n",
              " 'toutefois',\n",
              " 'toutes',\n",
              " 'treize',\n",
              " 'trente',\n",
              " 'tres',\n",
              " 'trois',\n",
              " 'troisième',\n",
              " 'troisièmement',\n",
              " 'trop',\n",
              " 'très',\n",
              " 'tsoin',\n",
              " 'tsouin',\n",
              " 'tu',\n",
              " 'té',\n",
              " 't’',\n",
              " 'un',\n",
              " 'une',\n",
              " 'unes',\n",
              " 'uniformement',\n",
              " 'unique',\n",
              " 'uniques',\n",
              " 'uns',\n",
              " 'va',\n",
              " 'vais',\n",
              " 'vas',\n",
              " 'vers',\n",
              " 'via',\n",
              " 'vif',\n",
              " 'vifs',\n",
              " 'vingt',\n",
              " 'vivat',\n",
              " 'vive',\n",
              " 'vives',\n",
              " 'vlan',\n",
              " 'voici',\n",
              " 'voilà',\n",
              " 'vont',\n",
              " 'vos',\n",
              " 'votre',\n",
              " 'vous',\n",
              " 'vous-mêmes',\n",
              " 'vu',\n",
              " 'vé',\n",
              " 'vôtre',\n",
              " 'vôtres',\n",
              " 'zut',\n",
              " 'à',\n",
              " 'â',\n",
              " 'ça',\n",
              " 'ès',\n",
              " 'étaient',\n",
              " 'étais',\n",
              " 'était',\n",
              " 'étant',\n",
              " 'été',\n",
              " 'être',\n",
              " 'ô'}"
            ]
          },
          "metadata": {},
          "execution_count": 30
        }
      ]
    },
    {
      "cell_type": "markdown",
      "source": [
        "> **Conseil** :  Regarder toujours la liste entière de stopwords proposés pour enlever certains mots qui seraient utiles dans votre étude ou rajouter des stopwords non présents dans la liste\n"
      ],
      "metadata": {
        "id": "7LGvFG51TqHs"
      }
    },
    {
      "cell_type": "markdown",
      "source": [
        "La cellule ci-dessous donne un exemple d'informations que peut donner Spacy : "
      ],
      "metadata": {
        "id": "uJDDZXxsT1Sy"
      }
    },
    {
      "cell_type": "code",
      "source": [
        "doc = nlp(\"Demain je travaille \\\\n\\\\n à la maison. #fatigué @hetik \\\\n https://test.com\")\n",
        "\n",
        "list_spacy = []\n",
        "                \n",
        "for token in doc : \n",
        "  list_spacy.append([token.text,\n",
        "                        token.idx,\n",
        "                        token.lemma_,\n",
        "                        token.is_punct,\n",
        "                        token.is_space,\n",
        "                        token.is_alpha,\n",
        "                        token.shape_,\n",
        "                        token.pos_,\n",
        "                        token.tag_,\n",
        "                        token.ent_type_])\n",
        "  \n",
        "exemple_spacy = pd.DataFrame(list_spacy, columns=[\"text\", \"idx\",\"lemma\",\"is_punct\",\"is_space\",\"is_alpha\",\"shape\",\"pos\",\"tag\",\"ent_type\"])\n",
        "exemple_spacy"
      ],
      "metadata": {
        "colab": {
          "base_uri": "https://localhost:8080/",
          "height": 521
        },
        "id": "dPSiLvNJT2OU",
        "outputId": "31874527-53c3-42da-f09a-8325c1250d1b"
      },
      "execution_count": 31,
      "outputs": [
        {
          "output_type": "execute_result",
          "data": {
            "text/plain": [
              "                text  idx             lemma  is_punct  is_space  is_alpha  \\\n",
              "0             Demain    0            demain     False     False      True   \n",
              "1                 je    7                je     False     False      True   \n",
              "2          travaille   10         travaille     False     False      True   \n",
              "3               \\n\\n   20              \\n\\n     False     False     False   \n",
              "4                  à   25                 à     False     False      True   \n",
              "5                 la   27                le     False     False      True   \n",
              "6             maison   30            maison     False     False      True   \n",
              "7                  .   36                 .      True     False     False   \n",
              "8                  #   38                 #      True     False     False   \n",
              "9            fatigué   39          fatiguer     False     False      True   \n",
              "10            @hetik   47            @hetik     False     False     False   \n",
              "11                \\n   54                \\n     False     False     False   \n",
              "12  https://test.com   57  https://test.com     False     False     False   \n",
              "\n",
              "              shape    pos                                                tag  \\\n",
              "0             Xxxxx    ADV                                             ADV___   \n",
              "1                xx   PRON                         PRON__Number=Sing|Person=1   \n",
              "2              xxxx   VERB  VERB__Mood=Ind|Number=Sing|Person=1|Tense=Pres...   \n",
              "3              \\x\\x    ADJ                                             ADJ___   \n",
              "4                 x    ADP                                             ADP___   \n",
              "5                xx    DET  DET__Definite=Def|Gender=Fem|Number=Sing|PronT...   \n",
              "6              xxxx   NOUN                       NOUN__Gender=Fem|Number=Sing   \n",
              "7                 .  PUNCT                                           PUNCT___   \n",
              "8                 #   NOUN                       NOUN__Gender=Fem|Number=Sing   \n",
              "9              xxxx   VERB  VERB__Gender=Masc|Number=Sing|Tense=Past|VerbF...   \n",
              "10            @xxxx  PROPN                                           PROPN___   \n",
              "11               \\x  SPACE                                                _SP   \n",
              "12  xxxx://xxxx.xxx   VERB          VERB__Tense=Past|VerbForm=Part|Voice=Pass   \n",
              "\n",
              "   ent_type  \n",
              "0            \n",
              "1            \n",
              "2            \n",
              "3            \n",
              "4            \n",
              "5            \n",
              "6            \n",
              "7            \n",
              "8            \n",
              "9            \n",
              "10           \n",
              "11           \n",
              "12           "
            ],
            "text/html": [
              "\n",
              "  <div id=\"df-6e0ac10e-6501-498c-a970-8ccb3eb9bded\">\n",
              "    <div class=\"colab-df-container\">\n",
              "      <div>\n",
              "<style scoped>\n",
              "    .dataframe tbody tr th:only-of-type {\n",
              "        vertical-align: middle;\n",
              "    }\n",
              "\n",
              "    .dataframe tbody tr th {\n",
              "        vertical-align: top;\n",
              "    }\n",
              "\n",
              "    .dataframe thead th {\n",
              "        text-align: right;\n",
              "    }\n",
              "</style>\n",
              "<table border=\"1\" class=\"dataframe\">\n",
              "  <thead>\n",
              "    <tr style=\"text-align: right;\">\n",
              "      <th></th>\n",
              "      <th>text</th>\n",
              "      <th>idx</th>\n",
              "      <th>lemma</th>\n",
              "      <th>is_punct</th>\n",
              "      <th>is_space</th>\n",
              "      <th>is_alpha</th>\n",
              "      <th>shape</th>\n",
              "      <th>pos</th>\n",
              "      <th>tag</th>\n",
              "      <th>ent_type</th>\n",
              "    </tr>\n",
              "  </thead>\n",
              "  <tbody>\n",
              "    <tr>\n",
              "      <th>0</th>\n",
              "      <td>Demain</td>\n",
              "      <td>0</td>\n",
              "      <td>demain</td>\n",
              "      <td>False</td>\n",
              "      <td>False</td>\n",
              "      <td>True</td>\n",
              "      <td>Xxxxx</td>\n",
              "      <td>ADV</td>\n",
              "      <td>ADV___</td>\n",
              "      <td></td>\n",
              "    </tr>\n",
              "    <tr>\n",
              "      <th>1</th>\n",
              "      <td>je</td>\n",
              "      <td>7</td>\n",
              "      <td>je</td>\n",
              "      <td>False</td>\n",
              "      <td>False</td>\n",
              "      <td>True</td>\n",
              "      <td>xx</td>\n",
              "      <td>PRON</td>\n",
              "      <td>PRON__Number=Sing|Person=1</td>\n",
              "      <td></td>\n",
              "    </tr>\n",
              "    <tr>\n",
              "      <th>2</th>\n",
              "      <td>travaille</td>\n",
              "      <td>10</td>\n",
              "      <td>travaille</td>\n",
              "      <td>False</td>\n",
              "      <td>False</td>\n",
              "      <td>True</td>\n",
              "      <td>xxxx</td>\n",
              "      <td>VERB</td>\n",
              "      <td>VERB__Mood=Ind|Number=Sing|Person=1|Tense=Pres...</td>\n",
              "      <td></td>\n",
              "    </tr>\n",
              "    <tr>\n",
              "      <th>3</th>\n",
              "      <td>\\n\\n</td>\n",
              "      <td>20</td>\n",
              "      <td>\\n\\n</td>\n",
              "      <td>False</td>\n",
              "      <td>False</td>\n",
              "      <td>False</td>\n",
              "      <td>\\x\\x</td>\n",
              "      <td>ADJ</td>\n",
              "      <td>ADJ___</td>\n",
              "      <td></td>\n",
              "    </tr>\n",
              "    <tr>\n",
              "      <th>4</th>\n",
              "      <td>à</td>\n",
              "      <td>25</td>\n",
              "      <td>à</td>\n",
              "      <td>False</td>\n",
              "      <td>False</td>\n",
              "      <td>True</td>\n",
              "      <td>x</td>\n",
              "      <td>ADP</td>\n",
              "      <td>ADP___</td>\n",
              "      <td></td>\n",
              "    </tr>\n",
              "    <tr>\n",
              "      <th>5</th>\n",
              "      <td>la</td>\n",
              "      <td>27</td>\n",
              "      <td>le</td>\n",
              "      <td>False</td>\n",
              "      <td>False</td>\n",
              "      <td>True</td>\n",
              "      <td>xx</td>\n",
              "      <td>DET</td>\n",
              "      <td>DET__Definite=Def|Gender=Fem|Number=Sing|PronT...</td>\n",
              "      <td></td>\n",
              "    </tr>\n",
              "    <tr>\n",
              "      <th>6</th>\n",
              "      <td>maison</td>\n",
              "      <td>30</td>\n",
              "      <td>maison</td>\n",
              "      <td>False</td>\n",
              "      <td>False</td>\n",
              "      <td>True</td>\n",
              "      <td>xxxx</td>\n",
              "      <td>NOUN</td>\n",
              "      <td>NOUN__Gender=Fem|Number=Sing</td>\n",
              "      <td></td>\n",
              "    </tr>\n",
              "    <tr>\n",
              "      <th>7</th>\n",
              "      <td>.</td>\n",
              "      <td>36</td>\n",
              "      <td>.</td>\n",
              "      <td>True</td>\n",
              "      <td>False</td>\n",
              "      <td>False</td>\n",
              "      <td>.</td>\n",
              "      <td>PUNCT</td>\n",
              "      <td>PUNCT___</td>\n",
              "      <td></td>\n",
              "    </tr>\n",
              "    <tr>\n",
              "      <th>8</th>\n",
              "      <td>#</td>\n",
              "      <td>38</td>\n",
              "      <td>#</td>\n",
              "      <td>True</td>\n",
              "      <td>False</td>\n",
              "      <td>False</td>\n",
              "      <td>#</td>\n",
              "      <td>NOUN</td>\n",
              "      <td>NOUN__Gender=Fem|Number=Sing</td>\n",
              "      <td></td>\n",
              "    </tr>\n",
              "    <tr>\n",
              "      <th>9</th>\n",
              "      <td>fatigué</td>\n",
              "      <td>39</td>\n",
              "      <td>fatiguer</td>\n",
              "      <td>False</td>\n",
              "      <td>False</td>\n",
              "      <td>True</td>\n",
              "      <td>xxxx</td>\n",
              "      <td>VERB</td>\n",
              "      <td>VERB__Gender=Masc|Number=Sing|Tense=Past|VerbF...</td>\n",
              "      <td></td>\n",
              "    </tr>\n",
              "    <tr>\n",
              "      <th>10</th>\n",
              "      <td>@hetik</td>\n",
              "      <td>47</td>\n",
              "      <td>@hetik</td>\n",
              "      <td>False</td>\n",
              "      <td>False</td>\n",
              "      <td>False</td>\n",
              "      <td>@xxxx</td>\n",
              "      <td>PROPN</td>\n",
              "      <td>PROPN___</td>\n",
              "      <td></td>\n",
              "    </tr>\n",
              "    <tr>\n",
              "      <th>11</th>\n",
              "      <td>\\n</td>\n",
              "      <td>54</td>\n",
              "      <td>\\n</td>\n",
              "      <td>False</td>\n",
              "      <td>False</td>\n",
              "      <td>False</td>\n",
              "      <td>\\x</td>\n",
              "      <td>SPACE</td>\n",
              "      <td>_SP</td>\n",
              "      <td></td>\n",
              "    </tr>\n",
              "    <tr>\n",
              "      <th>12</th>\n",
              "      <td>https://test.com</td>\n",
              "      <td>57</td>\n",
              "      <td>https://test.com</td>\n",
              "      <td>False</td>\n",
              "      <td>False</td>\n",
              "      <td>False</td>\n",
              "      <td>xxxx://xxxx.xxx</td>\n",
              "      <td>VERB</td>\n",
              "      <td>VERB__Tense=Past|VerbForm=Part|Voice=Pass</td>\n",
              "      <td></td>\n",
              "    </tr>\n",
              "  </tbody>\n",
              "</table>\n",
              "</div>\n",
              "      <button class=\"colab-df-convert\" onclick=\"convertToInteractive('df-6e0ac10e-6501-498c-a970-8ccb3eb9bded')\"\n",
              "              title=\"Convert this dataframe to an interactive table.\"\n",
              "              style=\"display:none;\">\n",
              "        \n",
              "  <svg xmlns=\"http://www.w3.org/2000/svg\" height=\"24px\"viewBox=\"0 0 24 24\"\n",
              "       width=\"24px\">\n",
              "    <path d=\"M0 0h24v24H0V0z\" fill=\"none\"/>\n",
              "    <path d=\"M18.56 5.44l.94 2.06.94-2.06 2.06-.94-2.06-.94-.94-2.06-.94 2.06-2.06.94zm-11 1L8.5 8.5l.94-2.06 2.06-.94-2.06-.94L8.5 2.5l-.94 2.06-2.06.94zm10 10l.94 2.06.94-2.06 2.06-.94-2.06-.94-.94-2.06-.94 2.06-2.06.94z\"/><path d=\"M17.41 7.96l-1.37-1.37c-.4-.4-.92-.59-1.43-.59-.52 0-1.04.2-1.43.59L10.3 9.45l-7.72 7.72c-.78.78-.78 2.05 0 2.83L4 21.41c.39.39.9.59 1.41.59.51 0 1.02-.2 1.41-.59l7.78-7.78 2.81-2.81c.8-.78.8-2.07 0-2.86zM5.41 20L4 18.59l7.72-7.72 1.47 1.35L5.41 20z\"/>\n",
              "  </svg>\n",
              "      </button>\n",
              "      \n",
              "  <style>\n",
              "    .colab-df-container {\n",
              "      display:flex;\n",
              "      flex-wrap:wrap;\n",
              "      gap: 12px;\n",
              "    }\n",
              "\n",
              "    .colab-df-convert {\n",
              "      background-color: #E8F0FE;\n",
              "      border: none;\n",
              "      border-radius: 50%;\n",
              "      cursor: pointer;\n",
              "      display: none;\n",
              "      fill: #1967D2;\n",
              "      height: 32px;\n",
              "      padding: 0 0 0 0;\n",
              "      width: 32px;\n",
              "    }\n",
              "\n",
              "    .colab-df-convert:hover {\n",
              "      background-color: #E2EBFA;\n",
              "      box-shadow: 0px 1px 2px rgba(60, 64, 67, 0.3), 0px 1px 3px 1px rgba(60, 64, 67, 0.15);\n",
              "      fill: #174EA6;\n",
              "    }\n",
              "\n",
              "    [theme=dark] .colab-df-convert {\n",
              "      background-color: #3B4455;\n",
              "      fill: #D2E3FC;\n",
              "    }\n",
              "\n",
              "    [theme=dark] .colab-df-convert:hover {\n",
              "      background-color: #434B5C;\n",
              "      box-shadow: 0px 1px 3px 1px rgba(0, 0, 0, 0.15);\n",
              "      filter: drop-shadow(0px 1px 2px rgba(0, 0, 0, 0.3));\n",
              "      fill: #FFFFFF;\n",
              "    }\n",
              "  </style>\n",
              "\n",
              "      <script>\n",
              "        const buttonEl =\n",
              "          document.querySelector('#df-6e0ac10e-6501-498c-a970-8ccb3eb9bded button.colab-df-convert');\n",
              "        buttonEl.style.display =\n",
              "          google.colab.kernel.accessAllowed ? 'block' : 'none';\n",
              "\n",
              "        async function convertToInteractive(key) {\n",
              "          const element = document.querySelector('#df-6e0ac10e-6501-498c-a970-8ccb3eb9bded');\n",
              "          const dataTable =\n",
              "            await google.colab.kernel.invokeFunction('convertToInteractive',\n",
              "                                                     [key], {});\n",
              "          if (!dataTable) return;\n",
              "\n",
              "          const docLinkHtml = 'Like what you see? Visit the ' +\n",
              "            '<a target=\"_blank\" href=https://colab.research.google.com/notebooks/data_table.ipynb>data table notebook</a>'\n",
              "            + ' to learn more about interactive tables.';\n",
              "          element.innerHTML = '';\n",
              "          dataTable['output_type'] = 'display_data';\n",
              "          await google.colab.output.renderOutput(dataTable, element);\n",
              "          const docLink = document.createElement('div');\n",
              "          docLink.innerHTML = docLinkHtml;\n",
              "          element.appendChild(docLink);\n",
              "        }\n",
              "      </script>\n",
              "    </div>\n",
              "  </div>\n",
              "  "
            ]
          },
          "metadata": {},
          "execution_count": 31
        }
      ]
    },
    {
      "cell_type": "markdown",
      "source": [
        "Expressions régulières pour nettoyer le texte "
      ],
      "metadata": {
        "id": "xXNC6MByUT9L"
      }
    },
    {
      "cell_type": "code",
      "source": [
        "regexp_link = re.compile(r\"http\\S+\") # suppression des liens elle cherche tt les ligne qui commence avec http et S qui'il n ' ya pas un espace \n",
        "regexp_number = re.compile(r\"\\d+[h., ]?\\d*\") # suppression des chiffres"
      ],
      "metadata": {
        "id": "6kUUYlJcTsUY"
      },
      "execution_count": 32,
      "outputs": []
    },
    {
      "cell_type": "markdown",
      "source": [
        "**TODO** : Créer une expression régulière pour supprimer les hashtags et @ \n",
        "\n",
        "Remplacer le #TODO dans la cellule suivante par une expression régulière.\n",
        "\n",
        "Votre regexp fonctionne si vous trouver \" ça  marche  !!\""
      ],
      "metadata": {
        "id": "FfzX2LM9YKxM"
      }
    },
    {
      "cell_type": "markdown",
      "source": [
        "<details>    \n",
        "<summary>\n",
        "    <font size=\"3\" color=\"darkgreen\"><b>Aide</b></font>\n",
        "</summary>\n",
        "<p>\n",
        "Lorsque vous cherchez à créer des expressions régulières, vous pouvez vous aider en allant sur ce site : <a href=\"https://regex101.com/\" >regex101.com</a> \n",
        "</p> "
      ],
      "metadata": {
        "id": "_YiPoYFtYQov"
      }
    },
    {
      "cell_type": "code",
      "source": [
        "# suppression des hashtags et @\n",
        "regexp_hashtags = re.compile(r\"[#@]\\S+\\s\")    #on met les crocher pour lui dire on supprime soit ça soit l'autre ,, s : pour supprimer les espaces du debut \n",
        "\n",
        "test_hashtags = \"#Fuck ça #ne marche @pas !!\"\n",
        "re.sub(regexp_hashtags, \"\", test_hashtags)"
      ],
      "metadata": {
        "colab": {
          "base_uri": "https://localhost:8080/",
          "height": 35
        },
        "id": "4kZxyx0uYRwi",
        "outputId": "9827e63c-ee90-4097-be35-e13c3d1ac9c3"
      },
      "execution_count": 33,
      "outputs": [
        {
          "output_type": "execute_result",
          "data": {
            "text/plain": [
              "'ça marche !!'"
            ],
            "application/vnd.google.colaboratory.intrinsic+json": {
              "type": "string"
            }
          },
          "metadata": {},
          "execution_count": 33
        }
      ]
    },
    {
      "cell_type": "markdown",
      "source": [
        "Création de la fonction de nettoyage du texte \n",
        "\n",
        "**TODO** : coder plusieurs fonctions :      \n",
        "- une fonction `clean_text_spacy` qui prend en entrée un tweet et utilise spacy pour :     \n",
        "    - supprimer les ponctuations ; \n",
        "    - supprimer les stopwords ; \n",
        "    - supprimer les caractères de type espace (/n, /t, etc.)\n",
        "Cette fonction garde les tokens entiers\n",
        "- une fonction `clean_lemmatize` :     \n",
        "    - supprimer les ponctuations ; \n",
        "    - supprimer les stopwords ; \n",
        "    - supprimer les caractères de type espace (/n, /t, etc.)\n",
        "Cette fonction garde non pas les tokens entiers, mais les lemmes. \n",
        "- une fonction chapeau `preprocess_tweet` qui : \n",
        "  - met les mots en minuscule\n",
        "  - supprime les mots des expressions régulières\n",
        "  - au choix applique la fonction `clean_text_spacy` ou `clean_lemmatize`"
      ],
      "metadata": {
        "id": "85r-DIM4Xz8z"
      }
    },
    {
      "cell_type": "markdown",
      "source": [
        "<details>    \n",
        "<summary>\n",
        "    <font size=\"3\" color=\"darkgreen\"><b>Aide</b></font>\n",
        "</summary>\n",
        "<p>\n",
        "Lorsque vous utilisez les fonctions de spacy, vous allez potentiellement les tokeniser directement (et récupérer une liste au lieu d'un texte). Pour éviter cela, transformez le résultat de cette manière :    \n",
        "\n",
        "```\n",
        "result = \" \".join(result)\n",
        "```\n",
        "\n",
        "</p> \n",
        "\n"
      ],
      "metadata": {
        "id": "bLWLshjwX5d-"
      }
    },
    {
      "cell_type": "markdown",
      "source": [
        ""
      ],
      "metadata": {
        "id": "QjLlwd4bXimt"
      }
    },
    {
      "cell_type": "code",
      "source": [
        "#on fait la toknnization pour diviser la phrase en mot \n",
        "def clean_txt_spacy(doc):\n",
        "  txt = [token.text for token in doc if (not token.is_stop)and\n",
        "                                        (not token.is_punct )and \n",
        "                                        (not token.is_space)]\n",
        "  result = \" \".join(txt)\n",
        "\n",
        "  return result\n",
        "\n",
        "\n",
        "def clean_lemmatize(doc):\n",
        "  lemmatized_txt = [token.text for token in doc if (not token.is_stop)and\n",
        "                                        (not token.is_punct )and \n",
        "                                        (not token.is_space)]\n",
        "                                  \n",
        "\n",
        "  lemmatized_textsult= \" \".join(lemmatized_txt) \n",
        "  return lemmatized_textsult\n"
      ],
      "metadata": {
        "id": "TsLzrzgDX79M"
      },
      "execution_count": 34,
      "outputs": []
    },
    {
      "cell_type": "code",
      "source": [
        ""
      ],
      "metadata": {
        "id": "1Tph7v84izvg"
      },
      "execution_count": 34,
      "outputs": []
    },
    {
      "cell_type": "markdown",
      "source": [
        "<details>    \n",
        "<summary>\n",
        "    <font size=\"3\" color=\"darkgreen\"><b>Aide</b></font>\n",
        "</summary>\n",
        "<p>\n",
        "- Utiliser re.sub() pour supprimer les liens, hashtags, chiffres\n",
        "</p> "
      ],
      "metadata": {
        "id": "nz6SaukuYezm"
      }
    },
    {
      "cell_type": "code",
      "source": [
        "def preprocess_tweet(text, lemmatizing = True):\n",
        "\n",
        "  '''Fonction permettant de nettoyer le texte. Elle renvoie un string (pas de tokenisation encore)'''\n",
        "  text_clean = text.lower().encode('utf-8').decode('utf-8')\n",
        "  #TODO : supprimer du texte les liens, hashtags et chiffres avec les regexp précédentes\n",
        "  text_clean = re.sub(regexp_link, \"\",text_clean)\n",
        "  text_clean = re.sub(regexp_hashtags,\"\",text_clean)\n",
        "  text_clean = re.sub(regexp_number,\"\",text_clean)\n",
        "\n",
        "  doc = nlp(text_clean)\n",
        "  if lemmatizing : \n",
        "    preprocessed_tweet = clean_lemmatize(doc)\n",
        "  else : \n",
        "    preprocessed_tweet = clean_txt_spacy(doc)\n",
        "\n",
        "  return preprocessed_tweet\n"
      ],
      "metadata": {
        "id": "Apfx3uB7hVwc"
      },
      "execution_count": 35,
      "outputs": []
    },
    {
      "cell_type": "code",
      "source": [
        "tweet_test = \"Ils Pensaient se moquer #non, ils m'ont donné 1 slogan !😄 \\n\\n- Entretien à découvrir et partager \\n\\nhttps://t.co/Yn60Areagu\"\n",
        "preprocess_tweet(tweet_test, lemmatizing=True)"
      ],
      "metadata": {
        "colab": {
          "base_uri": "https://localhost:8080/",
          "height": 35
        },
        "id": "i-74EiYaTNcq",
        "outputId": "c7dd12e1-2fc0-4496-fc09-e45734170aa9"
      },
      "execution_count": 36,
      "outputs": [
        {
          "output_type": "execute_result",
          "data": {
            "text/plain": [
              "'pensaient moquer donné slogan 😄 entretien découvrir partager'"
            ],
            "application/vnd.google.colaboratory.intrinsic+json": {
              "type": "string"
            }
          },
          "metadata": {},
          "execution_count": 36
        }
      ]
    },
    {
      "cell_type": "markdown",
      "source": [
        "Réponse attendue : \n",
        "```python \n",
        "'pensaient moquer donner slogan 😄 entretien découvrir partager'\n",
        "```"
      ],
      "metadata": {
        "id": "4maahrVn55Dz"
      }
    },
    {
      "cell_type": "code",
      "source": [
        "# On peut alors nettoyer nos tweets, et créer une nouvelle colonne, text_preprocess\n",
        "# cela peut prendre un peu de temps à tourner\n",
        "df_tweet[\"text_preprocess\"] = df_tweet[\"text\"].apply(lambda tweet : preprocess_tweet(tweet, lemmatizing=True))"
      ],
      "metadata": {
        "id": "cxPisbvt5a1a"
      },
      "execution_count": 37,
      "outputs": []
    },
    {
      "cell_type": "code",
      "source": [
        "# On regarde le résultat du nettoyage du texte\n",
        "pd.set_option(\"max_colwidth\", None)\n",
        "df_tweet[[\"text\", \"text_preprocess\"]].head(10)"
      ],
      "metadata": {
        "colab": {
          "base_uri": "https://localhost:8080/",
          "height": 1000
        },
        "id": "K-3FM8bT6zzn",
        "outputId": "2a76f2df-3a09-420d-8e37-5c0aa2006cfa"
      },
      "execution_count": 38,
      "outputs": [
        {
          "output_type": "execute_result",
          "data": {
            "text/plain": [
              "                                                                                                                                                                                                                                                                                                               text  \\\n",
              "0                                                                                                                                                            Redonner du sens à la gauche : se rassembler avec le Parlement de l'Union Populaire - Tribune de membres du @ParlementPop. \\n\\nhttps://t.co/JzBPeFNSOz   \n",
              "1        L’inscription sur les listes électorales c’est jusqu’au 4 mars et c’est le moyen de faire \\n✅ la 6e République\\n✅ le SMIC à 1400€ nets\\n✅ la règle verte \\n✅ la retraite à 60 ans\\n✅ une France indépendante au service de la paix\\n\\n➡️ Ça se passe ici : https://t.co/FJUbiFzRFI https://t.co/orrqlIgQ42   \n",
              "2                                                                                                                                                                                                                🔴 Rendez-vous ce dimanche 30 janvier à 20h55 sur France 5 pour #cdanslair. https://t.co/Z7nsNC1rg4   \n",
              "3  3 solutions pour financer la retraite à 60 ans\\n\\n✅ Égalité salariale femmes-hommes\\n✅ Augmenter les cotisations pour les salaires supérieurs à 3400€\\n✅ Augmenter les cotisations patronales avec un fond de péréquation inter-entreprises pour que les grosses payent pour les petites https://t.co/WSCD1xX5Qt   \n",
              "4   La Méditerranée est le plus grand cimetière du monde. Ceux qui émigrent ne partent pas par plaisir. Il faut donc arrêter les accords commerciaux déséquilibrés. Mais quand les gens sont là, il ne faut pas les maltraiter. Il faut les traiter humainement et dignement.\\n\\n#FaceABaba https://t.co/K2VLIbH7dI   \n",
              "5                                                                                                                                                                                                                                     Retour d'émission #FaceABaba - Nouvelle note de blog\\nhttps://t.co/ayMGflKdv9   \n",
              "6                                                Le jour de mes 50 ans, la fille de Raquel et d'autres m'ont offert un drapeau de la France de 7 mètres de long. On a posé cette petite fille sur ce grand drapeau, tous les larmes aux yeux. Vive la République. #FaceABaba #AvecMelenchon https://t.co/kFfgejSWyz   \n",
              "7     La majeure partie de la dette publique de la zone Euro appartient à la Banque Centrale Européenne. Il faut geler ces titres, parce que cette dette ne sera jamais remboursée et qu'elle nous empêche de faire les investissements dont nous avons besoin.\\n#FaceABaba\\n#AvecMelenchon https://t.co/wpCqgJ3omz   \n",
              "8                Dans une entreprise, je propose qu'il n'y ait pas d'écart de salaire de plus de 1 à 20. Comme ça quand le patron décide de s'augmenter, comme dans les entreprises du CAC40, il devra aussi augmenter le salarié qu'il paie au lance-pierre.\\n\\n#FaceABaba\\n#AvecMelenchon https://t.co/pIbQaaInup   \n",
              "9                                                       Le peuple français est mal en ce moment. Il a tellement changé entre le moment où on a fait la Constitution de 1958 et aujourd'hui. Avec la 6ème République, c'est le peuple lui-même qui va se refonder. #FaceABaba #AvecMelenchon https://t.co/KCANTPeOBh   \n",
              "\n",
              "                                                                                                                                                                                                text_preprocess  \n",
              "0                                                                                                                                     redonner sens gauche rassembler parlement union populaire tribune membres  \n",
              "1                                                   inscription listes électorales jusqu’ mars moyen ✅ e république ✅ smic € nets ✅ règle verte ✅ retraite ans ✅ france indépendante service paix ➡ ️ passe ici  \n",
              "2                                                                                                                                                                              🔴 rendez dimanche janvier france  \n",
              "3  solutions financer retraite ans ✅ égalité salariale femmes hommes ✅ augmenter cotisations salaires supérieurs € ✅ augmenter cotisations patronales fond péréquation inter-entreprises grosses payent petites  \n",
              "4                                                 méditerranée grand cimetière monde émigrent partent plaisir faut arrêter accords commerciaux déséquilibrés faut maltraiter faut traiter humainement dignement  \n",
              "5                                                                                                                                                                                   émission nouvelle note blog  \n",
              "6                                                                                                jour ans fille raquel offert drapeau france mètres long posé petite fille grand drapeau larmes yeux république  \n",
              "7                                                        majeure partie dette publique zone euro appartient banque centrale européenne faut geler titres dette jamais remboursée empêche investissements besoin  \n",
              "8                                                                                                entreprise propose y écart salaire patron décide augmenter entreprises cac augmenter salarié paie lance pierre  \n",
              "9                                                                                                                          peuple français mal moment changé moment constitution ème république peuple refonder  "
            ],
            "text/html": [
              "\n",
              "  <div id=\"df-087674b3-5e7b-49b3-ade0-f5926255e15a\">\n",
              "    <div class=\"colab-df-container\">\n",
              "      <div>\n",
              "<style scoped>\n",
              "    .dataframe tbody tr th:only-of-type {\n",
              "        vertical-align: middle;\n",
              "    }\n",
              "\n",
              "    .dataframe tbody tr th {\n",
              "        vertical-align: top;\n",
              "    }\n",
              "\n",
              "    .dataframe thead th {\n",
              "        text-align: right;\n",
              "    }\n",
              "</style>\n",
              "<table border=\"1\" class=\"dataframe\">\n",
              "  <thead>\n",
              "    <tr style=\"text-align: right;\">\n",
              "      <th></th>\n",
              "      <th>text</th>\n",
              "      <th>text_preprocess</th>\n",
              "    </tr>\n",
              "  </thead>\n",
              "  <tbody>\n",
              "    <tr>\n",
              "      <th>0</th>\n",
              "      <td>Redonner du sens à la gauche : se rassembler avec le Parlement de l'Union Populaire - Tribune de membres du @ParlementPop. \\n\\nhttps://t.co/JzBPeFNSOz</td>\n",
              "      <td>redonner sens gauche rassembler parlement union populaire tribune membres</td>\n",
              "    </tr>\n",
              "    <tr>\n",
              "      <th>1</th>\n",
              "      <td>L’inscription sur les listes électorales c’est jusqu’au 4 mars et c’est le moyen de faire \\n✅ la 6e République\\n✅ le SMIC à 1400€ nets\\n✅ la règle verte \\n✅ la retraite à 60 ans\\n✅ une France indépendante au service de la paix\\n\\n➡️ Ça se passe ici : https://t.co/FJUbiFzRFI https://t.co/orrqlIgQ42</td>\n",
              "      <td>inscription listes électorales jusqu’ mars moyen ✅ e république ✅ smic € nets ✅ règle verte ✅ retraite ans ✅ france indépendante service paix ➡ ️ passe ici</td>\n",
              "    </tr>\n",
              "    <tr>\n",
              "      <th>2</th>\n",
              "      <td>🔴 Rendez-vous ce dimanche 30 janvier à 20h55 sur France 5 pour #cdanslair. https://t.co/Z7nsNC1rg4</td>\n",
              "      <td>🔴 rendez dimanche janvier france</td>\n",
              "    </tr>\n",
              "    <tr>\n",
              "      <th>3</th>\n",
              "      <td>3 solutions pour financer la retraite à 60 ans\\n\\n✅ Égalité salariale femmes-hommes\\n✅ Augmenter les cotisations pour les salaires supérieurs à 3400€\\n✅ Augmenter les cotisations patronales avec un fond de péréquation inter-entreprises pour que les grosses payent pour les petites https://t.co/WSCD1xX5Qt</td>\n",
              "      <td>solutions financer retraite ans ✅ égalité salariale femmes hommes ✅ augmenter cotisations salaires supérieurs € ✅ augmenter cotisations patronales fond péréquation inter-entreprises grosses payent petites</td>\n",
              "    </tr>\n",
              "    <tr>\n",
              "      <th>4</th>\n",
              "      <td>La Méditerranée est le plus grand cimetière du monde. Ceux qui émigrent ne partent pas par plaisir. Il faut donc arrêter les accords commerciaux déséquilibrés. Mais quand les gens sont là, il ne faut pas les maltraiter. Il faut les traiter humainement et dignement.\\n\\n#FaceABaba https://t.co/K2VLIbH7dI</td>\n",
              "      <td>méditerranée grand cimetière monde émigrent partent plaisir faut arrêter accords commerciaux déséquilibrés faut maltraiter faut traiter humainement dignement</td>\n",
              "    </tr>\n",
              "    <tr>\n",
              "      <th>5</th>\n",
              "      <td>Retour d'émission #FaceABaba - Nouvelle note de blog\\nhttps://t.co/ayMGflKdv9</td>\n",
              "      <td>émission nouvelle note blog</td>\n",
              "    </tr>\n",
              "    <tr>\n",
              "      <th>6</th>\n",
              "      <td>Le jour de mes 50 ans, la fille de Raquel et d'autres m'ont offert un drapeau de la France de 7 mètres de long. On a posé cette petite fille sur ce grand drapeau, tous les larmes aux yeux. Vive la République. #FaceABaba #AvecMelenchon https://t.co/kFfgejSWyz</td>\n",
              "      <td>jour ans fille raquel offert drapeau france mètres long posé petite fille grand drapeau larmes yeux république</td>\n",
              "    </tr>\n",
              "    <tr>\n",
              "      <th>7</th>\n",
              "      <td>La majeure partie de la dette publique de la zone Euro appartient à la Banque Centrale Européenne. Il faut geler ces titres, parce que cette dette ne sera jamais remboursée et qu'elle nous empêche de faire les investissements dont nous avons besoin.\\n#FaceABaba\\n#AvecMelenchon https://t.co/wpCqgJ3omz</td>\n",
              "      <td>majeure partie dette publique zone euro appartient banque centrale européenne faut geler titres dette jamais remboursée empêche investissements besoin</td>\n",
              "    </tr>\n",
              "    <tr>\n",
              "      <th>8</th>\n",
              "      <td>Dans une entreprise, je propose qu'il n'y ait pas d'écart de salaire de plus de 1 à 20. Comme ça quand le patron décide de s'augmenter, comme dans les entreprises du CAC40, il devra aussi augmenter le salarié qu'il paie au lance-pierre.\\n\\n#FaceABaba\\n#AvecMelenchon https://t.co/pIbQaaInup</td>\n",
              "      <td>entreprise propose y écart salaire patron décide augmenter entreprises cac augmenter salarié paie lance pierre</td>\n",
              "    </tr>\n",
              "    <tr>\n",
              "      <th>9</th>\n",
              "      <td>Le peuple français est mal en ce moment. Il a tellement changé entre le moment où on a fait la Constitution de 1958 et aujourd'hui. Avec la 6ème République, c'est le peuple lui-même qui va se refonder. #FaceABaba #AvecMelenchon https://t.co/KCANTPeOBh</td>\n",
              "      <td>peuple français mal moment changé moment constitution ème république peuple refonder</td>\n",
              "    </tr>\n",
              "  </tbody>\n",
              "</table>\n",
              "</div>\n",
              "      <button class=\"colab-df-convert\" onclick=\"convertToInteractive('df-087674b3-5e7b-49b3-ade0-f5926255e15a')\"\n",
              "              title=\"Convert this dataframe to an interactive table.\"\n",
              "              style=\"display:none;\">\n",
              "        \n",
              "  <svg xmlns=\"http://www.w3.org/2000/svg\" height=\"24px\"viewBox=\"0 0 24 24\"\n",
              "       width=\"24px\">\n",
              "    <path d=\"M0 0h24v24H0V0z\" fill=\"none\"/>\n",
              "    <path d=\"M18.56 5.44l.94 2.06.94-2.06 2.06-.94-2.06-.94-.94-2.06-.94 2.06-2.06.94zm-11 1L8.5 8.5l.94-2.06 2.06-.94-2.06-.94L8.5 2.5l-.94 2.06-2.06.94zm10 10l.94 2.06.94-2.06 2.06-.94-2.06-.94-.94-2.06-.94 2.06-2.06.94z\"/><path d=\"M17.41 7.96l-1.37-1.37c-.4-.4-.92-.59-1.43-.59-.52 0-1.04.2-1.43.59L10.3 9.45l-7.72 7.72c-.78.78-.78 2.05 0 2.83L4 21.41c.39.39.9.59 1.41.59.51 0 1.02-.2 1.41-.59l7.78-7.78 2.81-2.81c.8-.78.8-2.07 0-2.86zM5.41 20L4 18.59l7.72-7.72 1.47 1.35L5.41 20z\"/>\n",
              "  </svg>\n",
              "      </button>\n",
              "      \n",
              "  <style>\n",
              "    .colab-df-container {\n",
              "      display:flex;\n",
              "      flex-wrap:wrap;\n",
              "      gap: 12px;\n",
              "    }\n",
              "\n",
              "    .colab-df-convert {\n",
              "      background-color: #E8F0FE;\n",
              "      border: none;\n",
              "      border-radius: 50%;\n",
              "      cursor: pointer;\n",
              "      display: none;\n",
              "      fill: #1967D2;\n",
              "      height: 32px;\n",
              "      padding: 0 0 0 0;\n",
              "      width: 32px;\n",
              "    }\n",
              "\n",
              "    .colab-df-convert:hover {\n",
              "      background-color: #E2EBFA;\n",
              "      box-shadow: 0px 1px 2px rgba(60, 64, 67, 0.3), 0px 1px 3px 1px rgba(60, 64, 67, 0.15);\n",
              "      fill: #174EA6;\n",
              "    }\n",
              "\n",
              "    [theme=dark] .colab-df-convert {\n",
              "      background-color: #3B4455;\n",
              "      fill: #D2E3FC;\n",
              "    }\n",
              "\n",
              "    [theme=dark] .colab-df-convert:hover {\n",
              "      background-color: #434B5C;\n",
              "      box-shadow: 0px 1px 3px 1px rgba(0, 0, 0, 0.15);\n",
              "      filter: drop-shadow(0px 1px 2px rgba(0, 0, 0, 0.3));\n",
              "      fill: #FFFFFF;\n",
              "    }\n",
              "  </style>\n",
              "\n",
              "      <script>\n",
              "        const buttonEl =\n",
              "          document.querySelector('#df-087674b3-5e7b-49b3-ade0-f5926255e15a button.colab-df-convert');\n",
              "        buttonEl.style.display =\n",
              "          google.colab.kernel.accessAllowed ? 'block' : 'none';\n",
              "\n",
              "        async function convertToInteractive(key) {\n",
              "          const element = document.querySelector('#df-087674b3-5e7b-49b3-ade0-f5926255e15a');\n",
              "          const dataTable =\n",
              "            await google.colab.kernel.invokeFunction('convertToInteractive',\n",
              "                                                     [key], {});\n",
              "          if (!dataTable) return;\n",
              "\n",
              "          const docLinkHtml = 'Like what you see? Visit the ' +\n",
              "            '<a target=\"_blank\" href=https://colab.research.google.com/notebooks/data_table.ipynb>data table notebook</a>'\n",
              "            + ' to learn more about interactive tables.';\n",
              "          element.innerHTML = '';\n",
              "          dataTable['output_type'] = 'display_data';\n",
              "          await google.colab.output.renderOutput(dataTable, element);\n",
              "          const docLink = document.createElement('div');\n",
              "          docLink.innerHTML = docLinkHtml;\n",
              "          element.appendChild(docLink);\n",
              "        }\n",
              "      </script>\n",
              "    </div>\n",
              "  </div>\n",
              "  "
            ]
          },
          "metadata": {},
          "execution_count": 38
        }
      ]
    },
    {
      "cell_type": "markdown",
      "source": [
        "> Le preprocess n'est pas encore parfait, on pourrait enlever les verbes avec du pos-tagging ou bien rajouter l'info de pos-tagging après chaque mot. \\\n",
        "> Supprimer les emojis ou les transformer en texte."
      ],
      "metadata": {
        "id": "cd3Xd2tP67_M"
      }
    },
    {
      "cell_type": "markdown",
      "source": [
        "### Tokenisation\n",
        "On tokenise la colonne de tweets prétraités (preprocess)\n",
        "\n",
        "**TODO** : utiliser le module nltk pour tokeniser un tweet avec la fonction tokenisation"
      ],
      "metadata": {
        "id": "Fxy3qsX47BGE"
      }
    },
    {
      "cell_type": "code",
      "source": [
        "nltk.download('punkt') # nécessaire pour la tokenisation"
      ],
      "metadata": {
        "colab": {
          "base_uri": "https://localhost:8080/"
        },
        "id": "-qOfpQEP7Dc0",
        "outputId": "ed8d32b3-53de-485d-f96b-becf7a7a76ad"
      },
      "execution_count": 39,
      "outputs": [
        {
          "output_type": "stream",
          "name": "stdout",
          "text": [
            "[nltk_data] Downloading package punkt to /root/nltk_data...\n",
            "[nltk_data]   Unzipping tokenizers/punkt.zip.\n"
          ]
        },
        {
          "output_type": "execute_result",
          "data": {
            "text/plain": [
              "True"
            ]
          },
          "metadata": {},
          "execution_count": 39
        }
      ]
    },
    {
      "cell_type": "code",
      "source": [
        "# Remplir le None dans le code\n",
        "def tokenisation(tweet):\n",
        "  tweet_tokenized = nltk.word_tokenize(tweet)\n",
        "  return(tweet_tokenized)"
      ],
      "metadata": {
        "id": "qFJhAO6f6_mp"
      },
      "execution_count": 40,
      "outputs": []
    },
    {
      "cell_type": "code",
      "source": [
        "df_tweet[\"tokens\"] = df_tweet[\"text_preprocess\"].apply(lambda tweet : tokenisation(tweet))"
      ],
      "metadata": {
        "id": "i9OH1jSF7Z70"
      },
      "execution_count": 41,
      "outputs": []
    },
    {
      "cell_type": "code",
      "source": [
        "df_tweet[[\"text_preprocess\", \"tokens\"]].head()"
      ],
      "metadata": {
        "colab": {
          "base_uri": "https://localhost:8080/",
          "height": 458
        },
        "id": "FnME5o5V7aZN",
        "outputId": "9b08fb3f-d910-4b44-8b72-95f5e37aa016"
      },
      "execution_count": 42,
      "outputs": [
        {
          "output_type": "execute_result",
          "data": {
            "text/plain": [
              "                                                                                                                                                                                                text_preprocess  \\\n",
              "0                                                                                                                                     redonner sens gauche rassembler parlement union populaire tribune membres   \n",
              "1                                                   inscription listes électorales jusqu’ mars moyen ✅ e république ✅ smic € nets ✅ règle verte ✅ retraite ans ✅ france indépendante service paix ➡ ️ passe ici   \n",
              "2                                                                                                                                                                              🔴 rendez dimanche janvier france   \n",
              "3  solutions financer retraite ans ✅ égalité salariale femmes hommes ✅ augmenter cotisations salaires supérieurs € ✅ augmenter cotisations patronales fond péréquation inter-entreprises grosses payent petites   \n",
              "4                                                 méditerranée grand cimetière monde émigrent partent plaisir faut arrêter accords commerciaux déséquilibrés faut maltraiter faut traiter humainement dignement   \n",
              "\n",
              "                                                                                                                                                                                                                                   tokens  \n",
              "0                                                                                                                                                     [redonner, sens, gauche, rassembler, parlement, union, populaire, tribune, membres]  \n",
              "1                                              [inscription, listes, électorales, jusqu, ’, mars, moyen, ✅, e, république, ✅, smic, €, nets, ✅, règle, verte, ✅, retraite, ans, ✅, france, indépendante, service, paix, ➡, ️, passe, ici]  \n",
              "2                                                                                                                                                                                                  [🔴, rendez, dimanche, janvier, france]  \n",
              "3  [solutions, financer, retraite, ans, ✅, égalité, salariale, femmes, hommes, ✅, augmenter, cotisations, salaires, supérieurs, €, ✅, augmenter, cotisations, patronales, fond, péréquation, inter-entreprises, grosses, payent, petites]  \n",
              "4                                                        [méditerranée, grand, cimetière, monde, émigrent, partent, plaisir, faut, arrêter, accords, commerciaux, déséquilibrés, faut, maltraiter, faut, traiter, humainement, dignement]  "
            ],
            "text/html": [
              "\n",
              "  <div id=\"df-cacecdee-c097-4198-b5ad-141f438c85dd\">\n",
              "    <div class=\"colab-df-container\">\n",
              "      <div>\n",
              "<style scoped>\n",
              "    .dataframe tbody tr th:only-of-type {\n",
              "        vertical-align: middle;\n",
              "    }\n",
              "\n",
              "    .dataframe tbody tr th {\n",
              "        vertical-align: top;\n",
              "    }\n",
              "\n",
              "    .dataframe thead th {\n",
              "        text-align: right;\n",
              "    }\n",
              "</style>\n",
              "<table border=\"1\" class=\"dataframe\">\n",
              "  <thead>\n",
              "    <tr style=\"text-align: right;\">\n",
              "      <th></th>\n",
              "      <th>text_preprocess</th>\n",
              "      <th>tokens</th>\n",
              "    </tr>\n",
              "  </thead>\n",
              "  <tbody>\n",
              "    <tr>\n",
              "      <th>0</th>\n",
              "      <td>redonner sens gauche rassembler parlement union populaire tribune membres</td>\n",
              "      <td>[redonner, sens, gauche, rassembler, parlement, union, populaire, tribune, membres]</td>\n",
              "    </tr>\n",
              "    <tr>\n",
              "      <th>1</th>\n",
              "      <td>inscription listes électorales jusqu’ mars moyen ✅ e république ✅ smic € nets ✅ règle verte ✅ retraite ans ✅ france indépendante service paix ➡ ️ passe ici</td>\n",
              "      <td>[inscription, listes, électorales, jusqu, ’, mars, moyen, ✅, e, république, ✅, smic, €, nets, ✅, règle, verte, ✅, retraite, ans, ✅, france, indépendante, service, paix, ➡, ️, passe, ici]</td>\n",
              "    </tr>\n",
              "    <tr>\n",
              "      <th>2</th>\n",
              "      <td>🔴 rendez dimanche janvier france</td>\n",
              "      <td>[🔴, rendez, dimanche, janvier, france]</td>\n",
              "    </tr>\n",
              "    <tr>\n",
              "      <th>3</th>\n",
              "      <td>solutions financer retraite ans ✅ égalité salariale femmes hommes ✅ augmenter cotisations salaires supérieurs € ✅ augmenter cotisations patronales fond péréquation inter-entreprises grosses payent petites</td>\n",
              "      <td>[solutions, financer, retraite, ans, ✅, égalité, salariale, femmes, hommes, ✅, augmenter, cotisations, salaires, supérieurs, €, ✅, augmenter, cotisations, patronales, fond, péréquation, inter-entreprises, grosses, payent, petites]</td>\n",
              "    </tr>\n",
              "    <tr>\n",
              "      <th>4</th>\n",
              "      <td>méditerranée grand cimetière monde émigrent partent plaisir faut arrêter accords commerciaux déséquilibrés faut maltraiter faut traiter humainement dignement</td>\n",
              "      <td>[méditerranée, grand, cimetière, monde, émigrent, partent, plaisir, faut, arrêter, accords, commerciaux, déséquilibrés, faut, maltraiter, faut, traiter, humainement, dignement]</td>\n",
              "    </tr>\n",
              "  </tbody>\n",
              "</table>\n",
              "</div>\n",
              "      <button class=\"colab-df-convert\" onclick=\"convertToInteractive('df-cacecdee-c097-4198-b5ad-141f438c85dd')\"\n",
              "              title=\"Convert this dataframe to an interactive table.\"\n",
              "              style=\"display:none;\">\n",
              "        \n",
              "  <svg xmlns=\"http://www.w3.org/2000/svg\" height=\"24px\"viewBox=\"0 0 24 24\"\n",
              "       width=\"24px\">\n",
              "    <path d=\"M0 0h24v24H0V0z\" fill=\"none\"/>\n",
              "    <path d=\"M18.56 5.44l.94 2.06.94-2.06 2.06-.94-2.06-.94-.94-2.06-.94 2.06-2.06.94zm-11 1L8.5 8.5l.94-2.06 2.06-.94-2.06-.94L8.5 2.5l-.94 2.06-2.06.94zm10 10l.94 2.06.94-2.06 2.06-.94-2.06-.94-.94-2.06-.94 2.06-2.06.94z\"/><path d=\"M17.41 7.96l-1.37-1.37c-.4-.4-.92-.59-1.43-.59-.52 0-1.04.2-1.43.59L10.3 9.45l-7.72 7.72c-.78.78-.78 2.05 0 2.83L4 21.41c.39.39.9.59 1.41.59.51 0 1.02-.2 1.41-.59l7.78-7.78 2.81-2.81c.8-.78.8-2.07 0-2.86zM5.41 20L4 18.59l7.72-7.72 1.47 1.35L5.41 20z\"/>\n",
              "  </svg>\n",
              "      </button>\n",
              "      \n",
              "  <style>\n",
              "    .colab-df-container {\n",
              "      display:flex;\n",
              "      flex-wrap:wrap;\n",
              "      gap: 12px;\n",
              "    }\n",
              "\n",
              "    .colab-df-convert {\n",
              "      background-color: #E8F0FE;\n",
              "      border: none;\n",
              "      border-radius: 50%;\n",
              "      cursor: pointer;\n",
              "      display: none;\n",
              "      fill: #1967D2;\n",
              "      height: 32px;\n",
              "      padding: 0 0 0 0;\n",
              "      width: 32px;\n",
              "    }\n",
              "\n",
              "    .colab-df-convert:hover {\n",
              "      background-color: #E2EBFA;\n",
              "      box-shadow: 0px 1px 2px rgba(60, 64, 67, 0.3), 0px 1px 3px 1px rgba(60, 64, 67, 0.15);\n",
              "      fill: #174EA6;\n",
              "    }\n",
              "\n",
              "    [theme=dark] .colab-df-convert {\n",
              "      background-color: #3B4455;\n",
              "      fill: #D2E3FC;\n",
              "    }\n",
              "\n",
              "    [theme=dark] .colab-df-convert:hover {\n",
              "      background-color: #434B5C;\n",
              "      box-shadow: 0px 1px 3px 1px rgba(0, 0, 0, 0.15);\n",
              "      filter: drop-shadow(0px 1px 2px rgba(0, 0, 0, 0.3));\n",
              "      fill: #FFFFFF;\n",
              "    }\n",
              "  </style>\n",
              "\n",
              "      <script>\n",
              "        const buttonEl =\n",
              "          document.querySelector('#df-cacecdee-c097-4198-b5ad-141f438c85dd button.colab-df-convert');\n",
              "        buttonEl.style.display =\n",
              "          google.colab.kernel.accessAllowed ? 'block' : 'none';\n",
              "\n",
              "        async function convertToInteractive(key) {\n",
              "          const element = document.querySelector('#df-cacecdee-c097-4198-b5ad-141f438c85dd');\n",
              "          const dataTable =\n",
              "            await google.colab.kernel.invokeFunction('convertToInteractive',\n",
              "                                                     [key], {});\n",
              "          if (!dataTable) return;\n",
              "\n",
              "          const docLinkHtml = 'Like what you see? Visit the ' +\n",
              "            '<a target=\"_blank\" href=https://colab.research.google.com/notebooks/data_table.ipynb>data table notebook</a>'\n",
              "            + ' to learn more about interactive tables.';\n",
              "          element.innerHTML = '';\n",
              "          dataTable['output_type'] = 'display_data';\n",
              "          await google.colab.output.renderOutput(dataTable, element);\n",
              "          const docLink = document.createElement('div');\n",
              "          docLink.innerHTML = docLinkHtml;\n",
              "          element.appendChild(docLink);\n",
              "        }\n",
              "      </script>\n",
              "    </div>\n",
              "  </div>\n",
              "  "
            ]
          },
          "metadata": {},
          "execution_count": 42
        }
      ]
    },
    {
      "cell_type": "markdown",
      "source": [
        "### Analyse du preprocess\n",
        "\n",
        "On regarde un peu les résultats du preprocessing : \n",
        "- combien y a-t-il de mots distincts pour chacun des deux hommes politiques ? \n",
        "- Quels sont les mots les plus utilisés par deux candidats de votre choix ? \n",
        "\n",
        "Pour cela vous vous aiderez des deux fonctions données ci-dessous"
      ],
      "metadata": {
        "id": "dD2YNL-u8ra5"
      }
    },
    {
      "cell_type": "code",
      "source": [
        "def create_big_tweet_by_userid(userid, col_text) : \n",
        "\n",
        "  ''' Fonction pour mettre tous les tweets de chaque politiciens dans un même text (string) '''\n",
        "  one_big_tweet = \" \".join(df_tweet.loc[df_tweet[\"user_id\"] == userid, col_text])\n",
        "  \n",
        "  return one_big_tweet\n",
        "  "
      ],
      "metadata": {
        "id": "fz7oYsEk804j"
      },
      "execution_count": 43,
      "outputs": []
    },
    {
      "cell_type": "code",
      "source": [
        "def get_n_most_common_words(list_words, n) :\n",
        "\n",
        "  ''' Fonction permettant de donner les n mots les plus fréquents d'une liste de mots '''\n",
        "  freq_words = nltk.FreqDist(list_words)\n",
        "  print(freq_words.most_common(n))\n"
      ],
      "metadata": {
        "id": "XzhYiX9V86sC"
      },
      "execution_count": 44,
      "outputs": []
    },
    {
      "cell_type": "markdown",
      "source": [
        "**TODO** : Si on n'utilise pas de preprocessing, quels sont les mots les plus utilisés par les 2 politiciens ?"
      ],
      "metadata": {
        "id": "tXfJ3wbz87_W"
      }
    },
    {
      "cell_type": "code",
      "source": [
        "# Créer un gros tweet pour chacun des deux politiques (qui est la jointure de l'ensemble de ses tweets)\n",
        "big_tweet_candidate1 = create_big_tweet_by_userid('Marine_Lepen', 'text_preprocess')\n",
        "big_tweet_candidate2 = create_big_tweet_by_userid('Emmanuel_Macron', 'text_preprocess')\n",
        "\n",
        "# Tokeniser le gros tweet de chacun des politiques\n",
        "tokens_candidate1 = tokenisation(big_tweet_candidate1)\n",
        "tokens_candidate2 = tokenisation(big_tweet_candidate2)\n",
        "\n",
        "# Regarder les 10 mots les plus communs pour chacun des politiques\n",
        "get_n_most_common_words(tokens_candidate1, 10)\n",
        "get_n_most_common_words(tokens_candidate2, 10)"
      ],
      "metadata": {
        "id": "zGTR_Fni89dh",
        "colab": {
          "base_uri": "https://localhost:8080/"
        },
        "outputId": "aca79ed0-7e59-436f-b3c2-c4bd212de757"
      },
      "execution_count": 45,
      "outputs": [
        {
          "output_type": "stream",
          "name": "stdout",
          "text": [
            "[('📹', 340), ('français', 288), ('france', 229), ('🏻', 205), ('👉', 178), ('pays', 124), ('présidente', 123), ('🇫', 112), ('🇷', 112), ('faut', 100)]\n",
            "[]\n"
          ]
        }
      ]
    },
    {
      "cell_type": "code",
      "source": [
        "print(\"Nombre de mots distincts dans les tweets du candidat 1 : {}\".format(len(set(tokens_candidate1))))\n",
        "print(\"Nombre de mots distincts dans les tweets du candidat 2 : {}\".format(len(set(tokens_candidate2))))"
      ],
      "metadata": {
        "colab": {
          "base_uri": "https://localhost:8080/"
        },
        "id": "SyvMl_EgMJaK",
        "outputId": "b29507c1-8fbf-4405-c501-e629f3b283c7"
      },
      "execution_count": 56,
      "outputs": [
        {
          "output_type": "stream",
          "name": "stdout",
          "text": [
            "Nombre de mots distincts dans les tweets du candidat 1 : 5356\n",
            "Nombre de mots distincts dans les tweets du candidat 2 : 0\n"
          ]
        }
      ]
    },
    {
      "cell_type": "markdown",
      "source": [
        "### Nuage de mots\n",
        "\n",
        "On trace un nuage de mots pour chacun des politiques pour voir ce qui ressort"
      ],
      "metadata": {
        "id": "KLwF2kSMBZaX"
      }
    },
    {
      "cell_type": "markdown",
      "source": [
        "**#TODO** : Faire un nuage de mots pour deux candidats de votre choix avec 30 mots"
      ],
      "metadata": {
        "id": "KrCOIzKnBcbA"
      }
    },
    {
      "cell_type": "markdown",
      "source": [
        "<details>    \n",
        "<summary>\n",
        "    <font size=\"3\" color=\"darkgreen\"><b>Aide</b></font>\n",
        "</summary>\n",
        "<p>\n",
        "<ul>\n",
        "    <li> transformer l'ensemble des tweets d'un politique en un texte unique </li>\n",
        "    <li> vous pouvez utiliser la fonction WordCloud </li>\n",
        "</ul>\n",
        "</p>"
      ],
      "metadata": {
        "id": "5vOMh7vVBdZB"
      }
    },
    {
      "cell_type": "code",
      "source": [
        "def create_wordcloud(text,nb_words):\n",
        "  wordcloud = WordCloud(max_words=nb_words,background_color=\"white\").generate(text)\n",
        "  plt.figure()\n",
        "  plt.imshow(wordcloud,interpolation=\"bilinear\")\n",
        "  plt.axis(\"off\")\n",
        "  plt.show()\n",
        "\n",
        "\n",
        "print(\"Wordcloud des mots lemmatisé de l'ensemble de tweets du candidat 1\")\n",
        "lemat_candidat1 = \" \".join(df_tweet.loc[df_tweet.user_id==\"JeanLuc_Melenchon\",\"text_preprocess\"])\n",
        "print(\"Wordcloud des mots lemmatisé de l'ensemble des tweets de Jean-Luce Mélenchon\")\n",
        "create_wordcloud(lemat_candidat1, 30)"
      ],
      "metadata": {
        "id": "7qjuwlyeBHGR",
        "colab": {
          "base_uri": "https://localhost:8080/",
          "height": 233
        },
        "outputId": "6385894a-aecd-46d9-a126-d3a9895ce293"
      },
      "execution_count": 46,
      "outputs": [
        {
          "output_type": "stream",
          "name": "stdout",
          "text": [
            "Wordcloud des mots lemmatisé de l'ensemble de tweets du candidat 1\n",
            "Wordcloud des mots lemmatisé de l'ensemble des tweets de Jean-Luce Mélenchon\n"
          ]
        },
        {
          "output_type": "display_data",
          "data": {
            "text/plain": [
              "<Figure size 432x288 with 1 Axes>"
            ],
            "image/png": "[encoded data removed]"
          },
          "metadata": {
            "needs_background": "light"
          }
        }
      ]
    },
    {
      "cell_type": "code",
      "source": [
        "lemat_candidat1 = \" \".join(df_tweet.loc[df_tweet.user_id==\"JeanLuc_Melenchon\", \"text_preprocess\"])\n",
        "print(\"Wordcloud des mots lemmatisés de l'ensemble des tweets de Jean-Luc Mélenchon\")\n",
        "create_wordcloud(lemat_candidat1, 30)"
      ],
      "metadata": {
        "colab": {
          "base_uri": "https://localhost:8080/",
          "height": 215
        },
        "id": "J-AVRXNDMPI9",
        "outputId": "7305b1ae-d218-4e5d-d52d-134ba5123166"
      },
      "execution_count": 59,
      "outputs": [
        {
          "output_type": "stream",
          "name": "stdout",
          "text": [
            "Wordcloud des mots lemmatisés de l'ensemble des tweets de Jean-Luc Mélenchon\n"
          ]
        },
        {
          "output_type": "display_data",
          "data": {
            "text/plain": [
              "<Figure size 432x288 with 1 Axes>"
            ],
            "image/png": "[encoded data removed]"
          },
          "metadata": {
            "needs_background": "light"
          }
        }
      ]
    },
    {
      "cell_type": "code",
      "source": [
        "lemat_candidat2 = \" \".join(df_tweet.loc[df_tweet.user_id==\"Eric_Zemmour\", \"text_preprocess\"])\n",
        "print(\"Wordcloud des mots lemmatisés de l'ensemble des tweets de Eric_Zemmour\")\n",
        "create_wordcloud(lemat_candidat2, 30)"
      ],
      "metadata": {
        "colab": {
          "base_uri": "https://localhost:8080/",
          "height": 215
        },
        "id": "zFZXJ1H8MT9s",
        "outputId": "3c4fcef5-d1a4-4cd1-c804-f4d74b6ea58d"
      },
      "execution_count": 60,
      "outputs": [
        {
          "output_type": "stream",
          "name": "stdout",
          "text": [
            "Wordcloud des mots lemmatisés de l'ensemble des tweets de Eric_Zemmour\n"
          ]
        },
        {
          "output_type": "display_data",
          "data": {
            "text/plain": [
              "<Figure size 432x288 with 1 Axes>"
            ],
            "image/png": "[encoded data removed]"
          },
          "metadata": {
            "needs_background": "light"
          }
        }
      ]
    },
    {
      "cell_type": "markdown",
      "source": [
        "## **4. Scattertext**\n",
        "\n",
        "Grâce à Scattertext, on va pouvoir comparer de manière visuelle la distinction de vocabulaire utilisé par deux candidats de votre choix. \n"
      ],
      "metadata": {
        "id": "latHk8oqDVV_"
      }
    },
    {
      "cell_type": "markdown",
      "source": [
        "On doit d'abord construire un corpus avec nos données : \n",
        "- donner la variable de catégorie \n",
        "- donner la variable du texte\n",
        "\n",
        "On peut rajouter le partie ```.compact(st.AssociationCompactor(4000))``` pour ne prendre en compte que les 4000 mots les plus importants dans le scattertext.\n",
        "\n",
        "**TODO** : créer le corpus avec la fonction donnée ci-dessous"
      ],
      "metadata": {
        "id": "WZIcnXL7DWVo"
      }
    },
    {
      "cell_type": "markdown",
      "source": [
        "<details>    \n",
        "<summary>\n",
        "    <font size=\"3\" color=\"darkgreen\"><b>Aide</b></font>\n",
        "</summary>\n",
        "<p>\n",
        "<ul>\n",
        "    <li> Filtrer en gardant les tweets des deux candidats de votre choix </li>\n",
        "</ul>\n",
        "</p>"
      ],
      "metadata": {
        "id": "NrCUIxwXDaTl"
      }
    },
    {
      "cell_type": "code",
      "source": [
        "df_sample = df_tweet.loc[df_tweet.user_id.isin([\"Eric_Zemmour\",\"JeanLuc_Melenchon\"])]\n",
        "\n",
        "corpus = st.CorpusFromPandas(data_frame = df_sample,\n",
        "                             category_col = \"user_id\",\n",
        "                             text_col = \"text_preprocess\",\n",
        "                             nlp = nlp).build().compact(st.AssociationCompactor(4000))"
      ],
      "metadata": {
        "id": "QNEJY-UZDbfH"
      },
      "execution_count": 47,
      "outputs": []
    },
    {
      "cell_type": "code",
      "source": [
        "# On crée le html du scattertext\n",
        "html = st.produce_scattertext_explorer(  corpus\n",
        "                                       , category                  = \"Eric_Zemmour\"\n",
        "                                       , category_name             = \"Eric Zemmour\"\n",
        "                                       , not_category_name         = \"Jean luc mélenchon\"\n",
        "                                       , minimum_term_frequency    = 10\n",
        "                                       , pmi_threshold_coefficient = 1\n",
        "                                       , term_ranker               = st.AbsoluteFrequencyRanker\n",
        "                                       , term_scorer               = st.RankDifference()\n",
        "                                       , transform                 = st.Scalers.dense_rank\n",
        "                                       , width_in_pixels           = 1000\n",
        "                                       )\n",
        "\n",
        "# On enregistre le html\n",
        "open(\"tweets_visualisation.html\", 'wb').write(html.encode('utf-8'))\n"
      ],
      "metadata": {
        "id": "X2fJ0NUHDYF8",
        "colab": {
          "base_uri": "https://localhost:8080/"
        },
        "outputId": "60aa01e5-d18f-42ee-f648-65879795a756"
      },
      "execution_count": 48,
      "outputs": [
        {
          "output_type": "execute_result",
          "data": {
            "text/plain": [
              "1230470"
            ]
          },
          "metadata": {},
          "execution_count": 48
        }
      ]
    },
    {
      "cell_type": "markdown",
      "source": [
        "## **5. Modélisation**\n",
        "\n",
        "On souhaite prédire si un tweet provient du compte de Marine Le Pen, de Jean Luc Mélenchon, d'Eric Zemmour ou d'Emmanuel Macron. Pour cela, on a besoin de : \n",
        "- Créer un échantillon train / dev\n",
        "- préparer le text (préprocessing)\n",
        "- créer des features (plusieurs méthodes : bag of words, counts of words, etc.)\n",
        "- réaliser l'algorithme\n",
        "- évaluer la performance du modèle "
      ],
      "metadata": {
        "id": "GSDJhrACJ_3N"
      }
    },
    {
      "cell_type": "markdown",
      "source": [
        "### Création des échantillons \n",
        "\n",
        "**TODO** : créer un échantillon train (70% du jeu de données total) et un échantillon test "
      ],
      "metadata": {
        "id": "8SwKVoVEKCm8"
      }
    },
    {
      "cell_type": "markdown",
      "source": [
        ""
      ],
      "metadata": {
        "id": "1HwxwHljKEvz"
      }
    },
    {
      "cell_type": "markdown",
      "source": [
        "<details>    \n",
        "<summary>\n",
        "    <font size=\"3\" color=\"darkgreen\"><b>Aide</b></font>\n",
        "</summary>\n",
        "<p>\n",
        "<ul>\n",
        "  <li> Utilisez la fonction <a href=\"https://scikit-learn.org/stable/modules/generated/sklearn.model_selection.train_test_split.html\" >train_test_split</a></li>\n",
        "  <li> Vous pouvez prendre tout le df_tweet dans le X</li>\n",
        "  <li> N'oubliez pas de rajouter un random_seed pour avoir des résultats reproductibles</li>\n",
        "</p> "
      ],
      "metadata": {
        "id": "lbF_fV40KGCP"
      }
    },
    {
      "cell_type": "code",
      "source": [
        "df_train, df_test, y_train, y_test = train_test_split(df_tweet,\n",
        "                                                      df_tweet[\"user_id\"],\n",
        "                                                      test_size=0.3,\n",
        "                                                      random_state=4362)\n",
        "    \n",
        "  #random_state : train test split il le fait de maniere aleatoire  pour que notre alleatoire reste fixe ne change pas\n",
        "    \n",
        "                                          "
      ],
      "metadata": {
        "id": "2GIkqqgYKJWs"
      },
      "execution_count": 49,
      "outputs": []
    },
    {
      "cell_type": "code",
      "source": [
        "print(f\"Nombre de tweets dans l'échantillon train : {len(df_train)}\")\n",
        "print(\"\\n\")\n",
        "print(f\"Nombre de tweets dans l'échantillon test : {len(df_test)}\")"
      ],
      "metadata": {
        "id": "o_EUkMPICF2L",
        "colab": {
          "base_uri": "https://localhost:8080/"
        },
        "outputId": "174c8765-7680-4699-caa5-fc0d2b9f76a7"
      },
      "execution_count": 50,
      "outputs": [
        {
          "output_type": "stream",
          "name": "stdout",
          "text": [
            "Nombre de tweets dans l'échantillon train : 4111\n",
            "Nombre de tweets dans l'échantillon test : 1762\n"
          ]
        }
      ]
    },
    {
      "cell_type": "markdown",
      "source": [
        "**Réponse** : \n",
        "\n",
        "Nombre de tweets dans l'échantillon train : 4449 \\\n",
        "Nombre de tweets dans l'échantillon test : 1907"
      ],
      "metadata": {
        "id": "TSGaJ5oLXWEx"
      }
    },
    {
      "cell_type": "markdown",
      "source": [
        "### Modèle de régression multinomiale sans gridsearch \n",
        "\n",
        "- Transformer le texte de df_train et df_test en vecteurs pour le modèle\n",
        "- Utiliser la régression logistique multinomiale sans paramètre\n",
        "- Regarder les paramètres sélectionnés\n",
        "- Regarder le score sur l'échantillon test\n",
        "\n",
        "**#TODO** : transformer df_train pour que ce ne soit plus des tweets, mais des vecteurs grâce à <a href=\"https://scikit-learn.org/stable/modules/generated/sklearn.feature_extraction.text.TfidfVectorizer.html\" >TfidfVectorizer</a> "
      ],
      "metadata": {
        "id": "Kc-52YN4XYQY"
      }
    },
    {
      "cell_type": "markdown",
      "source": [
        "<details>    \n",
        "<summary>\n",
        "    <font size=\"3\" color=\"darkgreen\"><b>Aide</b></font>\n",
        "</summary>\n",
        "<p>\n",
        "\n",
        "La fonction TfidfVectorizer a des paramètres que vous pouvez choisir : \n",
        "<ul>\n",
        "\n",
        "- Combien de n-grams : vous considérez mot par mot ou bien également des groupes de 2 mots\n",
        "- max_df : si vous voulez enlever un pourcentage de mots les plus fréquents\n",
        "- min_df : si vous voulez enlever un pourcentage de mots les moins fréquents\n",
        "</p> "
      ],
      "metadata": {
        "id": "uC2fWrGVXdh3"
      }
    },
    {
      "cell_type": "code",
      "source": [
        "vectorizer = TfidfVectorizer(max_df=0.9, min_df=5, ngram_range=(1,2))\n",
        "X_tfidf = vectorizer.fit_transform(df_train[\"text_preprocess\"])"
      ],
      "metadata": {
        "id": "-th5kNnQXg-6"
      },
      "execution_count": 51,
      "outputs": []
    },
    {
      "cell_type": "markdown",
      "source": [
        ""
      ],
      "metadata": {
        "id": "FmVIpoPsa-mC"
      }
    },
    {
      "cell_type": "markdown",
      "source": [
        "**#TODO** : créer le modèle de régression logistique (OVR) et entrainer le modèle sur les données d'apprentissage"
      ],
      "metadata": {
        "id": "fgXOv8O9XZFG"
      }
    },
    {
      "cell_type": "code",
      "source": [
        "# initialiser le modèle \n",
        "model = LogisticRegression(multi_class='ovr', random_state=4272)\n",
        "\n",
        "# entrainer le modèle avec les données d'apprentissage\n",
        "model_default_fit = model.fit(X_train,y_train)\n",
        "# vous pouvez voir les paramètres du modèle \n",
        "model_default_fit.get_params(deep=True)"
      ],
      "metadata": {
        "id": "9doAdfPNXjSj",
        "colab": {
          "base_uri": "https://localhost:8080/"
        },
        "outputId": "a90f6731-5ed6-4b01-b26a-9142d4d9c9f9"
      },
      "execution_count": 52,
      "outputs": [
        {
          "output_type": "execute_result",
          "data": {
            "text/plain": [
              "{'C': 1.0,\n",
              " 'class_weight': None,\n",
              " 'dual': False,\n",
              " 'fit_intercept': True,\n",
              " 'intercept_scaling': 1,\n",
              " 'l1_ratio': None,\n",
              " 'max_iter': 100,\n",
              " 'multi_class': 'ovr',\n",
              " 'n_jobs': None,\n",
              " 'penalty': 'l2',\n",
              " 'random_state': 4272,\n",
              " 'solver': 'lbfgs',\n",
              " 'tol': 0.0001,\n",
              " 'verbose': 0,\n",
              " 'warm_start': False}"
            ]
          },
          "metadata": {},
          "execution_count": 52
        }
      ]
    },
    {
      "cell_type": "code",
      "source": [
        "X_test = vectorizer.transform(df_test[\"text_preprocess\"])\n",
        "model_default_fit.score(X_train, y_train)\n"
      ],
      "metadata": {
        "id": "1xI7zfa9cDgo",
        "colab": {
          "base_uri": "https://localhost:8080/"
        },
        "outputId": "6e484864-4899-4514-a03a-51d378a94a76"
      },
      "execution_count": 53,
      "outputs": [
        {
          "output_type": "execute_result",
          "data": {
            "text/plain": [
              "0.7814982973893303"
            ]
          },
          "metadata": {},
          "execution_count": 53
        }
      ]
    },
    {
      "cell_type": "code",
      "source": [
        "model_default_fit.score(X_tfidf, y_train)\n"
      ],
      "metadata": {
        "id": "-aBlEywkczaf",
        "colab": {
          "base_uri": "https://localhost:8080/"
        },
        "outputId": "3c709e81-94cd-4bb1-e0de-14a4b0d0b8a1"
      },
      "execution_count": 54,
      "outputs": [
        {
          "output_type": "execute_result",
          "data": {
            "text/plain": [
              "0.8725370955971783"
            ]
          },
          "metadata": {},
          "execution_count": 54
        }
      ]
    },
    {
      "cell_type": "code",
      "source": [
        "print(\"le 1er tweet de l'échantillon test a été prédit : \")\n",
        "print(model_default_fit.predict(X_test[0]))"
      ],
      "metadata": {
        "colab": {
          "base_uri": "https://localhost:8080/"
        },
        "id": "SpVAgtuuNVyc",
        "outputId": "768b352e-53d3-481b-fde5-64aaffcc5ab5"
      },
      "execution_count": 61,
      "outputs": [
        {
          "output_type": "stream",
          "name": "stdout",
          "text": [
            "le 1er tweet de l'échantillon test a été prédit : \n",
            "['Eric_Zemmour']\n"
          ]
        }
      ]
    },
    {
      "cell_type": "code",
      "source": [
        "print(model_default_fit.classes_) # pour connaître l'ordre des classes / des modèles\n",
        "model_default_fit.predict_proba(X_test[0])"
      ],
      "metadata": {
        "colab": {
          "base_uri": "https://localhost:8080/"
        },
        "id": "9gVtjhD8NaHl",
        "outputId": "05040a20-d09a-4fc6-9df7-fc69af735c66"
      },
      "execution_count": 62,
      "outputs": [
        {
          "output_type": "stream",
          "name": "stdout",
          "text": [
            "['Eric_Zemmour' 'JeanLuc_Melenchon' 'Marine_Lepen']\n"
          ]
        },
        {
          "output_type": "execute_result",
          "data": {
            "text/plain": [
              "array([[0.40349722, 0.27476283, 0.32173994]])"
            ]
          },
          "metadata": {},
          "execution_count": 62
        }
      ]
    },
    {
      "cell_type": "code",
      "source": [
        "dict_params = dict(prep__text_preprocess__max_df=[0.99, 0.95, 0.9],\n",
        "                   prep__text_preprocess__min_df=[2, 5, 10],\n",
        "                   clf__C = [1,20,50],\n",
        "                   clf__penalty = ['l2'],\n",
        "                   clf__multi_class=['ovr', 'multinomial'])"
      ],
      "metadata": {
        "id": "f7Zg16qxNdoe"
      },
      "execution_count": 63,
      "outputs": []
    },
    {
      "cell_type": "code",
      "source": [
        "# Vectorisation de la variable text_preprocess\n",
        "text_transformer_tfidf =  TfidfVectorizer()\n",
        "preprocess = ColumnTransformer([(\"text_preprocess\", text_transformer_tfidf, \"text_preprocess\")], \n",
        "                               remainder=\"drop\")\n",
        "\n",
        "# Type de modèle à tester\n",
        "model = LogisticRegression(random_state=54269, max_iter=1000)\n",
        "\n",
        "# Pipeline qui combine le preprocess et le modèle\n",
        "prep_model = Pipeline(steps=[('prep',preprocess),\n",
        "                             ('clf', model)])\n",
        "\n",
        "# RANDOMIZED SEARCH\n",
        "random_search = RandomizedSearchCV( prep_model,\n",
        "                                   dict_params,\n",
        "                                   cv=5,  # cross validation de 5 échantillons\n",
        "                                   n_iter=20,\n",
        "                                   random_state=5439676,\n",
        "                                   n_jobs=-1,\n",
        "                                   verbose=1)\n",
        "\n",
        "best_rd_model = random_search.fit(df_train, y_train)"
      ],
      "metadata": {
        "colab": {
          "base_uri": "https://localhost:8080/"
        },
        "id": "_7DkfILrNgij",
        "outputId": "a92c0cb2-9ee9-468d-a944-e459be5aa312"
      },
      "execution_count": 64,
      "outputs": [
        {
          "output_type": "stream",
          "name": "stdout",
          "text": [
            "Fitting 5 folds for each of 20 candidates, totalling 100 fits\n"
          ]
        }
      ]
    },
    {
      "cell_type": "code",
      "source": [
        "# Paramètres sélectionnés  :\n",
        "# best_rd_model.cv_results_\n",
        "best_rd_model.best_estimator_"
      ],
      "metadata": {
        "colab": {
          "base_uri": "https://localhost:8080/"
        },
        "id": "-YsnJ-DKNktY",
        "outputId": "76585178-62e1-4b59-9995-ceed0c069f9f"
      },
      "execution_count": 65,
      "outputs": [
        {
          "output_type": "execute_result",
          "data": {
            "text/plain": [
              "Pipeline(steps=[('prep',\n",
              "                 ColumnTransformer(transformers=[('text_preprocess',\n",
              "                                                  TfidfVectorizer(max_df=0.99,\n",
              "                                                                  min_df=2),\n",
              "                                                  'text_preprocess')])),\n",
              "                ('clf',\n",
              "                 LogisticRegression(C=20, max_iter=1000, multi_class='ovr',\n",
              "                                    random_state=54269))])"
            ]
          },
          "metadata": {},
          "execution_count": 65
        }
      ]
    },
    {
      "cell_type": "code",
      "source": [
        "best_rd_model.best_score_\n",
        "# Mon résultat est 0.74"
      ],
      "metadata": {
        "colab": {
          "base_uri": "https://localhost:8080/"
        },
        "id": "Yf2eaRt3N9Ff",
        "outputId": "8fc21c16-1985-47ce-bb93-aba06aa91e33"
      },
      "execution_count": 66,
      "outputs": [
        {
          "output_type": "execute_result",
          "data": {
            "text/plain": [
              "0.7985901085873592"
            ]
          },
          "metadata": {},
          "execution_count": 66
        }
      ]
    },
    {
      "cell_type": "code",
      "source": [
        "best_rd_model.score(df_test, y_test)\n",
        "# Mon résultat est 0.75"
      ],
      "metadata": {
        "colab": {
          "base_uri": "https://localhost:8080/"
        },
        "id": "c02IqW99N-qK",
        "outputId": "e789ab54-68d5-4989-ce75-bc026ad9d7f2"
      },
      "execution_count": 67,
      "outputs": [
        {
          "output_type": "execute_result",
          "data": {
            "text/plain": [
              "0.8149829738933031"
            ]
          },
          "metadata": {},
          "execution_count": 67
        }
      ]
    },
    {
      "cell_type": "code",
      "source": [
        "#matrice de confusion\n",
        "#confrontation entre Y obs. sur l’éch. test et la prédiction\n",
        "predictions = best_rd_model.predict(df_test)\n",
        "\n",
        "cm = confusion_matrix(y_test, \n",
        "                      predictions, \n",
        "                      labels=best_rd_model.classes_)\n",
        "\n",
        "disp = ConfusionMatrixDisplay(confusion_matrix=cm,\n",
        "                              display_labels=best_rd_model.classes_)\n",
        "disp.plot(cmap=plt.cm.Blues,values_format='g',xticks_rotation='vertical')\n",
        "plt.show()"
      ],
      "metadata": {
        "colab": {
          "base_uri": "https://localhost:8080/",
          "height": 367
        },
        "id": "qCKTnO3KOBxu",
        "outputId": "5eb1fa92-f5da-4122-d066-15db38c78162"
      },
      "execution_count": 68,
      "outputs": [
        {
          "output_type": "display_data",
          "data": {
            "text/plain": [
              "<Figure size 432x288 with 2 Axes>"
            ],
            "image/png": "[encoded data removed]"
          },
          "metadata": {
            "needs_background": "light"
          }
        }
      ]
    },
    {
      "cell_type": "code",
      "source": [
        "#On peut aussi retrouver le résultat via cette fonction\n",
        "print(classification_report(y_test, best_rd_model.predict(df_test)))"
      ],
      "metadata": {
        "colab": {
          "base_uri": "https://localhost:8080/"
        },
        "id": "RIkJSRN5OFK-",
        "outputId": "048e48df-be1e-4971-8bdf-aa073b43961b"
      },
      "execution_count": 69,
      "outputs": [
        {
          "output_type": "stream",
          "name": "stdout",
          "text": [
            "                   precision    recall  f1-score   support\n",
            "\n",
            "     Eric_Zemmour       0.77      0.79      0.78       573\n",
            "JeanLuc_Melenchon       0.85      0.89      0.87       845\n",
            "     Marine_Lepen       0.80      0.68      0.73       344\n",
            "\n",
            "         accuracy                           0.81      1762\n",
            "        macro avg       0.81      0.79      0.79      1762\n",
            "     weighted avg       0.81      0.81      0.81      1762\n",
            "\n"
          ]
        }
      ]
    },
    {
      "cell_type": "code",
      "source": [
        "from sklearn.metrics import confusion_matrix\n",
        "\n",
        "pred_test = model_default_fit.predict(X_test)\n",
        "cm = confusion_matrix(y_test, pred_test,labels=model_default_fit.classes_)\n",
        "disp = ConfusionMatrixDisplay(confusion_matrix=cm,\n",
        "                              display_labels=model_default_fit.classes_)\n",
        "disp.plot(xticks_rotation='vertical')\n",
        "plt.show()"
      ],
      "metadata": {
        "id": "pTYGDNZJfK9b",
        "colab": {
          "base_uri": "https://localhost:8080/",
          "height": 367
        },
        "outputId": "690dfc28-e466-49e8-840b-7937d0193443"
      },
      "execution_count": 55,
      "outputs": [
        {
          "output_type": "display_data",
          "data": {
            "text/plain": [
              "<Figure size 432x288 with 2 Axes>"
            ],
            "image/png": "[encoded data removed]"
          },
          "metadata": {
            "needs_background": "light"
          }
        }
      ]
    }
  ]
}